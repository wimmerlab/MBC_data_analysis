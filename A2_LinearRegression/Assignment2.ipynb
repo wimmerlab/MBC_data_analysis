{
 "cells": [
  {
   "cell_type": "markdown",
   "metadata": {
    "colab_type": "text",
    "id": "pxFPNerzM0Bh"
   },
   "source": [
    "### Assignment 2: Linear regression"
   ]
  },
  {
   "cell_type": "markdown",
   "metadata": {},
   "source": [
    "**In this assignment, we will see:**\n",
    "- how to assess the impact of an experimental factor on our experimental measurement using **linear regression**\n",
    "- how to check the validity of linear regression assumptions in a dataset\n",
    "- how to **design regressors** to answer a specific scientific question\n",
    "- how to take into account the hetereogeneity of our sample population using **linear mixed models**"
   ]
  },
  {
   "cell_type": "markdown",
   "metadata": {},
   "source": [
    "<div class=\"alert alert-block alert-warning\">\n",
    "<b>Preparing for this assignment:</b> \n",
    "\n",
    "The following resources will help you to get ready to complete this assignment. \n",
    "<ul>\n",
    "    <li>Watch <a href=\"https://www.youtube.com/watch?v=KsVBBJRb9TE\" target=\"_blank\">this video</a> and then follow with <a href=\"https://www.youtube.com/watch?v=xIDjj6ZyFuw\" target=\"_blank\">this video</a> to learn the concepts about simple linear regression</li>\n",
    "    <li>For a complementary look on linear regression that put its into the more general framework of model fitting, watch <a href=\"https://www.youtube.com/watch?v=9JfXKmVB6qc\" target=\"_blank\">this video</a> (until 15:10) and then follow with <a href=\"https://www.youtube.com/watch?v=HumajfjJ37E\" target=\"_blank\">this video</a> (linear regression by minimizing squared errors) and <a href=\"https://www.youtube.com/watch?v=8mpNmzLKNfU\" target=\"_blank\">this one</a> (linear regression by maximizing likelihood). These are parts of the material for Model Fitting day from Neuromatch Academy which are accessible <a href=\"https://compneuro.neuromatch.io/tutorials/W1D2_ModelFitting/chapter_title.html\" target=\"_blank\">here</a>. </li>\n",
    "    <li> (Very optional) See <a href=\"https://www.cns.nyu.edu/~eero/NOTES/leastSquares.pdf\" target=\"_blank\">these notes</a> from Eero Simoncelli (NYU) if you want to delve more into the mathematics related to linear regression</li>\n",
    "</ul>\n",
    "</div>"
   ]
  },
  {
   "cell_type": "markdown",
   "metadata": {},
   "source": [
    "## Load the numerical judgment dataset"
   ]
  },
  {
   "cell_type": "markdown",
   "metadata": {},
   "source": [
    "We will now use the dataset from the other experiment from the article that we used in the previous two tutorials (Talluri et al.,*Current Biology*): the **numerical judgment dataset**. The paradigm is presented in Figure 3 of the [article](https://www.cell.com/action/showPdf?pii=S0960-9822%2818%2930982-5). The structure of each trial is conceptually identical to the orientation judgment task:\n",
    "- first, a stimulus (here a sequence of number)\n",
    "- a discrimination task on this first stimulus (is the mean larger than 50?)\n",
    "- then a second stimulus (another sequence of numbers)\n",
    "- finally, a numerical judgment task (report the mean over the *two* sequences).\n",
    "\n",
    "We will address with linear regression the scientific question under focus in the original article: **is the judgment task corrupted by a confirmatory bias, i.e. a tendency to align their judgment with the intermittent choice?** More specifically, we will ask **whether subjects downweight evidence from the second stimulus if it is at odds with their intermediate choice** (i.e. if their intermediate choice was \">50\" and numbers in the second stimuli are small). The analyses we run will be a simplified version of the analyses in the original article.\n",
    "\n",
    "Load the data as a Pandas dataframe (as in Assignment 1). `x1` now represents the average value of numbers in the first sequence, and correspondingly for `x2`. Note also that this dataframe has one extra column, `binchoice`, which codes for the response of the subject on the classification task after stimulus 1 (-1: \"<50\"; 1: \">50\")."
   ]
  },
  {
   "cell_type": "code",
   "execution_count": 1,
   "metadata": {
    "scrolled": true
   },
   "outputs": [
    {
     "data": {
      "text/html": [
       "<div>\n",
       "<style scoped>\n",
       "    .dataframe tbody tr th:only-of-type {\n",
       "        vertical-align: middle;\n",
       "    }\n",
       "\n",
       "    .dataframe tbody tr th {\n",
       "        vertical-align: top;\n",
       "    }\n",
       "\n",
       "    .dataframe thead th {\n",
       "        text-align: right;\n",
       "    }\n",
       "</style>\n",
       "<table border=\"1\" class=\"dataframe\">\n",
       "  <thead>\n",
       "    <tr style=\"text-align: right;\">\n",
       "      <th></th>\n",
       "      <th>x1</th>\n",
       "      <th>binchoice</th>\n",
       "      <th>x2</th>\n",
       "      <th>xavg</th>\n",
       "      <th>estim</th>\n",
       "      <th>subj</th>\n",
       "    </tr>\n",
       "  </thead>\n",
       "  <tbody>\n",
       "    <tr>\n",
       "      <th>0</th>\n",
       "      <td>45.375</td>\n",
       "      <td>-1</td>\n",
       "      <td>41.625</td>\n",
       "      <td>43.5000</td>\n",
       "      <td>44</td>\n",
       "      <td>1</td>\n",
       "    </tr>\n",
       "    <tr>\n",
       "      <th>1</th>\n",
       "      <td>47.500</td>\n",
       "      <td>1</td>\n",
       "      <td>38.625</td>\n",
       "      <td>43.0625</td>\n",
       "      <td>41</td>\n",
       "      <td>1</td>\n",
       "    </tr>\n",
       "    <tr>\n",
       "      <th>2</th>\n",
       "      <td>47.750</td>\n",
       "      <td>1</td>\n",
       "      <td>57.500</td>\n",
       "      <td>52.6250</td>\n",
       "      <td>54</td>\n",
       "      <td>1</td>\n",
       "    </tr>\n",
       "    <tr>\n",
       "      <th>3</th>\n",
       "      <td>46.625</td>\n",
       "      <td>-1</td>\n",
       "      <td>38.375</td>\n",
       "      <td>42.5000</td>\n",
       "      <td>40</td>\n",
       "      <td>1</td>\n",
       "    </tr>\n",
       "    <tr>\n",
       "      <th>4</th>\n",
       "      <td>47.250</td>\n",
       "      <td>-1</td>\n",
       "      <td>41.375</td>\n",
       "      <td>44.3125</td>\n",
       "      <td>45</td>\n",
       "      <td>1</td>\n",
       "    </tr>\n",
       "  </tbody>\n",
       "</table>\n",
       "</div>"
      ],
      "text/plain": [
       "       x1  binchoice      x2     xavg  estim  subj\n",
       "0  45.375         -1  41.625  43.5000     44     1\n",
       "1  47.500          1  38.625  43.0625     41     1\n",
       "2  47.750          1  57.500  52.6250     54     1\n",
       "3  46.625         -1  38.375  42.5000     40     1\n",
       "4  47.250         -1  41.375  44.3125     45     1"
      ]
     },
     "execution_count": 1,
     "metadata": {},
     "output_type": "execute_result"
    }
   ],
   "source": [
    "# import typical packages\n",
    "import numpy as np\n",
    "import matplotlib.pyplot as plt\n",
    "import pandas as pd\n",
    "\n",
    "# load the data from github\n",
    "df = pd.read_csv(\"https://raw.githubusercontent.com/wimmerlab/MBC_data_analysis/main/A2_LinearRegression/Task_Numerical.csv\",sep=',')\n",
    "\n",
    "# uncomment if you prefer to load the data locally\n",
    "#df = pd.read_csv(\"Task_Numerical.csv\",sep=',')\n",
    "\n",
    "# list of subjects\n",
    "subjects = np.unique(df.subj)\n",
    "\n",
    "df.head()"
   ]
  },
  {
   "cell_type": "markdown",
   "metadata": {},
   "source": [
    "## 1. Simple linear regression\n",
    "We will start by looking at the relationship between the subject report $y$ (i.e. variable `estim`, the reported mean at the end of the sequence) and a single measure: the mean over the whole sequence ``xavg``. We will assume a linear relationship: $y = \\beta_1 xavg + \\beta_0 + \\text{noise}$, where $\\beta_0$ is the intercept,  $\\beta_1$ is the slope, and the noise is zero-mean gaussian (with constant variance). This is the generative formula for simple linear regression. Our goal here is to estimate the values of the parameters $(\\beta_0,\\beta_1)$ from the data. \n",
    "\n",
    "### 1.1 Naive fitting\n",
    "To start with, we will adopt a naive strategy where we adjust manually the linear curve (i.e. the formula above, without the noise) so it captures the data as good as possible. This should give us more insight about the role of the intercept and slope.\n",
    "\n",
    "**Define a function that captures the linear relationship between xavg and y,  taking the intercept and slope as input.**"
   ]
  },
  {
   "cell_type": "code",
   "execution_count": 2,
   "metadata": {},
   "outputs": [],
   "source": [
    "def linear_function(x, beta0, beta1):\n",
    "    \"\"\"\n",
    "    Computes the linear function \n",
    "    Args:\n",
    "       X (array): value(s) of the regressor\n",
    "       beta0 (float): intercept\n",
    "       beta1 (float): slope\n",
    "    \"\"\"\n",
    "    \n",
    "    # use linear relationship\n",
    "    y = ??\n",
    "    \n",
    "    # output the result\n",
    "    return ??"
   ]
  },
  {
   "cell_type": "markdown",
   "metadata": {},
   "source": [
    "Now **complete the code below and run the cell**. It plots the function with have just defined (red line), along with the data points from one subject (each blue point represents a single trial). **Adjust the value of the slides to best capture the relationship between the average stimulus and the report from the data**."
   ]
  },
  {
   "cell_type": "code",
   "execution_count": 3,
   "metadata": {},
   "outputs": [
    {
     "data": {
      "application/vnd.jupyter.widget-view+json": {
       "model_id": "e50b50e871bc40e1ba49ccd5307881da",
       "version_major": 2,
       "version_minor": 0
      },
      "text/plain": [
       "interactive(children=(FloatSlider(value=20.0, description='beta0', max=50.0), FloatSlider(value=0.1, descripti…"
      ]
     },
     "metadata": {},
     "output_type": "display_data"
    }
   ],
   "source": [
    "import ipywidgets as widgets       # interactive display\n",
    "#@title\n",
    "\n",
    "#select data from subject 1\n",
    "df1 = df[??]\n",
    "\n",
    "#@markdown Make sure you execute this cell to enable the widget!\n",
    "\n",
    "@widgets.interact(\n",
    "    beta0 =widgets.FloatSlider(20, min=0, max=50), # default, min and max values for intercept\n",
    "    beta1 =widgets.FloatSlider(0.1, min=0.0, max=1.0)) # defaul, min and max values for slope\n",
    "\n",
    "def plot_data_estimate(beta0, beta1):\n",
    "   \n",
    "    # set x-values for your prediction, linearly scaled values (could be just two as we're drawing a line)\n",
    "    x_data = np.linspace(35,65,10)\n",
    "    \n",
    "    # given the values in x_data, predict y_data values from our model with given parameters\n",
    "    y_data = linear_function(x_data, beta0, beta1)  \n",
    "    \n",
    "    # plot\n",
    "    plt.plot(??, ??, 'r') # plot the model prediction with a line\n",
    "    plt.plot(??, ??, 'bo') # now plot the true data from our dataframe df as dots\n",
    "    plt.xlabel(??);\n",
    "    plt.ylabel(??);\n",
    "\n",
    "    # Add a dotted line indicating the identity line\n",
    "    plt.plot(x_data, x_data, linestyle='--', color='gray');\n",
    "    \n",
    "    plt.show(); # needed in Colab"
   ]
  },
  {
   "cell_type": "markdown",
   "metadata": {},
   "source": [
    "This was nice but we ignored the stochastic part of the linear regression model (the added Gaussian noise) which we would like to estimate as well, as it gives us an estimate of how much the model cannot explain about the data. To do so, we now need to simulate the model with noise and compare the distributions of points to the experimental one.\n",
    "First, **write a function that simulates the linear regression model (with noise), given some values of the regressor $xavg$ and parameter values**. Parameters now include the intercept $\\beta_0$, the slope $\\beta_1$ and also $\\sigma$, the standard deviation of the Gaussian noise. A Gaussian random variable can be drawn using `normal` from the `numpy` package."
   ]
  },
  {
   "cell_type": "code",
   "execution_count": 4,
   "metadata": {},
   "outputs": [],
   "source": [
    "#import function\n",
    "from numpy.random import normal\n",
    "\n",
    "# define function that simulates the linear regression model\n",
    "def generate_linear_model(x, intercept, slope, sigma):\n",
    "    \"\"\"\n",
    "    Simulates the simple linear model \n",
    "    Args:\n",
    "       X (array): value(s) of the regressor\n",
    "       beta0 (float): intercept\n",
    "       beta1 (float): slope\n",
    "       sigma (float): standard deviation of noise parameter\n",
    "    \"\"\"  \n",
    "    \n",
    "    # use linear relationship\n",
    "    y = ??\n",
    "    \n",
    "    # add gaussian noise with standard deviation = sigma\n",
    "    n = len(x)\n",
    "    y = y + ??\n",
    "    \n",
    "    # output the result\n",
    "    return ??"
   ]
  },
  {
   "cell_type": "markdown",
   "metadata": {},
   "source": [
    "Now run the cell below where the black dots represent model simulations while blue dots represent the data. Play with the knobs and **adjust the parameter values to match the two distribution qualitatively**."
   ]
  },
  {
   "cell_type": "code",
   "execution_count": 5,
   "metadata": {},
   "outputs": [
    {
     "data": {
      "application/vnd.jupyter.widget-view+json": {
       "model_id": "41838df4a6794ba799395ba726e33ddb",
       "version_major": 2,
       "version_minor": 0
      },
      "text/plain": [
       "interactive(children=(FloatSlider(value=20.0, description='beta0', max=50.0), FloatSlider(value=0.1, descripti…"
      ]
     },
     "metadata": {},
     "output_type": "display_data"
    }
   ],
   "source": [
    "@widgets.interact(\n",
    "    beta0 =widgets.FloatSlider(20, min=0, max=50), # default, min and max values for intercept\n",
    "    beta1 =widgets.FloatSlider(0.1, min=0.0, max=1.0), # defaul, min and max values for slope\n",
    "    sigma = widgets.FloatSlider(1, min=0.0, max=20.0)) # defaul, min and max values for noise\n",
    "\n",
    "def plot_simulated_vs_real_data_estimate(beta0, beta1, sigma):\n",
    "   \n",
    "     # set x-values for your prediction, same as original dataset\n",
    "    x_data = df1.xavg\n",
    "    \n",
    "     # given the values in x_data, predict y_data values from model with given parameters\n",
    "    y_data = generate_linear_model(x_data, beta0, beta1,sigma) \n",
    "    \n",
    "    #plot\n",
    "    plt.plot(??, ??, 'ko') # plot the model prediction with black dots\n",
    "    plt.plot(???) # now plot the true data from our dataframe df as blue dots\n",
    "    plt.xlabel(??);\n",
    "    plt.ylabel(??);\n",
    "\n",
    "    # Add a dotted line indicating the identity line\n",
    "    plt.plot(x_data, x_data, linestyle='--', color='gray');\n",
    "    \n",
    "    plt.show(); # needed in Colab"
   ]
  },
  {
   "cell_type": "markdown",
   "metadata": {},
   "source": [
    "### 1.2 Least-square regression\n",
    "\n",
    "We will now use a more principled approach called Ordinary Least-Square (OLS) regression, which minimizes the overall estimation error of the linear model. More precisely, it looks for the parameters $(\\beta_0,\\beta_1)$ that minimizes the sum over trials of the squares of errors.\n",
    "**Run OLS regression for subject 1 and obtain the coefficients of the linear regression that fits the data.**\n",
    "\n",
    " We can run this analysis with the function `ols` in `statsmodel.formula.api`. You just need to specify the formula (the dependent variable on the left, and the regressor(s) on the right) and the dataframe for the corresponding data. "
   ]
  },
  {
   "cell_type": "code",
   "execution_count": 6,
   "metadata": {
    "ExecuteTime": {
     "end_time": "2022-02-04T22:46:53.929474Z",
     "start_time": "2022-02-04T22:46:53.866909Z"
    },
    "colab": {},
    "colab_type": "code",
    "id": "dONKI852M0Ed",
    "outputId": "d9e824c3-8060-443d-f4ad-5295ab98e8d2",
    "scrolled": true
   },
   "outputs": [
    {
     "name": "stdout",
     "output_type": "stream",
     "text": [
      "Coefficients: Intercept    21.133246\n",
      "xavg          0.658960\n",
      "dtype: float64\n"
     ]
    }
   ],
   "source": [
    "# import OLS from statsmodel package\n",
    "from statsmodels.formula.api import ols\n",
    "\n",
    "# define model formula and database (point to a dataframe)\n",
    "mod = ols(formula = ??', data=??)\n",
    "\n",
    "# fit the model\n",
    "res = mod.fit()\n",
    "\n",
    "# The coefficients\n",
    "print('Coefficients:', res.params)"
   ]
  },
  {
   "cell_type": "markdown",
   "metadata": {},
   "source": [
    "You get a more complete summary using the command `summary`, including the $R^2$ (how much variance in the dependent variable does the model explains, from 0 to 1), and the confidence interval for each parameter - very useful if we want to determine if a weight is statistically different from 0 (check also the T-statistic)."
   ]
  },
  {
   "cell_type": "code",
   "execution_count": 7,
   "metadata": {
    "scrolled": true
   },
   "outputs": [
    {
     "data": {
      "text/html": [
       "<table class=\"simpletable\">\n",
       "<caption>OLS Regression Results</caption>\n",
       "<tr>\n",
       "  <th>Dep. Variable:</th>          <td>estim</td>      <th>  R-squared:         </th> <td>   0.251</td>\n",
       "</tr>\n",
       "<tr>\n",
       "  <th>Model:</th>                   <td>OLS</td>       <th>  Adj. R-squared:    </th> <td>   0.241</td>\n",
       "</tr>\n",
       "<tr>\n",
       "  <th>Method:</th>             <td>Least Squares</td>  <th>  F-statistic:       </th> <td>   26.77</td>\n",
       "</tr>\n",
       "<tr>\n",
       "  <th>Date:</th>             <td>Thu, 25 Jan 2024</td> <th>  Prob (F-statistic):</th> <td>1.66e-06</td>\n",
       "</tr>\n",
       "<tr>\n",
       "  <th>Time:</th>                 <td>10:45:21</td>     <th>  Log-Likelihood:    </th> <td> -243.67</td>\n",
       "</tr>\n",
       "<tr>\n",
       "  <th>No. Observations:</th>      <td>    82</td>      <th>  AIC:               </th> <td>   491.3</td>\n",
       "</tr>\n",
       "<tr>\n",
       "  <th>Df Residuals:</th>          <td>    80</td>      <th>  BIC:               </th> <td>   496.2</td>\n",
       "</tr>\n",
       "<tr>\n",
       "  <th>Df Model:</th>              <td>     1</td>      <th>                     </th>     <td> </td>   \n",
       "</tr>\n",
       "<tr>\n",
       "  <th>Covariance Type:</th>      <td>nonrobust</td>    <th>                     </th>     <td> </td>   \n",
       "</tr>\n",
       "</table>\n",
       "<table class=\"simpletable\">\n",
       "<tr>\n",
       "      <td></td>         <th>coef</th>     <th>std err</th>      <th>t</th>      <th>P>|t|</th>  <th>[0.025</th>    <th>0.975]</th>  \n",
       "</tr>\n",
       "<tr>\n",
       "  <th>Intercept</th> <td>   21.1332</td> <td>    6.473</td> <td>    3.265</td> <td> 0.002</td> <td>    8.252</td> <td>   34.015</td>\n",
       "</tr>\n",
       "<tr>\n",
       "  <th>xavg</th>      <td>    0.6590</td> <td>    0.127</td> <td>    5.174</td> <td> 0.000</td> <td>    0.406</td> <td>    0.912</td>\n",
       "</tr>\n",
       "</table>\n",
       "<table class=\"simpletable\">\n",
       "<tr>\n",
       "  <th>Omnibus:</th>       <td> 0.613</td> <th>  Durbin-Watson:     </th> <td>   1.426</td>\n",
       "</tr>\n",
       "<tr>\n",
       "  <th>Prob(Omnibus):</th> <td> 0.736</td> <th>  Jarque-Bera (JB):  </th> <td>   0.579</td>\n",
       "</tr>\n",
       "<tr>\n",
       "  <th>Skew:</th>          <td> 0.197</td> <th>  Prob(JB):          </th> <td>   0.749</td>\n",
       "</tr>\n",
       "<tr>\n",
       "  <th>Kurtosis:</th>      <td> 2.879</td> <th>  Cond. No.          </th> <td>    623.</td>\n",
       "</tr>\n",
       "</table><br/><br/>Notes:<br/>[1] Standard Errors assume that the covariance matrix of the errors is correctly specified."
      ],
      "text/plain": [
       "<class 'statsmodels.iolib.summary.Summary'>\n",
       "\"\"\"\n",
       "                            OLS Regression Results                            \n",
       "==============================================================================\n",
       "Dep. Variable:                  estim   R-squared:                       0.251\n",
       "Model:                            OLS   Adj. R-squared:                  0.241\n",
       "Method:                 Least Squares   F-statistic:                     26.77\n",
       "Date:                Thu, 25 Jan 2024   Prob (F-statistic):           1.66e-06\n",
       "Time:                        10:45:21   Log-Likelihood:                -243.67\n",
       "No. Observations:                  82   AIC:                             491.3\n",
       "Df Residuals:                      80   BIC:                             496.2\n",
       "Df Model:                           1                                         \n",
       "Covariance Type:            nonrobust                                         \n",
       "==============================================================================\n",
       "                 coef    std err          t      P>|t|      [0.025      0.975]\n",
       "------------------------------------------------------------------------------\n",
       "Intercept     21.1332      6.473      3.265      0.002       8.252      34.015\n",
       "xavg           0.6590      0.127      5.174      0.000       0.406       0.912\n",
       "==============================================================================\n",
       "Omnibus:                        0.613   Durbin-Watson:                   1.426\n",
       "Prob(Omnibus):                  0.736   Jarque-Bera (JB):                0.579\n",
       "Skew:                           0.197   Prob(JB):                        0.749\n",
       "Kurtosis:                       2.879   Cond. No.                         623.\n",
       "==============================================================================\n",
       "\n",
       "Notes:\n",
       "[1] Standard Errors assume that the covariance matrix of the errors is correctly specified.\n",
       "\"\"\""
      ]
     },
     "execution_count": 7,
     "metadata": {},
     "output_type": "execute_result"
    }
   ],
   "source": [
    "#print the summary\n",
    "res.summary()"
   ]
  },
  {
   "cell_type": "markdown",
   "metadata": {},
   "source": [
    "**Interpret the value of $R^2$.**"
   ]
  },
  {
   "cell_type": "markdown",
   "metadata": {},
   "source": []
  },
  {
   "cell_type": "markdown",
   "metadata": {},
   "source": [
    "**How do the fitted coefficients compare to the ones we adjusted by hand?** "
   ]
  },
  {
   "cell_type": "markdown",
   "metadata": {},
   "source": []
  },
  {
   "cell_type": "markdown",
   "metadata": {},
   "source": [
    "What about the noise parameter $\\sigma$? The estimated value is not provided directly in the table but we can easily compute it as the *root mean square error* (RMSE), i.e. $\\hat \\sigma = \\sqrt {\\frac 1 n \\sum_i e_i^2}$ where $ \\frac 1 n \\sum_i()$ refers to the mean over trials and $e_i$ is the *residual* (or error) for trial $i$, i.e. the difference on each trial between the expected value of the report (following the noiseless linear relationship) and the observed value.\n",
    "The array of residuals can be obtained using `res.resid`.\n",
    "**Compute the root mean square error.**"
   ]
  },
  {
   "cell_type": "code",
   "execution_count": 8,
   "metadata": {},
   "outputs": [
    {
     "name": "stdout",
     "output_type": "stream",
     "text": [
      "Root Mean Squared Error (RMSE): 4.724205577915149\n"
     ]
    }
   ],
   "source": [
    "# Compute the mean square error\n",
    "mse = ???\n",
    "\n",
    "# Take the square root\n",
    "rmse = ??\n",
    "\n",
    "print(\"Root Mean Squared Error (RMSE):\", rmse)"
   ]
  },
  {
   "cell_type": "markdown",
   "metadata": {},
   "source": [
    "**Compare to the value of noise adjusted by hand.**"
   ]
  },
  {
   "cell_type": "markdown",
   "metadata": {},
   "source": []
  },
  {
   "cell_type": "markdown",
   "metadata": {},
   "source": [
    "### 1.3 Analysis of residuals\n",
    "Should we believe these results? \n",
    "\n",
    "One of the underlying assumption when using linear regression is the **normal distribution of independent residual errors**. It basically means two things:\n",
    "- that the noise in the model should be independent from the value of the regressor (a property that goes by the ugly name of *homoskedasticity*). Sometimes this hypothesis is not met, usually because of outliers, and that can corrupt the result of our analysis. We can check whether this is the case *a posteriori* by looking at the profile of the residuals.  The variability of these residuals should not change depending on the regressor value (here, stimulus average).\n",
    "- That the noise comes a Gaussian distribution. For this, we can check a posterior that distribution the residuals is more or less Gaussian.\n",
    "\n",
    "Watch the [second video on linear regression above](https://youtu.be/xIDjj6ZyFuw?si=QES8GYRwbY4H8Lu0&t=290) to understand these checks.\n",
    "\n",
    "Let's perform the first check . **Check this by plotting a scatter plot of model residuals vs. the value of the regressor**. Note that this is basically equivalent to removing the linear trend from the scatter plot of (stimulus, response)."
   ]
  },
  {
   "cell_type": "code",
   "execution_count": 9,
   "metadata": {},
   "outputs": [
    {
     "data": {
      "image/png": "[encoded data removed]",
      "text/plain": [
       "<Figure size 640x480 with 1 Axes>"
      ]
     },
     "metadata": {},
     "output_type": "display_data"
    }
   ],
   "source": [
    "plt.figure();\n",
    "\n",
    "# plot the residuals versus the independent variable X in a scatter plot\n",
    "plt.?????\n",
    "plt.ylabel(??);\n",
    "plt.xlabel(??);"
   ]
  },
  {
   "cell_type": "markdown",
   "metadata": {},
   "source": [
    "**What do we learn from this plot?**"
   ]
  },
  {
   "cell_type": "markdown",
   "metadata": {},
   "source": []
  },
  {
   "cell_type": "markdown",
   "metadata": {},
   "source": [
    "Now let's perform the second check: that the residuals are normally distributed. **Plot the distribution of residuals.**"
   ]
  },
  {
   "cell_type": "code",
   "execution_count": 10,
   "metadata": {},
   "outputs": [
    {
     "data": {
      "image/png": "[encoded data removed]",
      "text/plain": [
       "<Figure size 640x480 with 1 Axes>"
      ]
     },
     "metadata": {},
     "output_type": "display_data"
    }
   ],
   "source": [
    "plt.figure;\n",
    "plt.????\n",
    "plt.xlabel(??);\n",
    "plt.ylabel(??);"
   ]
  },
  {
   "cell_type": "markdown",
   "metadata": {},
   "source": [
    "**What do you conclude?**"
   ]
  },
  {
   "cell_type": "markdown",
   "metadata": {},
   "source": []
  },
  {
   "cell_type": "markdown",
   "metadata": {},
   "source": [
    "This can be done in a more principled manner using quantile-quantile plots with `probplot` (from the `scipy` package). This is some (nonlinear) rescaling the cumulative histogram of the residuals so that, if the residuals are indeed normally distributed, the curve (marked by blue points) should not depart too far from the (red) diagonal line. As you can see, this is the case (except perhaps the little deviation on the far right which is due to the two errors larger than 10 - those two trials may be outliers)."
   ]
  },
  {
   "cell_type": "code",
   "execution_count": 11,
   "metadata": {
    "scrolled": true
   },
   "outputs": [
    {
     "data": {
      "image/png": "[encoded data removed]",
      "text/plain": [
       "<Figure size 640x480 with 1 Axes>"
      ]
     },
     "metadata": {},
     "output_type": "display_data"
    }
   ],
   "source": [
    "# import the function\n",
    "from scipy.stats import probplot\n",
    "\n",
    "# draw quantile-quantile plot\n",
    "plt.figure;\n",
    "probplot(res.resid, plot=plt);"
   ]
  },
  {
   "cell_type": "markdown",
   "metadata": {},
   "source": [
    "**What do you conclude from all these checks?**"
   ]
  },
  {
   "cell_type": "markdown",
   "metadata": {},
   "source": []
  },
  {
   "cell_type": "markdown",
   "metadata": {},
   "source": [
    "## 2. Multiple linear regression\n",
    "Multiple linear regression extends the framework above to **estimate jointly the impact of various regressors** (or *independent variables*) on the dependent variable. For example, the simple linear regression above used only the average of the two stimuli as a regressor, which implicitly assumes that both stimuli have the same impact on participant reports. But there is no reason to assume it, and indeed across many tasks humans and non-human subjects tend to weigh differently different pieces of information when they are provided sequentially. Sometimes they weigh more the earlier stimuli (*primacy effect*), sometimes they weigh more the later stimuli (*recency effect*), sometimes it's more complicated.\n",
    "We can estimate this using multiple linear regression where each stimuli are provided as independent regressors.\n",
    "**Implement this regression analysis, again for subject 1.** You basically just need to update the formula from the single linear model, replacing the single regressor with the sum of the two regressors."
   ]
  },
  {
   "cell_type": "code",
   "execution_count": 12,
   "metadata": {},
   "outputs": [
    {
     "data": {
      "text/html": [
       "<table class=\"simpletable\">\n",
       "<caption>OLS Regression Results</caption>\n",
       "<tr>\n",
       "  <th>Dep. Variable:</th>          <td>estim</td>      <th>  R-squared:         </th> <td>   0.281</td>\n",
       "</tr>\n",
       "<tr>\n",
       "  <th>Model:</th>                   <td>OLS</td>       <th>  Adj. R-squared:    </th> <td>   0.263</td>\n",
       "</tr>\n",
       "<tr>\n",
       "  <th>Method:</th>             <td>Least Squares</td>  <th>  F-statistic:       </th> <td>   15.46</td>\n",
       "</tr>\n",
       "<tr>\n",
       "  <th>Date:</th>             <td>Thu, 25 Jan 2024</td> <th>  Prob (F-statistic):</th> <td>2.15e-06</td>\n",
       "</tr>\n",
       "<tr>\n",
       "  <th>Time:</th>                 <td>10:46:20</td>     <th>  Log-Likelihood:    </th> <td> -241.96</td>\n",
       "</tr>\n",
       "<tr>\n",
       "  <th>No. Observations:</th>      <td>    82</td>      <th>  AIC:               </th> <td>   489.9</td>\n",
       "</tr>\n",
       "<tr>\n",
       "  <th>Df Residuals:</th>          <td>    79</td>      <th>  BIC:               </th> <td>   497.1</td>\n",
       "</tr>\n",
       "<tr>\n",
       "  <th>Df Model:</th>              <td>     2</td>      <th>                     </th>     <td> </td>   \n",
       "</tr>\n",
       "<tr>\n",
       "  <th>Covariance Type:</th>      <td>nonrobust</td>    <th>                     </th>     <td> </td>   \n",
       "</tr>\n",
       "</table>\n",
       "<table class=\"simpletable\">\n",
       "<tr>\n",
       "      <td></td>         <th>coef</th>     <th>std err</th>      <th>t</th>      <th>P>|t|</th>  <th>[0.025</th>    <th>0.975]</th>  \n",
       "</tr>\n",
       "<tr>\n",
       "  <th>Intercept</th> <td>   29.4845</td> <td>    7.837</td> <td>    3.762</td> <td> 0.000</td> <td>   13.886</td> <td>   45.083</td>\n",
       "</tr>\n",
       "<tr>\n",
       "  <th>x1</th>        <td>    0.0870</td> <td>    0.146</td> <td>    0.595</td> <td> 0.554</td> <td>   -0.204</td> <td>    0.378</td>\n",
       "</tr>\n",
       "<tr>\n",
       "  <th>x2</th>        <td>    0.4005</td> <td>    0.074</td> <td>    5.432</td> <td> 0.000</td> <td>    0.254</td> <td>    0.547</td>\n",
       "</tr>\n",
       "</table>\n",
       "<table class=\"simpletable\">\n",
       "<tr>\n",
       "  <th>Omnibus:</th>       <td> 0.525</td> <th>  Durbin-Watson:     </th> <td>   1.371</td>\n",
       "</tr>\n",
       "<tr>\n",
       "  <th>Prob(Omnibus):</th> <td> 0.769</td> <th>  Jarque-Bera (JB):  </th> <td>   0.669</td>\n",
       "</tr>\n",
       "<tr>\n",
       "  <th>Skew:</th>          <td> 0.153</td> <th>  Prob(JB):          </th> <td>   0.716</td>\n",
       "</tr>\n",
       "<tr>\n",
       "  <th>Kurtosis:</th>      <td> 2.680</td> <th>  Cond. No.          </th> <td>1.08e+03</td>\n",
       "</tr>\n",
       "</table><br/><br/>Notes:<br/>[1] Standard Errors assume that the covariance matrix of the errors is correctly specified.<br/>[2] The condition number is large, 1.08e+03. This might indicate that there are<br/>strong multicollinearity or other numerical problems."
      ],
      "text/plain": [
       "<class 'statsmodels.iolib.summary.Summary'>\n",
       "\"\"\"\n",
       "                            OLS Regression Results                            \n",
       "==============================================================================\n",
       "Dep. Variable:                  estim   R-squared:                       0.281\n",
       "Model:                            OLS   Adj. R-squared:                  0.263\n",
       "Method:                 Least Squares   F-statistic:                     15.46\n",
       "Date:                Thu, 25 Jan 2024   Prob (F-statistic):           2.15e-06\n",
       "Time:                        10:46:20   Log-Likelihood:                -241.96\n",
       "No. Observations:                  82   AIC:                             489.9\n",
       "Df Residuals:                      79   BIC:                             497.1\n",
       "Df Model:                           2                                         \n",
       "Covariance Type:            nonrobust                                         \n",
       "==============================================================================\n",
       "                 coef    std err          t      P>|t|      [0.025      0.975]\n",
       "------------------------------------------------------------------------------\n",
       "Intercept     29.4845      7.837      3.762      0.000      13.886      45.083\n",
       "x1             0.0870      0.146      0.595      0.554      -0.204       0.378\n",
       "x2             0.4005      0.074      5.432      0.000       0.254       0.547\n",
       "==============================================================================\n",
       "Omnibus:                        0.525   Durbin-Watson:                   1.371\n",
       "Prob(Omnibus):                  0.769   Jarque-Bera (JB):                0.669\n",
       "Skew:                           0.153   Prob(JB):                        0.716\n",
       "Kurtosis:                       2.680   Cond. No.                     1.08e+03\n",
       "==============================================================================\n",
       "\n",
       "Notes:\n",
       "[1] Standard Errors assume that the covariance matrix of the errors is correctly specified.\n",
       "[2] The condition number is large, 1.08e+03. This might indicate that there are\n",
       "strong multicollinearity or other numerical problems.\n",
       "\"\"\""
      ]
     },
     "execution_count": 12,
     "metadata": {},
     "output_type": "execute_result"
    }
   ],
   "source": [
    "# define the multiple linear regression model\n",
    "mod = ols(formula = '???', data=??)\n",
    "\n",
    "# fit to data\n",
    "res = mod.fit()\n",
    "\n",
    "# print the summary\n",
    "res.summary()"
   ]
  },
  {
   "cell_type": "markdown",
   "metadata": {},
   "source": [
    "**Plot the value of the weights for the two stimuli as a bar plot (with standard error as error bars).** The value of the weights (starting with the intercept) can be accessed through `res.params[:]`, while the standard errors are called by `res.bse[:]`,"
   ]
  },
  {
   "cell_type": "code",
   "execution_count": 13,
   "metadata": {},
   "outputs": [
    {
     "data": {
      "image/png": "[encoded data removed]",
      "text/plain": [
       "<Figure size 640x480 with 1 Axes>"
      ]
     },
     "metadata": {},
     "output_type": "display_data"
    }
   ],
   "source": [
    "#creat figure\n",
    "plt.figure\n",
    "\n",
    "# add bar plot with weights of the first and second stimulus\n",
    "plt.bar(range(2),??)\n",
    "\n",
    "# add error bars with standard error of these weights\n",
    "plt.errorbar(range(2), ??, ??,  fmt='k',linestyle='None');\n",
    "\n",
    "# add tick and axes labels\n",
    "plt.xticks(range(2), [??,??]);\n",
    "plt.ylabel(??);"
   ]
  },
  {
   "cell_type": "markdown",
   "metadata": {},
   "source": [
    "**What do you conclude?**"
   ]
  },
  {
   "cell_type": "markdown",
   "metadata": {},
   "source": []
  },
  {
   "cell_type": "markdown",
   "metadata": {},
   "source": [
    "At this stage we will make a rapid change in the definition of the variables to ease the following analyses, using 50 as the reference point as it was used in the experiment. We will change $x_1$ to $x_1-50$ so that a positive value indicates evidence towards large mean (>50) and a negative value indicates evidence towards low mean (<50). This is done in the code below. Then we can pass the same analysis again and check that it actually does not change anything to the stimulus weights! (Although it does change the intercept)"
   ]
  },
  {
   "cell_type": "code",
   "execution_count": 14,
   "metadata": {},
   "outputs": [
    {
     "data": {
      "text/html": [
       "<div>\n",
       "<style scoped>\n",
       "    .dataframe tbody tr th:only-of-type {\n",
       "        vertical-align: middle;\n",
       "    }\n",
       "\n",
       "    .dataframe tbody tr th {\n",
       "        vertical-align: top;\n",
       "    }\n",
       "\n",
       "    .dataframe thead th {\n",
       "        text-align: right;\n",
       "    }\n",
       "</style>\n",
       "<table border=\"1\" class=\"dataframe\">\n",
       "  <thead>\n",
       "    <tr style=\"text-align: right;\">\n",
       "      <th></th>\n",
       "      <th>x1</th>\n",
       "      <th>binchoice</th>\n",
       "      <th>x2</th>\n",
       "      <th>xavg</th>\n",
       "      <th>estim</th>\n",
       "      <th>subj</th>\n",
       "    </tr>\n",
       "  </thead>\n",
       "  <tbody>\n",
       "    <tr>\n",
       "      <th>0</th>\n",
       "      <td>-4.625</td>\n",
       "      <td>-1</td>\n",
       "      <td>-8.375</td>\n",
       "      <td>-6.5000</td>\n",
       "      <td>44</td>\n",
       "      <td>1</td>\n",
       "    </tr>\n",
       "    <tr>\n",
       "      <th>1</th>\n",
       "      <td>-2.500</td>\n",
       "      <td>1</td>\n",
       "      <td>-11.375</td>\n",
       "      <td>-6.9375</td>\n",
       "      <td>41</td>\n",
       "      <td>1</td>\n",
       "    </tr>\n",
       "    <tr>\n",
       "      <th>2</th>\n",
       "      <td>-2.250</td>\n",
       "      <td>1</td>\n",
       "      <td>7.500</td>\n",
       "      <td>2.6250</td>\n",
       "      <td>54</td>\n",
       "      <td>1</td>\n",
       "    </tr>\n",
       "    <tr>\n",
       "      <th>3</th>\n",
       "      <td>-3.375</td>\n",
       "      <td>-1</td>\n",
       "      <td>-11.625</td>\n",
       "      <td>-7.5000</td>\n",
       "      <td>40</td>\n",
       "      <td>1</td>\n",
       "    </tr>\n",
       "    <tr>\n",
       "      <th>4</th>\n",
       "      <td>-2.750</td>\n",
       "      <td>-1</td>\n",
       "      <td>-8.625</td>\n",
       "      <td>-5.6875</td>\n",
       "      <td>45</td>\n",
       "      <td>1</td>\n",
       "    </tr>\n",
       "  </tbody>\n",
       "</table>\n",
       "</div>"
      ],
      "text/plain": [
       "      x1  binchoice      x2    xavg  estim  subj\n",
       "0 -4.625         -1  -8.375 -6.5000     44     1\n",
       "1 -2.500          1 -11.375 -6.9375     41     1\n",
       "2 -2.250          1   7.500  2.6250     54     1\n",
       "3 -3.375         -1 -11.625 -7.5000     40     1\n",
       "4 -2.750         -1  -8.625 -5.6875     45     1"
      ]
     },
     "execution_count": 14,
     "metadata": {},
     "output_type": "execute_result"
    }
   ],
   "source": [
    "# use 50 as reference point\n",
    "df.x1 = df.x1 - 50\n",
    "df.x2 = df.x2 - 50\n",
    "df.xavg = df.xavg - 50\n",
    "df.head()"
   ]
  },
  {
   "cell_type": "code",
   "execution_count": 15,
   "metadata": {},
   "outputs": [
    {
     "data": {
      "text/html": [
       "<table class=\"simpletable\">\n",
       "<caption>OLS Regression Results</caption>\n",
       "<tr>\n",
       "  <th>Dep. Variable:</th>          <td>estim</td>      <th>  R-squared:         </th> <td>   0.281</td>\n",
       "</tr>\n",
       "<tr>\n",
       "  <th>Model:</th>                   <td>OLS</td>       <th>  Adj. R-squared:    </th> <td>   0.263</td>\n",
       "</tr>\n",
       "<tr>\n",
       "  <th>Method:</th>             <td>Least Squares</td>  <th>  F-statistic:       </th> <td>   15.46</td>\n",
       "</tr>\n",
       "<tr>\n",
       "  <th>Date:</th>             <td>Thu, 25 Jan 2024</td> <th>  Prob (F-statistic):</th> <td>2.15e-06</td>\n",
       "</tr>\n",
       "<tr>\n",
       "  <th>Time:</th>                 <td>10:46:29</td>     <th>  Log-Likelihood:    </th> <td> -241.96</td>\n",
       "</tr>\n",
       "<tr>\n",
       "  <th>No. Observations:</th>      <td>    82</td>      <th>  AIC:               </th> <td>   489.9</td>\n",
       "</tr>\n",
       "<tr>\n",
       "  <th>Df Residuals:</th>          <td>    79</td>      <th>  BIC:               </th> <td>   497.1</td>\n",
       "</tr>\n",
       "<tr>\n",
       "  <th>Df Model:</th>              <td>     2</td>      <th>                     </th>     <td> </td>   \n",
       "</tr>\n",
       "<tr>\n",
       "  <th>Covariance Type:</th>      <td>nonrobust</td>    <th>                     </th>     <td> </td>   \n",
       "</tr>\n",
       "</table>\n",
       "<table class=\"simpletable\">\n",
       "<tr>\n",
       "      <td></td>         <th>coef</th>     <th>std err</th>      <th>t</th>      <th>P>|t|</th>  <th>[0.025</th>    <th>0.975]</th>  \n",
       "</tr>\n",
       "<tr>\n",
       "  <th>Intercept</th> <td>   53.8585</td> <td>    0.541</td> <td>   99.593</td> <td> 0.000</td> <td>   52.782</td> <td>   54.935</td>\n",
       "</tr>\n",
       "<tr>\n",
       "  <th>x1</th>        <td>    0.0870</td> <td>    0.146</td> <td>    0.595</td> <td> 0.554</td> <td>   -0.204</td> <td>    0.378</td>\n",
       "</tr>\n",
       "<tr>\n",
       "  <th>x2</th>        <td>    0.4005</td> <td>    0.074</td> <td>    5.432</td> <td> 0.000</td> <td>    0.254</td> <td>    0.547</td>\n",
       "</tr>\n",
       "</table>\n",
       "<table class=\"simpletable\">\n",
       "<tr>\n",
       "  <th>Omnibus:</th>       <td> 0.525</td> <th>  Durbin-Watson:     </th> <td>   1.371</td>\n",
       "</tr>\n",
       "<tr>\n",
       "  <th>Prob(Omnibus):</th> <td> 0.769</td> <th>  Jarque-Bera (JB):  </th> <td>   0.669</td>\n",
       "</tr>\n",
       "<tr>\n",
       "  <th>Skew:</th>          <td> 0.153</td> <th>  Prob(JB):          </th> <td>   0.716</td>\n",
       "</tr>\n",
       "<tr>\n",
       "  <th>Kurtosis:</th>      <td> 2.680</td> <th>  Cond. No.          </th> <td>    7.61</td>\n",
       "</tr>\n",
       "</table><br/><br/>Notes:<br/>[1] Standard Errors assume that the covariance matrix of the errors is correctly specified."
      ],
      "text/plain": [
       "<class 'statsmodels.iolib.summary.Summary'>\n",
       "\"\"\"\n",
       "                            OLS Regression Results                            \n",
       "==============================================================================\n",
       "Dep. Variable:                  estim   R-squared:                       0.281\n",
       "Model:                            OLS   Adj. R-squared:                  0.263\n",
       "Method:                 Least Squares   F-statistic:                     15.46\n",
       "Date:                Thu, 25 Jan 2024   Prob (F-statistic):           2.15e-06\n",
       "Time:                        10:46:29   Log-Likelihood:                -241.96\n",
       "No. Observations:                  82   AIC:                             489.9\n",
       "Df Residuals:                      79   BIC:                             497.1\n",
       "Df Model:                           2                                         \n",
       "Covariance Type:            nonrobust                                         \n",
       "==============================================================================\n",
       "                 coef    std err          t      P>|t|      [0.025      0.975]\n",
       "------------------------------------------------------------------------------\n",
       "Intercept     53.8585      0.541     99.593      0.000      52.782      54.935\n",
       "x1             0.0870      0.146      0.595      0.554      -0.204       0.378\n",
       "x2             0.4005      0.074      5.432      0.000       0.254       0.547\n",
       "==============================================================================\n",
       "Omnibus:                        0.525   Durbin-Watson:                   1.371\n",
       "Prob(Omnibus):                  0.769   Jarque-Bera (JB):                0.669\n",
       "Skew:                           0.153   Prob(JB):                        0.716\n",
       "Kurtosis:                       2.680   Cond. No.                         7.61\n",
       "==============================================================================\n",
       "\n",
       "Notes:\n",
       "[1] Standard Errors assume that the covariance matrix of the errors is correctly specified.\n",
       "\"\"\""
      ]
     },
     "execution_count": 15,
     "metadata": {},
     "output_type": "execute_result"
    }
   ],
   "source": [
    "# dataframe for first subject\n",
    "df1 = df[df.subj==1]\n",
    "\n",
    "# re-define the multiple linear regression model\n",
    "mod = ols(formula = 'estim ~ x1 + x2', data=df1)\n",
    "\n",
    "# fit to data again\n",
    "res = mod.fit()\n",
    "\n",
    "# print the summary\n",
    "res.summary()"
   ]
  },
  {
   "cell_type": "markdown",
   "metadata": {},
   "source": [
    "## 3. Population analysis\n",
    "OK, this was just one subject. When we look for an effect in the general population, we use a two-level analysis:\n",
    "* 1) Fit the linear regression model for each subject, separately\n",
    "* 2) Compare the distribution of weights across subjects (e.g. with t-tests)\n",
    "\n",
    "**Use this two-level approach.** First, fit the same regression analysis for all subjects separately (with the two stimuli as regressors) and store the weights of all subjects. Then, plot the average value (across subjects) of the weights for stimulus 1 and stimulus 2 as a bar plot, with individual lines for the weights of individual subjects."
   ]
  },
  {
   "cell_type": "code",
   "execution_count": 16,
   "metadata": {
    "scrolled": true
   },
   "outputs": [
    {
     "data": {
      "image/png": "[encoded data removed]",
      "text/plain": [
       "<Figure size 640x480 with 1 Axes>"
      ]
     },
     "metadata": {},
     "output_type": "display_data"
    }
   ],
   "source": [
    "#define numpy array where we will store the weights for all subjects (how many weights per subject?)\n",
    "pars = np.zeros((??,??))\n",
    "\n",
    "# loop through all subjects\n",
    "for i,s in enumerate(subjects):\n",
    "    \n",
    "    # dataframe with data only for the corresponding subject\n",
    "    df_subj = ??\n",
    "    \n",
    "    # define the corresponding model\n",
    "    mod = ols(??)\n",
    "    \n",
    "    # fit the model\n",
    "    res = mod.fit()\n",
    "    \n",
    "    # add the model weights to the array\n",
    "    pars[i,:] = res.params\n",
    "\n",
    "\n",
    "# compute the mean of all weights across subjects (axis defines if we average over rows or columns)\n",
    "mean_weights = np.mean(??,axis=0)\n",
    "\n",
    "# create figure\n",
    "plt.figure;\n",
    "\n",
    "# bar plot for mean weights for stimulus 1 and 2\n",
    "plt.bar(range(2),??);\n",
    "\n",
    "# add grey lines for weights of individual subjects\n",
    "for i in range(len(subjects)):\n",
    "    plt.plot(range(2),??,'grey');\n",
    "\n",
    "# add labels for ticks and axes\n",
    "plt.xticks(range(2),(??,??));\n",
    "plt.xlabel(\"stimulus\");\n",
    "plt.ylabel(\"weight\");"
   ]
  },
  {
   "cell_type": "markdown",
   "metadata": {},
   "source": [
    "Now, **test formally whether there is a statistical difference across the population by using a *paired* t-test**. This is paired because for each subject we have a value for both distributions, that of the first and second stimulus weights. Paired t-tests are performed using `stats.ttest_rel`."
   ]
  },
  {
   "cell_type": "code",
   "execution_count": 17,
   "metadata": {},
   "outputs": [
    {
     "data": {
      "text/plain": [
       "Ttest_relResult(statistic=-2.1380748970935266, pvalue=0.04503993674223953)"
      ]
     },
     "execution_count": 17,
     "metadata": {},
     "output_type": "execute_result"
    }
   ],
   "source": [
    "# Importing library \n",
    "import scipy.stats as stats \n",
    "\n",
    "# Performing the paired sample t-test \n",
    "stats.ttest_rel(??,??) "
   ]
  },
  {
   "cell_type": "markdown",
   "metadata": {},
   "source": [
    "**What do you conclude?**"
   ]
  },
  {
   "cell_type": "markdown",
   "metadata": {},
   "source": []
  },
  {
   "cell_type": "markdown",
   "metadata": {},
   "source": [
    "## 3. Testing the confirmation bias\n",
    "We are now finally in a position to test the central hypothesis of the experiment: that the intermediate choice biases the perception of the subsequent stimulus, such that this second stimulus will have a larger weight on the final report if is consistent with the intermediate choice than if it is inconsistent. Take some time to make sure you get this, because now we will want to put this in a (simple) equation.\n",
    "But first, let's **define a boolean array for this consistency and add it to the dataframe**. The value of the array should be true if the sign of `binchoice` is the same as that of $x2$ (i.e. if they are both positive, it means that the subject responded \">50\" at the intermediate choice, and that the mean of the second stimulus is above 50), false otherwise. Check that you did good. "
   ]
  },
  {
   "cell_type": "code",
   "execution_count": 18,
   "metadata": {
    "scrolled": true
   },
   "outputs": [
    {
     "data": {
      "text/html": [
       "<div>\n",
       "<style scoped>\n",
       "    .dataframe tbody tr th:only-of-type {\n",
       "        vertical-align: middle;\n",
       "    }\n",
       "\n",
       "    .dataframe tbody tr th {\n",
       "        vertical-align: top;\n",
       "    }\n",
       "\n",
       "    .dataframe thead th {\n",
       "        text-align: right;\n",
       "    }\n",
       "</style>\n",
       "<table border=\"1\" class=\"dataframe\">\n",
       "  <thead>\n",
       "    <tr style=\"text-align: right;\">\n",
       "      <th></th>\n",
       "      <th>x1</th>\n",
       "      <th>binchoice</th>\n",
       "      <th>x2</th>\n",
       "      <th>xavg</th>\n",
       "      <th>estim</th>\n",
       "      <th>subj</th>\n",
       "      <th>consistent</th>\n",
       "    </tr>\n",
       "  </thead>\n",
       "  <tbody>\n",
       "    <tr>\n",
       "      <th>0</th>\n",
       "      <td>-4.625</td>\n",
       "      <td>-1</td>\n",
       "      <td>-8.375</td>\n",
       "      <td>-6.5000</td>\n",
       "      <td>44</td>\n",
       "      <td>1</td>\n",
       "      <td>True</td>\n",
       "    </tr>\n",
       "    <tr>\n",
       "      <th>1</th>\n",
       "      <td>-2.500</td>\n",
       "      <td>1</td>\n",
       "      <td>-11.375</td>\n",
       "      <td>-6.9375</td>\n",
       "      <td>41</td>\n",
       "      <td>1</td>\n",
       "      <td>False</td>\n",
       "    </tr>\n",
       "    <tr>\n",
       "      <th>2</th>\n",
       "      <td>-2.250</td>\n",
       "      <td>1</td>\n",
       "      <td>7.500</td>\n",
       "      <td>2.6250</td>\n",
       "      <td>54</td>\n",
       "      <td>1</td>\n",
       "      <td>True</td>\n",
       "    </tr>\n",
       "    <tr>\n",
       "      <th>3</th>\n",
       "      <td>-3.375</td>\n",
       "      <td>-1</td>\n",
       "      <td>-11.625</td>\n",
       "      <td>-7.5000</td>\n",
       "      <td>40</td>\n",
       "      <td>1</td>\n",
       "      <td>True</td>\n",
       "    </tr>\n",
       "    <tr>\n",
       "      <th>4</th>\n",
       "      <td>-2.750</td>\n",
       "      <td>-1</td>\n",
       "      <td>-8.625</td>\n",
       "      <td>-5.6875</td>\n",
       "      <td>45</td>\n",
       "      <td>1</td>\n",
       "      <td>True</td>\n",
       "    </tr>\n",
       "  </tbody>\n",
       "</table>\n",
       "</div>"
      ],
      "text/plain": [
       "      x1  binchoice      x2    xavg  estim  subj  consistent\n",
       "0 -4.625         -1  -8.375 -6.5000     44     1        True\n",
       "1 -2.500          1 -11.375 -6.9375     41     1       False\n",
       "2 -2.250          1   7.500  2.6250     54     1        True\n",
       "3 -3.375         -1 -11.625 -7.5000     40     1        True\n",
       "4 -2.750         -1  -8.625 -5.6875     45     1        True"
      ]
     },
     "execution_count": 18,
     "metadata": {},
     "output_type": "execute_result"
    }
   ],
   "source": [
    "# sign of x2\n",
    "sgn = ??\n",
    "\n",
    "# define boolean array for consistency\n",
    "consistent = ???\n",
    "\n",
    "# add to dataframe\n",
    "df['consistent'] = ??\n",
    "df.head()"
   ]
  },
  {
   "cell_type": "markdown",
   "metadata": {},
   "source": [
    "The previous model (with no impact of the intermediate binary choice on the judgment) can be written as $y = \\beta_0 + \\beta_1 x_1 + \\beta_2 x_2  + \\text{noise}.$ \n",
    "How can we change this model to capture a different impact of the second stimulus depending on consistency with the intermediate choice?\n",
    "**Write the equation below** (or equivalently, the definition of the regressors)."
   ]
  },
  {
   "cell_type": "markdown",
   "metadata": {},
   "source": []
  },
  {
   "cell_type": "markdown",
   "metadata": {},
   "source": [
    "Now **add the two new regressors that you will need in the new regression model as variables to the dataframe.** Again, take some time to make sure on the first lines of the dataframe that the new variables do code what we expect them to code."
   ]
  },
  {
   "cell_type": "code",
   "execution_count": null,
   "metadata": {},
   "outputs": [],
   "source": [
    "?????????\n",
    "\n",
    "# add as variables in dataframe\n",
    "df[??] = ??\n",
    "df[??] = ??\n",
    "\n",
    "df.head()"
   ]
  },
  {
   "cell_type": "markdown",
   "metadata": {},
   "source": [
    "Almost there! Now **fit the new regression model on all subjects separately and plot the values of the two types of x2 weights one against another**. Specifically, instead of plotting lines as we did for the previous model, we will represent each pair of weights using a scatter plot, with the value of one weight on the x-axis and of the other weight on the y-axis. This way, systematic differences between the weights will be seen as points lying more on one side or the other of the diagonal."
   ]
  },
  {
   "cell_type": "code",
   "execution_count": 20,
   "metadata": {},
   "outputs": [
    {
     "data": {
      "image/png": "[encoded data removed]",
      "text/plain": [
       "<Figure size 640x480 with 1 Axes>"
      ]
     },
     "metadata": {},
     "output_type": "display_data"
    }
   ],
   "source": [
    "# create array for weights for each subject (how many weights per subject?)\n",
    "pars = np.zeros((??,??))\n",
    "\n",
    "# loop through all subjects\n",
    "for i,s in enumerate(subjects):\n",
    "    \n",
    "    # dataframe for this subject\n",
    "    df_subj = ??\n",
    "    \n",
    "    # define and fit regression model\n",
    "    mod = ols(????)\n",
    "    res = mod.fit()\n",
    "    \n",
    "    # store values of the parameters\n",
    "    pars[i,:] = res.params\n",
    "\n",
    "# compute mean across subjects\n",
    "mean_weights = np.mean(??,axis=0)\n",
    "\n",
    "# create figure\n",
    "plt.figure;\n",
    "\n",
    "# add scatter plot, with values of one set of weights as X, and of the other set of weights as Y \n",
    "????\n",
    "\n",
    "# add gray diagonal line\n",
    "plt.plot((0,.8),(0,.8),'gray');\n",
    "\n",
    "# vertical and horizontal lines at 0\n",
    "plt.plot(plt.xlim(),(0,0),'k');\n",
    "plt.plot((0,0),plt.ylim(),'k');\n",
    "\n",
    "# axis labels\n",
    "????\n",
    "????"
   ]
  },
  {
   "cell_type": "markdown",
   "metadata": {},
   "source": [
    "**Perform a paired T-test between the two sets of weights.**"
   ]
  },
  {
   "cell_type": "code",
   "execution_count": 21,
   "metadata": {
    "scrolled": true
   },
   "outputs": [
    {
     "data": {
      "text/plain": [
       "Ttest_relResult(statistic=6.775840240142278, pvalue=1.3706538964575747e-06)"
      ]
     },
     "execution_count": 21,
     "metadata": {},
     "output_type": "execute_result"
    }
   ],
   "source": [
    "# Performing the paired sample t-test \n",
    "???????"
   ]
  },
  {
   "cell_type": "markdown",
   "metadata": {},
   "source": [
    "**What do you conclude?**"
   ]
  },
  {
   "cell_type": "markdown",
   "metadata": {},
   "source": []
  },
  {
   "cell_type": "markdown",
   "metadata": {},
   "source": [
    "## 4 Modelling the whole population with a single model\n",
    "\n",
    "### 4.1 Naive approach with categorical variables\n",
    "We have seen above the typical two-level analysis when looking for an effect in a population of subjects: fit one model on each subject separately, and then compare the distribution of weights across participants. We will now explore single-step approaches where we would capture the whole dataset with a single regression model. The challenge is to take into account the variability of effects between different subjects in a single model."
   ]
  },
  {
   "cell_type": "markdown",
   "metadata": {
    "colab_type": "text",
    "id": "klu1tOD6M0E8"
   },
   "source": [
    "We will start with a naive approach that will illustrate how to use **categorical regressors**.\n",
    "So let's say we want to capture the variability of participant biases, i.e. their idiosyncratic tendency to over- or under-evaluate the stimulus mean in their reports. In the linear model, this is captured by the intercept $\\beta_0$. \n",
    "So what we would like is a different intercept for each subject. This is done by adding subject identity as a categorical regressor in the design of a general linear model, which means simply `C(subj)` to the formula. This will estimate one weight for each subject (except the first subject taken as the reference). \n",
    "Note that this is different from simply adding `subj`, which would introduce a continuous instead of categorical regressor (i.e. it would capture a linear trend for later subjects to over-estimate or under-estimate compared to earlier subjects - this is not what we want!).\n",
    "**Add subject as a categorical variable to the linear regression model with x1 and x2 as regressors, and fit to the whole dataset.**"
   ]
  },
  {
   "cell_type": "code",
   "execution_count": 22,
   "metadata": {
    "ExecuteTime": {
     "end_time": "2022-02-04T22:46:54.943241Z",
     "start_time": "2022-02-04T22:46:54.939949Z"
    }
   },
   "outputs": [
    {
     "data": {
      "text/html": [
       "<table class=\"simpletable\">\n",
       "<caption>OLS Regression Results</caption>\n",
       "<tr>\n",
       "  <th>Dep. Variable:</th>          <td>estim</td>      <th>  R-squared:         </th> <td>   0.302</td> \n",
       "</tr>\n",
       "<tr>\n",
       "  <th>Model:</th>                   <td>OLS</td>       <th>  Adj. R-squared:    </th> <td>   0.293</td> \n",
       "</tr>\n",
       "<tr>\n",
       "  <th>Method:</th>             <td>Least Squares</td>  <th>  F-statistic:       </th> <td>   33.74</td> \n",
       "</tr>\n",
       "<tr>\n",
       "  <th>Date:</th>             <td>Thu, 25 Jan 2024</td> <th>  Prob (F-statistic):</th> <td>4.89e-117</td>\n",
       "</tr>\n",
       "<tr>\n",
       "  <th>Time:</th>                 <td>10:46:56</td>     <th>  Log-Likelihood:    </th> <td> -5444.9</td> \n",
       "</tr>\n",
       "<tr>\n",
       "  <th>No. Observations:</th>      <td>  1738</td>      <th>  AIC:               </th> <td>1.094e+04</td>\n",
       "</tr>\n",
       "<tr>\n",
       "  <th>Df Residuals:</th>          <td>  1715</td>      <th>  BIC:               </th> <td>1.106e+04</td>\n",
       "</tr>\n",
       "<tr>\n",
       "  <th>Df Model:</th>              <td>    22</td>      <th>                     </th>     <td> </td>    \n",
       "</tr>\n",
       "<tr>\n",
       "  <th>Covariance Type:</th>      <td>nonrobust</td>    <th>                     </th>     <td> </td>    \n",
       "</tr>\n",
       "</table>\n",
       "<table class=\"simpletable\">\n",
       "<tr>\n",
       "        <td></td>           <th>coef</th>     <th>std err</th>      <th>t</th>      <th>P>|t|</th>  <th>[0.025</th>    <th>0.975]</th>  \n",
       "</tr>\n",
       "<tr>\n",
       "  <th>Intercept</th>     <td>   54.0018</td> <td>    0.618</td> <td>   87.348</td> <td> 0.000</td> <td>   52.789</td> <td>   55.214</td>\n",
       "</tr>\n",
       "<tr>\n",
       "  <th>C(subj)[T.2]</th>  <td>   -2.3611</td> <td>    0.867</td> <td>   -2.722</td> <td> 0.007</td> <td>   -4.062</td> <td>   -0.660</td>\n",
       "</tr>\n",
       "<tr>\n",
       "  <th>C(subj)[T.3]</th>  <td>   -7.4855</td> <td>    0.870</td> <td>   -8.604</td> <td> 0.000</td> <td>   -9.192</td> <td>   -5.779</td>\n",
       "</tr>\n",
       "<tr>\n",
       "  <th>C(subj)[T.4]</th>  <td>   -3.5873</td> <td>    0.867</td> <td>   -4.135</td> <td> 0.000</td> <td>   -5.289</td> <td>   -1.886</td>\n",
       "</tr>\n",
       "<tr>\n",
       "  <th>C(subj)[T.5]</th>  <td>   -4.6111</td> <td>    0.867</td> <td>   -5.316</td> <td> 0.000</td> <td>   -6.312</td> <td>   -2.910</td>\n",
       "</tr>\n",
       "<tr>\n",
       "  <th>C(subj)[T.6]</th>  <td>   -2.0998</td> <td>    0.870</td> <td>   -2.414</td> <td> 0.016</td> <td>   -3.806</td> <td>   -0.393</td>\n",
       "</tr>\n",
       "<tr>\n",
       "  <th>C(subj)[T.7]</th>  <td>   -2.9682</td> <td>    0.867</td> <td>   -3.422</td> <td> 0.001</td> <td>   -4.670</td> <td>   -1.267</td>\n",
       "</tr>\n",
       "<tr>\n",
       "  <th>C(subj)[T.8]</th>  <td>   -8.3966</td> <td>    0.875</td> <td>   -9.592</td> <td> 0.000</td> <td>  -10.114</td> <td>   -6.680</td>\n",
       "</tr>\n",
       "<tr>\n",
       "  <th>C(subj)[T.9]</th>  <td>   -1.7063</td> <td>    0.867</td> <td>   -1.967</td> <td> 0.049</td> <td>   -3.408</td> <td>   -0.005</td>\n",
       "</tr>\n",
       "<tr>\n",
       "  <th>C(subj)[T.10]</th> <td>   -4.8730</td> <td>    0.867</td> <td>   -5.618</td> <td> 0.000</td> <td>   -6.574</td> <td>   -3.172</td>\n",
       "</tr>\n",
       "<tr>\n",
       "  <th>C(subj)[T.11]</th> <td>   -5.6111</td> <td>    0.867</td> <td>   -6.468</td> <td> 0.000</td> <td>   -7.312</td> <td>   -3.910</td>\n",
       "</tr>\n",
       "<tr>\n",
       "  <th>C(subj)[T.12]</th> <td>   -7.8611</td> <td>    0.867</td> <td>   -9.062</td> <td> 0.000</td> <td>   -9.562</td> <td>   -6.160</td>\n",
       "</tr>\n",
       "<tr>\n",
       "  <th>C(subj)[T.13]</th> <td>   -3.1508</td> <td>    0.870</td> <td>   -3.621</td> <td> 0.000</td> <td>   -4.857</td> <td>   -1.444</td>\n",
       "</tr>\n",
       "<tr>\n",
       "  <th>C(subj)[T.14]</th> <td>   -2.9948</td> <td>    0.870</td> <td>   -3.442</td> <td> 0.001</td> <td>   -4.701</td> <td>   -1.288</td>\n",
       "</tr>\n",
       "<tr>\n",
       "  <th>C(subj)[T.15]</th> <td>   -6.3611</td> <td>    0.867</td> <td>   -7.333</td> <td> 0.000</td> <td>   -8.062</td> <td>   -4.660</td>\n",
       "</tr>\n",
       "<tr>\n",
       "  <th>C(subj)[T.16]</th> <td>   -3.4682</td> <td>    0.867</td> <td>   -3.998</td> <td> 0.000</td> <td>   -5.170</td> <td>   -1.767</td>\n",
       "</tr>\n",
       "<tr>\n",
       "  <th>C(subj)[T.17]</th> <td>   -1.8254</td> <td>    0.867</td> <td>   -2.104</td> <td> 0.035</td> <td>   -3.527</td> <td>   -0.124</td>\n",
       "</tr>\n",
       "<tr>\n",
       "  <th>C(subj)[T.18]</th> <td>   -3.7897</td> <td>    0.867</td> <td>   -4.369</td> <td> 0.000</td> <td>   -5.491</td> <td>   -2.088</td>\n",
       "</tr>\n",
       "<tr>\n",
       "  <th>C(subj)[T.19]</th> <td>   -4.4395</td> <td>    0.875</td> <td>   -5.072</td> <td> 0.000</td> <td>   -6.156</td> <td>   -2.723</td>\n",
       "</tr>\n",
       "<tr>\n",
       "  <th>C(subj)[T.20]</th> <td>   -2.3928</td> <td>    0.873</td> <td>   -2.742</td> <td> 0.006</td> <td>   -4.104</td> <td>   -0.681</td>\n",
       "</tr>\n",
       "<tr>\n",
       "  <th>C(subj)[T.21]</th> <td>   -0.5260</td> <td>    0.903</td> <td>   -0.583</td> <td> 0.560</td> <td>   -2.296</td> <td>    1.244</td>\n",
       "</tr>\n",
       "<tr>\n",
       "  <th>x1</th>            <td>    0.2900</td> <td>    0.038</td> <td>    7.615</td> <td> 0.000</td> <td>    0.215</td> <td>    0.365</td>\n",
       "</tr>\n",
       "<tr>\n",
       "  <th>x2</th>            <td>    0.3661</td> <td>    0.019</td> <td>   19.149</td> <td> 0.000</td> <td>    0.329</td> <td>    0.404</td>\n",
       "</tr>\n",
       "</table>\n",
       "<table class=\"simpletable\">\n",
       "<tr>\n",
       "  <th>Omnibus:</th>       <td>13.102</td> <th>  Durbin-Watson:     </th> <td>   1.902</td>\n",
       "</tr>\n",
       "<tr>\n",
       "  <th>Prob(Omnibus):</th> <td> 0.001</td> <th>  Jarque-Bera (JB):  </th> <td>  19.086</td>\n",
       "</tr>\n",
       "<tr>\n",
       "  <th>Skew:</th>          <td> 0.002</td> <th>  Prob(JB):          </th> <td>7.17e-05</td>\n",
       "</tr>\n",
       "<tr>\n",
       "  <th>Kurtosis:</th>      <td> 3.513</td> <th>  Cond. No.          </th> <td>    156.</td>\n",
       "</tr>\n",
       "</table><br/><br/>Notes:<br/>[1] Standard Errors assume that the covariance matrix of the errors is correctly specified."
      ],
      "text/plain": [
       "<class 'statsmodels.iolib.summary.Summary'>\n",
       "\"\"\"\n",
       "                            OLS Regression Results                            \n",
       "==============================================================================\n",
       "Dep. Variable:                  estim   R-squared:                       0.302\n",
       "Model:                            OLS   Adj. R-squared:                  0.293\n",
       "Method:                 Least Squares   F-statistic:                     33.74\n",
       "Date:                Thu, 25 Jan 2024   Prob (F-statistic):          4.89e-117\n",
       "Time:                        10:46:56   Log-Likelihood:                -5444.9\n",
       "No. Observations:                1738   AIC:                         1.094e+04\n",
       "Df Residuals:                    1715   BIC:                         1.106e+04\n",
       "Df Model:                          22                                         \n",
       "Covariance Type:            nonrobust                                         \n",
       "=================================================================================\n",
       "                    coef    std err          t      P>|t|      [0.025      0.975]\n",
       "---------------------------------------------------------------------------------\n",
       "Intercept        54.0018      0.618     87.348      0.000      52.789      55.214\n",
       "C(subj)[T.2]     -2.3611      0.867     -2.722      0.007      -4.062      -0.660\n",
       "C(subj)[T.3]     -7.4855      0.870     -8.604      0.000      -9.192      -5.779\n",
       "C(subj)[T.4]     -3.5873      0.867     -4.135      0.000      -5.289      -1.886\n",
       "C(subj)[T.5]     -4.6111      0.867     -5.316      0.000      -6.312      -2.910\n",
       "C(subj)[T.6]     -2.0998      0.870     -2.414      0.016      -3.806      -0.393\n",
       "C(subj)[T.7]     -2.9682      0.867     -3.422      0.001      -4.670      -1.267\n",
       "C(subj)[T.8]     -8.3966      0.875     -9.592      0.000     -10.114      -6.680\n",
       "C(subj)[T.9]     -1.7063      0.867     -1.967      0.049      -3.408      -0.005\n",
       "C(subj)[T.10]    -4.8730      0.867     -5.618      0.000      -6.574      -3.172\n",
       "C(subj)[T.11]    -5.6111      0.867     -6.468      0.000      -7.312      -3.910\n",
       "C(subj)[T.12]    -7.8611      0.867     -9.062      0.000      -9.562      -6.160\n",
       "C(subj)[T.13]    -3.1508      0.870     -3.621      0.000      -4.857      -1.444\n",
       "C(subj)[T.14]    -2.9948      0.870     -3.442      0.001      -4.701      -1.288\n",
       "C(subj)[T.15]    -6.3611      0.867     -7.333      0.000      -8.062      -4.660\n",
       "C(subj)[T.16]    -3.4682      0.867     -3.998      0.000      -5.170      -1.767\n",
       "C(subj)[T.17]    -1.8254      0.867     -2.104      0.035      -3.527      -0.124\n",
       "C(subj)[T.18]    -3.7897      0.867     -4.369      0.000      -5.491      -2.088\n",
       "C(subj)[T.19]    -4.4395      0.875     -5.072      0.000      -6.156      -2.723\n",
       "C(subj)[T.20]    -2.3928      0.873     -2.742      0.006      -4.104      -0.681\n",
       "C(subj)[T.21]    -0.5260      0.903     -0.583      0.560      -2.296       1.244\n",
       "x1                0.2900      0.038      7.615      0.000       0.215       0.365\n",
       "x2                0.3661      0.019     19.149      0.000       0.329       0.404\n",
       "==============================================================================\n",
       "Omnibus:                       13.102   Durbin-Watson:                   1.902\n",
       "Prob(Omnibus):                  0.001   Jarque-Bera (JB):               19.086\n",
       "Skew:                           0.002   Prob(JB):                     7.17e-05\n",
       "Kurtosis:                       3.513   Cond. No.                         156.\n",
       "==============================================================================\n",
       "\n",
       "Notes:\n",
       "[1] Standard Errors assume that the covariance matrix of the errors is correctly specified.\n",
       "\"\"\""
      ]
     },
     "execution_count": 22,
     "metadata": {},
     "output_type": "execute_result"
    }
   ],
   "source": [
    "# define the multiple linear regression model\n",
    "mod = ols(formula = ???, data=??)\n",
    "\n",
    "# fit to data\n",
    "res = mod.fit()\n",
    "\n",
    "# print the summary\n",
    "res.summary()"
   ]
  },
  {
   "cell_type": "markdown",
   "metadata": {},
   "source": [
    "**Can you find the weights for the regressor of interest? Why are the other regressors not “of interest”? Why do we include them, then?**"
   ]
  },
  {
   "cell_type": "markdown",
   "metadata": {},
   "source": []
  },
  {
   "cell_type": "markdown",
   "metadata": {},
   "source": [
    "**How do you interpret subject weights?**"
   ]
  },
  {
   "cell_type": "markdown",
   "metadata": {},
   "source": []
  },
  {
   "cell_type": "markdown",
   "metadata": {},
   "source": [
    "### 4.2 Linear mixed models\n",
    "Now we will take is a more principled approach to it, *linear mixed models*. In this framework, we consider subjects as *random factors*, i.e. factors that are not of interest per se but that contribute to the variability. Instead of estimating one parameter per subject, these models directly estimate the variance of the weight across the population (assuming, again, Gaussian statistics). In this way, one parameter of variance will take care of the variability across participants. Linear models that include both fixed factors (the baseline effect in the whole population - what we are generally interested in) and random factors (a variance parameter accounting for a family of regressors) are called \"mixed models\". These are usually the way that we should model subjects in our designs. Mixed models in the case of linear regression are called linear mixed models."
   ]
  },
  {
   "cell_type": "markdown",
   "metadata": {},
   "source": [
    "Let us implement a linear mixed model where the random factor for the intercept of each participant. This is very similar to the traditional linear regression model we just defined with subject-specific biases, except that now we directly estimate the distribution of biases across the population, rather than each subject bias."
   ]
  },
  {
   "cell_type": "code",
   "execution_count": 23,
   "metadata": {
    "ExecuteTime": {
     "end_time": "2022-02-04T22:46:55.260351Z",
     "start_time": "2022-02-04T22:46:54.971773Z"
    },
    "colab": {},
    "colab_type": "code",
    "id": "OawmGQU2M0FF"
   },
   "outputs": [
    {
     "data": {
      "text/html": [
       "<table class=\"simpletable\">\n",
       "<tr>\n",
       "       <td>Model:</td>       <td>MixedLM</td> <td>Dependent Variable:</td>    <td>estim</td>  \n",
       "</tr>\n",
       "<tr>\n",
       "  <td>No. Observations:</td>  <td>1738</td>         <td>Method:</td>          <td>REML</td>   \n",
       "</tr>\n",
       "<tr>\n",
       "     <td>No. Groups:</td>      <td>21</td>          <td>Scale:</td>          <td>31.2233</td> \n",
       "</tr>\n",
       "<tr>\n",
       "  <td>Min. group size:</td>    <td>72</td>      <td>Log-Likelihood:</td>   <td>-5487.8269</td>\n",
       "</tr>\n",
       "<tr>\n",
       "  <td>Max. group size:</td>    <td>84</td>        <td>Converged:</td>          <td>Yes</td>   \n",
       "</tr>\n",
       "<tr>\n",
       "  <td>Mean group size:</td>   <td>82.8</td>            <td></td>                <td></td>     \n",
       "</tr>\n",
       "</table>\n",
       "<table class=\"simpletable\">\n",
       "<tr>\n",
       "      <td></td>       <th>Coef.</th> <th>Std.Err.</th>    <th>z</th>   <th>P>|z|</th> <th>[0.025</th> <th>0.975]</th>\n",
       "</tr>\n",
       "<tr>\n",
       "  <th>Intercept</th> <td>50.166</td>   <td>0.502</td>  <td>99.922</td> <td>0.000</td> <td>49.182</td> <td>51.150</td>\n",
       "</tr>\n",
       "<tr>\n",
       "  <th>x1</th>         <td>0.290</td>   <td>0.038</td>   <td>7.618</td> <td>0.000</td>  <td>0.215</td>  <td>0.365</td>\n",
       "</tr>\n",
       "<tr>\n",
       "  <th>x2</th>         <td>0.366</td>   <td>0.019</td>  <td>19.152</td> <td>0.000</td>  <td>0.329</td>  <td>0.404</td>\n",
       "</tr>\n",
       "<tr>\n",
       "  <th>Group Var</th>  <td>4.889</td>   <td>0.300</td>     <td></td>      <td></td>       <td></td>       <td></td>   \n",
       "</tr>\n",
       "</table>"
      ],
      "text/plain": [
       "<class 'statsmodels.iolib.summary2.Summary'>\n",
       "\"\"\"\n",
       "         Mixed Linear Model Regression Results\n",
       "========================================================\n",
       "Model:            MixedLM Dependent Variable: estim     \n",
       "No. Observations: 1738    Method:             REML      \n",
       "No. Groups:       21      Scale:              31.2233   \n",
       "Min. group size:  72      Log-Likelihood:     -5487.8269\n",
       "Max. group size:  84      Converged:          Yes       \n",
       "Mean group size:  82.8                                  \n",
       "--------------------------------------------------------\n",
       "              Coef.  Std.Err.   z    P>|z| [0.025 0.975]\n",
       "--------------------------------------------------------\n",
       "Intercept     50.166    0.502 99.922 0.000 49.182 51.150\n",
       "x1             0.290    0.038  7.618 0.000  0.215  0.365\n",
       "x2             0.366    0.019 19.152 0.000  0.329  0.404\n",
       "Group Var      4.889    0.300                           \n",
       "========================================================\n",
       "\n",
       "\"\"\""
      ]
     },
     "execution_count": 23,
     "metadata": {},
     "output_type": "execute_result"
    }
   ],
   "source": [
    "# import package\n",
    "from statsmodels.formula.api import mixedlm\n",
    "\n",
    "# define model: \n",
    "# - the fixed effects are given in the formula as for ols\n",
    "# - the random factor is defined by 'groups' (variable 'subj')\n",
    "# - the random effects (which weights should vary per subject) is defined by re_formula (here, just the intercept so \"~1\")\n",
    "mod_sub = mixedlm(formula='estim ~ x1 + x2', data=df, groups=df['subj'], re_formula=\"~1\")\n",
    "\n",
    "# fit the model\n",
    "res_sub = mod_sub.fit(maxiter=500,method=\"nm\", reml=\"false\")\n",
    "\n",
    "# show summary\n",
    "res_sub.summary()"
   ]
  },
  {
   "cell_type": "markdown",
   "metadata": {},
   "source": [
    "This model gives us a similar result to what we got when we modeled subjects as fixed factors above. But actually subjects will differ not only because of their overall bias, but also because of a different weighting of stimulus information. So a better model will incorporate this variability, by adding the first and second stimuli as random factors."
   ]
  },
  {
   "cell_type": "code",
   "execution_count": 24,
   "metadata": {
    "ExecuteTime": {
     "end_time": "2022-02-04T22:46:56.059655Z",
     "start_time": "2022-02-04T22:46:55.261765Z"
    }
   },
   "outputs": [
    {
     "name": "stderr",
     "output_type": "stream",
     "text": [
      "C:\\ProgramData\\Anaconda3\\lib\\site-packages\\statsmodels\\base\\model.py:604: ConvergenceWarning: Maximum Likelihood optimization failed to converge. Check mle_retvals\n",
      "  warnings.warn(\"Maximum Likelihood optimization failed to \"\n",
      "C:\\ProgramData\\Anaconda3\\lib\\site-packages\\statsmodels\\regression\\mixed_linear_model.py:2206: ConvergenceWarning: MixedLM optimization failed, trying a different optimizer may help.\n",
      "  warnings.warn(msg, ConvergenceWarning)\n",
      "C:\\ProgramData\\Anaconda3\\lib\\site-packages\\statsmodels\\regression\\mixed_linear_model.py:2218: ConvergenceWarning: Gradient optimization failed, |grad| = 22.063373\n",
      "  warnings.warn(msg, ConvergenceWarning)\n"
     ]
    },
    {
     "data": {
      "text/html": [
       "<table class=\"simpletable\">\n",
       "<tr>\n",
       "       <td>Model:</td>       <td>MixedLM</td> <td>Dependent Variable:</td>    <td>estim</td>  \n",
       "</tr>\n",
       "<tr>\n",
       "  <td>No. Observations:</td>  <td>1738</td>         <td>Method:</td>          <td>REML</td>   \n",
       "</tr>\n",
       "<tr>\n",
       "     <td>No. Groups:</td>      <td>21</td>          <td>Scale:</td>          <td>30.1139</td> \n",
       "</tr>\n",
       "<tr>\n",
       "  <td>Min. group size:</td>    <td>72</td>      <td>Log-Likelihood:</td>   <td>-5470.9465</td>\n",
       "</tr>\n",
       "<tr>\n",
       "  <td>Max. group size:</td>    <td>84</td>        <td>Converged:</td>          <td>No</td>    \n",
       "</tr>\n",
       "<tr>\n",
       "  <td>Mean group size:</td>   <td>82.8</td>            <td></td>                <td></td>     \n",
       "</tr>\n",
       "</table>\n",
       "<table class=\"simpletable\">\n",
       "<tr>\n",
       "         <td></td>         <th>Coef.</th> <th>Std.Err.</th>    <th>z</th>   <th>P>|z|</th> <th>[0.025</th> <th>0.975]</th>\n",
       "</tr>\n",
       "<tr>\n",
       "  <th>Intercept</th>      <td>50.167</td>   <td>0.502</td>  <td>99.912</td> <td>0.000</td> <td>49.183</td> <td>51.151</td>\n",
       "</tr>\n",
       "<tr>\n",
       "  <th>x1</th>              <td>0.289</td>   <td>0.046</td>   <td>6.291</td> <td>0.000</td>  <td>0.199</td>  <td>0.379</td>\n",
       "</tr>\n",
       "<tr>\n",
       "  <th>x2</th>              <td>0.365</td>   <td>0.034</td>  <td>10.696</td> <td>0.000</td>  <td>0.298</td>  <td>0.432</td>\n",
       "</tr>\n",
       "<tr>\n",
       "  <th>Group Var</th>       <td>4.904</td>   <td>0.319</td>     <td></td>      <td></td>       <td></td>       <td></td>   \n",
       "</tr>\n",
       "<tr>\n",
       "  <th>Group x x1 Cov</th> <td>-0.108</td>   <td>0.025</td>     <td></td>      <td></td>       <td></td>       <td></td>   \n",
       "</tr>\n",
       "<tr>\n",
       "  <th>x1 Var</th>          <td>0.015</td>   <td>0.004</td>     <td></td>      <td></td>       <td></td>       <td></td>   \n",
       "</tr>\n",
       "<tr>\n",
       "  <th>Group x x2 Cov</th>  <td>0.001</td>   <td>0.015</td>     <td></td>      <td></td>       <td></td>       <td></td>   \n",
       "</tr>\n",
       "<tr>\n",
       "  <th>x1 x x2 Cov</th>     <td>0.015</td>   <td>0.002</td>     <td></td>      <td></td>       <td></td>       <td></td>   \n",
       "</tr>\n",
       "<tr>\n",
       "  <th>x2 Var</th>          <td>0.017</td>   <td>0.001</td>     <td></td>      <td></td>       <td></td>       <td></td>   \n",
       "</tr>\n",
       "</table>"
      ],
      "text/plain": [
       "<class 'statsmodels.iolib.summary2.Summary'>\n",
       "\"\"\"\n",
       "          Mixed Linear Model Regression Results\n",
       "=========================================================\n",
       "Model:             MixedLM Dependent Variable: estim     \n",
       "No. Observations:  1738    Method:             REML      \n",
       "No. Groups:        21      Scale:              30.1139   \n",
       "Min. group size:   72      Log-Likelihood:     -5470.9465\n",
       "Max. group size:   84      Converged:          No        \n",
       "Mean group size:   82.8                                  \n",
       "---------------------------------------------------------\n",
       "               Coef.  Std.Err.   z    P>|z| [0.025 0.975]\n",
       "---------------------------------------------------------\n",
       "Intercept      50.167    0.502 99.912 0.000 49.183 51.151\n",
       "x1              0.289    0.046  6.291 0.000  0.199  0.379\n",
       "x2              0.365    0.034 10.696 0.000  0.298  0.432\n",
       "Group Var       4.904    0.319                           \n",
       "Group x x1 Cov -0.108    0.025                           \n",
       "x1 Var          0.015    0.004                           \n",
       "Group x x2 Cov  0.001    0.015                           \n",
       "x1 x x2 Cov     0.015    0.002                           \n",
       "x2 Var          0.017    0.001                           \n",
       "=========================================================\n",
       "\n",
       "\"\"\""
      ]
     },
     "execution_count": 24,
     "metadata": {},
     "output_type": "execute_result"
    }
   ],
   "source": [
    "from statsmodels.formula.api import mixedlm\n",
    "\n",
    "# same as above, but now the random effects include x1 and x2\n",
    "mod_sub = mixedlm(formula='estim ~ x1 + x2', data=df, groups=df['subj'], re_formula=\"~x1+x2\")\n",
    "res_sub = mod_sub.fit(maxiter=500,method=\"nm\", reml=\"false\")\n",
    "\n",
    "res_sub.summary()"
   ]
  }
 ],
 "metadata": {
  "colab": {
   "name": "assignment_4-full.ipynb",
   "provenance": []
  },
  "hide_input": false,
  "kernelspec": {
   "display_name": "Python 3 (ipykernel)",
   "language": "python",
   "name": "python3"
  },
  "language_info": {
   "codemirror_mode": {
    "name": "ipython",
    "version": 3
   },
   "file_extension": ".py",
   "mimetype": "text/x-python",
   "name": "python",
   "nbconvert_exporter": "python",
   "pygments_lexer": "ipython3",
   "version": "3.10.8"
  },
  "toc": {
   "base_numbering": 1,
   "nav_menu": {},
   "number_sections": true,
   "sideBar": true,
   "skip_h1_title": false,
   "title_cell": "Table of Contents",
   "title_sidebar": "Contents",
   "toc_cell": false,
   "toc_position": {},
   "toc_section_display": true,
   "toc_window_display": false
  },
  "varInspector": {
   "cols": {
    "lenName": 16,
    "lenType": 16,
    "lenVar": 40
   },
   "kernels_config": {
    "python": {
     "delete_cmd_postfix": "",
     "delete_cmd_prefix": "del ",
     "library": "var_list.py",
     "varRefreshCmd": "print(var_dic_list())"
    },
    "r": {
     "delete_cmd_postfix": ") ",
     "delete_cmd_prefix": "rm(",
     "library": "var_list.r",
     "varRefreshCmd": "cat(var_dic_list()) "
    }
   },
   "types_to_exclude": [
    "module",
    "function",
    "builtin_function_or_method",
    "instance",
    "_Feature"
   ],
   "window_display": false
  }
 },
 "nbformat": 4,
 "nbformat_minor": 4
}
