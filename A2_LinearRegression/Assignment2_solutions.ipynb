{
 "cells": [
  {
   "cell_type": "markdown",
   "metadata": {
    "id": "pxFPNerzM0Bh"
   },
   "source": [
    "### Assignment 2: Linear regression"
   ]
  },
  {
   "cell_type": "markdown",
   "metadata": {
    "id": "M-w9eEFIIwkS"
   },
   "source": [
    "**In this assignment, we will see:**\n",
    "- how to assess the impact of an experimental factor on our experimental measurement using **linear regression**\n",
    "- how to check the validity of linear regression assumptions in a dataset\n",
    "- how to **design regressors** to answer a specific scientific question\n",
    "- how to take into account the hetereogeneity of our sample population using **linear mixed models**"
   ]
  },
  {
   "cell_type": "markdown",
   "metadata": {
    "id": "ZQkAILzgIwkS"
   },
   "source": [
    "<div class=\"alert alert-block alert-warning\">\n",
    "<b>Preparing for this assignment:</b>\n",
    "\n",
    "The following resources will help you to get ready to complete this assignment.\n",
    "<ul>\n",
    "    <li>Watch <a href=\"https://www.youtube.com/watch?v=KsVBBJRb9TE\" target=\"_blank\">this video</a> and then follow with <a href=\"https://www.youtube.com/watch?v=xIDjj6ZyFuw\" target=\"_blank\">this video</a> to learn the concepts about simple linear regression</li>\n",
    "    <li>For a complementary look on linear regression that put its into the more general framework of model fitting, watch <a href=\"https://www.youtube.com/watch?v=9JfXKmVB6qc\" target=\"_blank\">this video</a> (until 15:10) and then follow with <a href=\"https://www.youtube.com/watch?v=HumajfjJ37E\" target=\"_blank\">this video</a> (linear regression by minimizing squared errors) and <a href=\"https://www.youtube.com/watch?v=8mpNmzLKNfU\" target=\"_blank\">this one</a> (linear regression by maximizing likelihood). These are parts of the material for Model Fitting day from Neuromatch Academy which are accessible <a href=\"https://compneuro.neuromatch.io/tutorials/W1D2_ModelFitting/chapter_title.html\" target=\"_blank\">here</a>. </li>\n",
    "    <li> (Very optional) See <a href=\"https://www.cns.nyu.edu/~eero/NOTES/leastSquares.pdf\" target=\"_blank\">these notes</a> from Eero Simoncelli (NYU) if you want to delve more into the mathematics related to linear regression</li>\n",
    "</ul>\n",
    "</div>"
   ]
  },
  {
   "cell_type": "markdown",
   "metadata": {
    "id": "xW_Kk6-aIwkT"
   },
   "source": [
    "## Load the numerical judgment dataset"
   ]
  },
  {
   "cell_type": "markdown",
   "metadata": {
    "id": "pk7LRyaiIwkT"
   },
   "source": [
    "We will now use the dataset from the other experiment from the article that we used in the previous two tutorials (Talluri et al.,*Current Biology*): the **numerical judgment dataset**. The paradigm is presented in Figure 3 of the [article](https://www.cell.com/action/showPdf?pii=S0960-9822%2818%2930982-5). The structure of each trial is conceptually identical to the orientation judgment task:\n",
    "- first, a stimulus (here a sequence of number)\n",
    "- a discrimination task on this first stimulus (is the mean larger than 50?)\n",
    "- then a second stimulus (another sequence of numbers)\n",
    "- finally, a numerical judgment task (report the mean over the *two* sequences).\n",
    "\n",
    "We will address with linear regression the scientific question under focus in the original article: **is the judgment task corrupted by a confirmatory bias, i.e. a tendency to align their judgment with the intermittent choice?** More specifically, we will ask **whether subjects downweight evidence from the second stimulus if it is at odds with their intermediate choice** (i.e. if their intermediate choice was \">50\" and numbers in the second stimuli are small). The analyses we run will be a simplified version of the analyses in the original article.\n",
    "\n",
    "Load the data as a Pandas dataframe (as in Assignment 1). `x1` now represents the average value of numbers in the first sequence, and correspondingly for `x2`. Note also that this dataframe has one extra column, `binchoice`, which codes for the response of the subject on the classification task after stimulus 1 (-1: \"<50\"; 1: \">50\")."
   ]
  },
  {
   "cell_type": "code",
   "execution_count": 20,
   "metadata": {
    "colab": {
     "base_uri": "https://localhost:8080/",
     "height": 206
    },
    "id": "2sxWtBrQIwkT",
    "outputId": "181314c1-3c27-4a2c-bcec-9f5452be4933",
    "scrolled": true
   },
   "outputs": [
    {
     "data": {
      "text/html": [
       "<div>\n",
       "<style scoped>\n",
       "    .dataframe tbody tr th:only-of-type {\n",
       "        vertical-align: middle;\n",
       "    }\n",
       "\n",
       "    .dataframe tbody tr th {\n",
       "        vertical-align: top;\n",
       "    }\n",
       "\n",
       "    .dataframe thead th {\n",
       "        text-align: right;\n",
       "    }\n",
       "</style>\n",
       "<table border=\"1\" class=\"dataframe\">\n",
       "  <thead>\n",
       "    <tr style=\"text-align: right;\">\n",
       "      <th></th>\n",
       "      <th>x1</th>\n",
       "      <th>binchoice</th>\n",
       "      <th>x2</th>\n",
       "      <th>xavg</th>\n",
       "      <th>estim</th>\n",
       "      <th>subj</th>\n",
       "    </tr>\n",
       "  </thead>\n",
       "  <tbody>\n",
       "    <tr>\n",
       "      <th>0</th>\n",
       "      <td>45.375</td>\n",
       "      <td>-1</td>\n",
       "      <td>41.625</td>\n",
       "      <td>43.5000</td>\n",
       "      <td>44</td>\n",
       "      <td>1</td>\n",
       "    </tr>\n",
       "    <tr>\n",
       "      <th>1</th>\n",
       "      <td>47.500</td>\n",
       "      <td>1</td>\n",
       "      <td>38.625</td>\n",
       "      <td>43.0625</td>\n",
       "      <td>41</td>\n",
       "      <td>1</td>\n",
       "    </tr>\n",
       "    <tr>\n",
       "      <th>2</th>\n",
       "      <td>47.750</td>\n",
       "      <td>1</td>\n",
       "      <td>57.500</td>\n",
       "      <td>52.6250</td>\n",
       "      <td>54</td>\n",
       "      <td>1</td>\n",
       "    </tr>\n",
       "    <tr>\n",
       "      <th>3</th>\n",
       "      <td>46.625</td>\n",
       "      <td>-1</td>\n",
       "      <td>38.375</td>\n",
       "      <td>42.5000</td>\n",
       "      <td>40</td>\n",
       "      <td>1</td>\n",
       "    </tr>\n",
       "    <tr>\n",
       "      <th>4</th>\n",
       "      <td>47.250</td>\n",
       "      <td>-1</td>\n",
       "      <td>41.375</td>\n",
       "      <td>44.3125</td>\n",
       "      <td>45</td>\n",
       "      <td>1</td>\n",
       "    </tr>\n",
       "  </tbody>\n",
       "</table>\n",
       "</div>"
      ],
      "text/plain": [
       "       x1  binchoice      x2     xavg  estim  subj\n",
       "0  45.375         -1  41.625  43.5000     44     1\n",
       "1  47.500          1  38.625  43.0625     41     1\n",
       "2  47.750          1  57.500  52.6250     54     1\n",
       "3  46.625         -1  38.375  42.5000     40     1\n",
       "4  47.250         -1  41.375  44.3125     45     1"
      ]
     },
     "execution_count": 20,
     "metadata": {},
     "output_type": "execute_result"
    }
   ],
   "source": [
    "# import typical packages\n",
    "import numpy as np\n",
    "import matplotlib.pyplot as plt\n",
    "import pandas as pd\n",
    "\n",
    "# load the data from github\n",
    "df = pd.read_csv(\"https://raw.githubusercontent.com/wimmerlab/MBC_data_analysis/main/A2_LinearRegression/Task_Numerical.csv\",sep=',')\n",
    "\n",
    "# uncomment if you prefer to load the data locally\n",
    "#df = pd.read_csv(\"Task_Numerical.csv\",sep=',')\n",
    "\n",
    "# list of subjects\n",
    "subjects = np.unique(df.subj)\n",
    "\n",
    "df.head()"
   ]
  },
  {
   "cell_type": "markdown",
   "metadata": {
    "id": "zC4QSqZyIwkU"
   },
   "source": [
    "## 1. Simple linear regression\n",
    "We will start by looking at the relationship between the subject report $y$ (i.e. variable `estim`, the reported mean at the end of the sequence) and a single measure: the mean over the whole sequence ``xavg``. We will assume a linear relationship: $y = \\beta_1 xavg + \\beta_0 + \\text{noise}$, where $\\beta_0$ is the intercept,  $\\beta_1$ is the slope, and the noise is zero-mean gaussian (with constant variance). This is the generative formula for simple linear regression. Our goal here is to estimate the values of the parameters $(\\beta_0,\\beta_1)$ from the data.\n",
    "\n",
    "### 1.1 Naive fitting\n",
    "To start with, we will adopt a naive strategy where we adjust manually the linear curve (i.e. the formula above, without the noise) so it captures the data as good as possible. This should give us more insight about the role of the intercept and slope.\n",
    "\n",
    "**Define a function that captures the linear relationship between xavg and y,  taking the intercept and slope as input.**"
   ]
  },
  {
   "cell_type": "code",
   "execution_count": 21,
   "metadata": {
    "id": "T3qPdF6kIwkU"
   },
   "outputs": [],
   "source": [
    "def linear_function(x, beta0, beta1):\n",
    "    \"\"\"\n",
    "    Computes the linear function\n",
    "    Args:\n",
    "       X (array): value(s) of the regressor\n",
    "       beta0 (float): intercept\n",
    "       beta1 (float): slope\n",
    "    \"\"\"\n",
    "\n",
    "    # use linear relationship\n",
    "    y = beta0 + beta1 * x\n",
    "\n",
    "    # output the result\n",
    "    return y"
   ]
  },
  {
   "cell_type": "markdown",
   "metadata": {
    "id": "1ya76gdhIwkU"
   },
   "source": [
    "Now **complete the code below and run the cell**. It plots the function with have just defined (red line), along with the data points from one subject (each blue point represents a single trial). **Adjust the value of the slides to best capture the relationship between the average stimulus and the report from the data**."
   ]
  },
  {
   "cell_type": "code",
   "execution_count": 22,
   "metadata": {
    "colab": {
     "base_uri": "https://localhost:8080/",
     "height": 517,
     "referenced_widgets": [
      "64240b55190a49d1b164a6841b8b2c52",
      "14360a87d5324b459a22746098d08d89",
      "fb4ee28543994ea28b450c062dfb620d",
      "6ff7584c950e4ce09ecdf6c6e5ee2305",
      "997dfb037e504cc08237263d1aa53dd9",
      "17b396b980184a5ba2e8f66d15a499f7",
      "f6758b2d19d548dd89066d8657fc8a59",
      "39b641b8b5014652bd6276867b72bc35",
      "1002dd2758cf487380a2c09ddf24451c",
      "5b8c66a46dc948f8800812233172a9de"
     ]
    },
    "id": "aJ2qbphwIwkU",
    "outputId": "227fa219-9881-422a-e644-389d0526bfcd"
   },
   "outputs": [
    {
     "data": {
      "application/vnd.jupyter.widget-view+json": {
       "model_id": "ea467c8fd12348038785815d9122e229",
       "version_major": 2,
       "version_minor": 0
      },
      "text/plain": [
       "interactive(children=(FloatSlider(value=20.0, description='beta0', max=50.0), FloatSlider(value=0.1, descripti…"
      ]
     },
     "metadata": {},
     "output_type": "display_data"
    }
   ],
   "source": [
    "import ipywidgets as widgets       # interactive display\n",
    "#@title\n",
    "\n",
    "#select data from subject 1\n",
    "df1 = df[df.subj==1]\n",
    "\n",
    "#@markdown Make sure you execute this cell to enable the widget!\n",
    "\n",
    "@widgets.interact(\n",
    "    beta0 =widgets.FloatSlider(20, min=0, max=50), # default, min and max values for intercept\n",
    "    beta1 =widgets.FloatSlider(0.1, min=0.0, max=1.0)) # defaul, min and max values for slope\n",
    "\n",
    "def plot_data_estimate(beta0, beta1):\n",
    "\n",
    "    # set x-values for your prediction, linearly scaled values (could be just two as we're drawing a line)\n",
    "    x_data = np.linspace(35,65,10)\n",
    "\n",
    "    # given the values in x_data, predict y_data values from our model with given parameters\n",
    "    y_data = linear_function(x_data, beta0, beta1)\n",
    "\n",
    "    # plot\n",
    "    plt.plot(x_data, y_data, 'r') # plot the model prediction with a line\n",
    "    plt.plot(df1.xavg, df1.estim, 'bo') # now plot the true data from our dataframe df as dots\n",
    "    plt.xlabel('average stimulus');\n",
    "    plt.ylabel('subject report');\n",
    "\n",
    "    # Add a dotted line indicating the identity line\n",
    "    plt.plot(x_data, x_data, linestyle='--', color='gray');\n",
    "\n",
    "    plt.show(); # needed for Colab"
   ]
  },
  {
   "cell_type": "markdown",
   "metadata": {
    "id": "2OmBMGABIwkU"
   },
   "source": [
    "This was nice but we ignored the stochastic part of the linear regression model (the added Gaussian noise) which we would like to estimate as well, as it gives us an estimate of how much the model cannot explain about the data. To do so, we now need to simulate the model with noise and compare the distributions of points to the experimental one.\n",
    "First, **write a function that simulates the linear regression model (with noise), given some values of the regressor $xavg$ and parameter values**. Parameters now include the intercept $\\beta_0$, the slope $\\beta_1$ and also $\\sigma$, the standard deviation of the Gaussian noise. A Gaussian random variable can be drawn using `random` from the `numpy` package."
   ]
  },
  {
   "cell_type": "code",
   "execution_count": 23,
   "metadata": {
    "id": "2OlQ-6MeIwkU"
   },
   "outputs": [],
   "source": [
    "#import function\n",
    "from numpy.random import normal\n",
    "\n",
    "# define function that simulates the linear regression model\n",
    "def generate_linear_model(x, intercept, slope, sigma):\n",
    "    \"\"\"\n",
    "    Simulates the simple linear model\n",
    "    Args:\n",
    "       X (array): value(s) of the regressor\n",
    "       beta0 (float): intercept\n",
    "       beta1 (float): slope\n",
    "       sigma (float): standard deviation of noise parameter\n",
    "    \"\"\"\n",
    "\n",
    "    # use linear relationship\n",
    "    y = intercept + slope*x\n",
    "\n",
    "    # add gaussian noise with standard deviation = sigma\n",
    "    n = len(x)\n",
    "    y = y + sigma * normal(size=n)\n",
    "\n",
    "    # output the result\n",
    "    return y"
   ]
  },
  {
   "cell_type": "markdown",
   "metadata": {
    "id": "AjkOod_3IwkU"
   },
   "source": [
    "Now run the cell below where the black dots represent model simulations while blue dots represent the data. Play with the knobs and **adjust the parameter values to match the two distribution qualitatively**."
   ]
  },
  {
   "cell_type": "code",
   "execution_count": 24,
   "metadata": {
    "colab": {
     "base_uri": "https://localhost:8080/",
     "height": 549,
     "referenced_widgets": [
      "6efb36b432024227aef4d031d1bbecb5",
      "54bf76a1295846cba7e59d0286f9c9cc",
      "5de154876f4843708bfcaff610d61fd2",
      "8b3b235cecd84f40804680519c51016e",
      "31ea9cbd9d96468492afeebec8b564e9",
      "aeab896d5c3740fabf6e1ef637f7554c",
      "293ab231b7124854ad4136b8573c181a",
      "2358127a0fb74d87a0750742325e57a7",
      "9ead126b08514f529b2e6607266d59c6",
      "52a70d8707934247be001fae6ee2fe0e",
      "821f5d8dd0d14107a7ca6e575aecedb3",
      "2df9eaa2350a470d803e346f4916c1cd",
      "818a765ecf874798af6aa546f26cedb4"
     ]
    },
    "id": "qrb7w1u3IwkV",
    "outputId": "8c9535eb-53b6-433e-9efe-85bc755d2729"
   },
   "outputs": [
    {
     "data": {
      "application/vnd.jupyter.widget-view+json": {
       "model_id": "5c096f581fa040aaae1dca1b379d6257",
       "version_major": 2,
       "version_minor": 0
      },
      "text/plain": [
       "interactive(children=(FloatSlider(value=20.0, description='beta0', max=50.0), FloatSlider(value=0.1, descripti…"
      ]
     },
     "metadata": {},
     "output_type": "display_data"
    }
   ],
   "source": [
    "@widgets.interact(\n",
    "    beta0 =widgets.FloatSlider(20, min=0, max=50), # default, min and max values for intercept\n",
    "    beta1 =widgets.FloatSlider(0.1, min=0.0, max=1.0), # defaul, min and max values for slope\n",
    "    sigma = widgets.FloatSlider(1, min=0.0, max=20.0)) # defaul, min and max values for noise\n",
    "\n",
    "def plot_simulated_vs_real_data_estimate(beta0, beta1, sigma):\n",
    "\n",
    "     # set x-values for your prediction, same as original dataset\n",
    "    x_data = df1.xavg\n",
    "\n",
    "     # given the values in x_data, predict y_data values from model with given parameters\n",
    "    y_data = generate_linear_model(x_data, beta0, beta1,sigma)\n",
    "\n",
    "    #plot\n",
    "    plt.plot(x_data, y_data, 'ko') # plot the model prediction with black dots\n",
    "    plt.plot(df1.xavg, df1.estim, 'bo') # now plot the true data from our dataframe df as blue dots\n",
    "    plt.xlabel('average stimulus');\n",
    "    plt.ylabel('subject report');\n",
    "\n",
    "    # Add a dotted line indicating the identity line\n",
    "    plt.plot(x_data, x_data, linestyle='--', color='gray');\n",
    "\n",
    "    plt.show(); # needed for Colab"
   ]
  },
  {
   "cell_type": "markdown",
   "metadata": {
    "id": "pH0ttpQvIwkV"
   },
   "source": [
    "### 1.2 Least-square regression\n",
    "\n",
    "We will now use a more principled approach called Ordinary Least-Square (OLS) regression, which minimizes the overall estimation error of the linear model. More precisely, it looks for the parameters $(\\beta_0,\\beta_1)$ that minimizes the sum over trials of the squares of errors.\n",
    "**Run OLS regression for subject 1 and obtain the coefficients of the linear regression that fits the data.**\n",
    "\n",
    " We can run this analysis with the function `ols` in `statsmodel.formula.api`. You just need to specify the formula (the dependent variable on the left, and the regressor(s) on the right) and the dataframe for the corresponding data."
   ]
  },
  {
   "cell_type": "code",
   "execution_count": 25,
   "metadata": {
    "ExecuteTime": {
     "end_time": "2022-02-04T22:46:53.929474Z",
     "start_time": "2022-02-04T22:46:53.866909Z"
    },
    "colab": {
     "base_uri": "https://localhost:8080/"
    },
    "id": "dONKI852M0Ed",
    "outputId": "efb2756d-e418-41f9-dfa1-a8899fd38941",
    "scrolled": true
   },
   "outputs": [
    {
     "name": "stdout",
     "output_type": "stream",
     "text": [
      "Coefficients: Intercept    21.133246\n",
      "xavg          0.658960\n",
      "dtype: float64\n"
     ]
    }
   ],
   "source": [
    "# import OLS from statsmodel package\n",
    "from statsmodels.formula.api import ols\n",
    "\n",
    "# define model formula and database (point to a dataframe)\n",
    "mod = ols(formula = 'estim ~ xavg', data=df1)\n",
    "\n",
    "# fit the model\n",
    "res = mod.fit()\n",
    "\n",
    "# The coefficients\n",
    "print('Coefficients:', res.params)"
   ]
  },
  {
   "cell_type": "markdown",
   "metadata": {
    "id": "81d40tkmIwkV"
   },
   "source": [
    "You get a more complete summary using the command `summary`, including the $R^2$ (how much variance in the dependent variable does the model explains, from 0 to 1), and the confidence interval for each parameter - very useful if we want to determine if a weight is statistically different from 0 (check also the t-statistic)."
   ]
  },
  {
   "cell_type": "code",
   "execution_count": 26,
   "metadata": {
    "colab": {
     "base_uri": "https://localhost:8080/",
     "height": 448
    },
    "id": "lR5iHEZeIwkV",
    "outputId": "4f586577-e527-4a4e-9b65-faab3c346faf",
    "scrolled": true
   },
   "outputs": [
    {
     "data": {
      "text/html": [
       "<table class=\"simpletable\">\n",
       "<caption>OLS Regression Results</caption>\n",
       "<tr>\n",
       "  <th>Dep. Variable:</th>          <td>estim</td>      <th>  R-squared:         </th> <td>   0.251</td>\n",
       "</tr>\n",
       "<tr>\n",
       "  <th>Model:</th>                   <td>OLS</td>       <th>  Adj. R-squared:    </th> <td>   0.241</td>\n",
       "</tr>\n",
       "<tr>\n",
       "  <th>Method:</th>             <td>Least Squares</td>  <th>  F-statistic:       </th> <td>   26.77</td>\n",
       "</tr>\n",
       "<tr>\n",
       "  <th>Date:</th>             <td>Tue, 14 Oct 2025</td> <th>  Prob (F-statistic):</th> <td>1.66e-06</td>\n",
       "</tr>\n",
       "<tr>\n",
       "  <th>Time:</th>                 <td>21:40:22</td>     <th>  Log-Likelihood:    </th> <td> -243.67</td>\n",
       "</tr>\n",
       "<tr>\n",
       "  <th>No. Observations:</th>      <td>    82</td>      <th>  AIC:               </th> <td>   491.3</td>\n",
       "</tr>\n",
       "<tr>\n",
       "  <th>Df Residuals:</th>          <td>    80</td>      <th>  BIC:               </th> <td>   496.2</td>\n",
       "</tr>\n",
       "<tr>\n",
       "  <th>Df Model:</th>              <td>     1</td>      <th>                     </th>     <td> </td>   \n",
       "</tr>\n",
       "<tr>\n",
       "  <th>Covariance Type:</th>      <td>nonrobust</td>    <th>                     </th>     <td> </td>   \n",
       "</tr>\n",
       "</table>\n",
       "<table class=\"simpletable\">\n",
       "<tr>\n",
       "      <td></td>         <th>coef</th>     <th>std err</th>      <th>t</th>      <th>P>|t|</th>  <th>[0.025</th>    <th>0.975]</th>  \n",
       "</tr>\n",
       "<tr>\n",
       "  <th>Intercept</th> <td>   21.1332</td> <td>    6.473</td> <td>    3.265</td> <td> 0.002</td> <td>    8.252</td> <td>   34.015</td>\n",
       "</tr>\n",
       "<tr>\n",
       "  <th>xavg</th>      <td>    0.6590</td> <td>    0.127</td> <td>    5.174</td> <td> 0.000</td> <td>    0.406</td> <td>    0.912</td>\n",
       "</tr>\n",
       "</table>\n",
       "<table class=\"simpletable\">\n",
       "<tr>\n",
       "  <th>Omnibus:</th>       <td> 0.613</td> <th>  Durbin-Watson:     </th> <td>   1.426</td>\n",
       "</tr>\n",
       "<tr>\n",
       "  <th>Prob(Omnibus):</th> <td> 0.736</td> <th>  Jarque-Bera (JB):  </th> <td>   0.579</td>\n",
       "</tr>\n",
       "<tr>\n",
       "  <th>Skew:</th>          <td> 0.197</td> <th>  Prob(JB):          </th> <td>   0.749</td>\n",
       "</tr>\n",
       "<tr>\n",
       "  <th>Kurtosis:</th>      <td> 2.879</td> <th>  Cond. No.          </th> <td>    623.</td>\n",
       "</tr>\n",
       "</table><br/><br/>Notes:<br/>[1] Standard Errors assume that the covariance matrix of the errors is correctly specified."
      ],
      "text/latex": [
       "\\begin{center}\n",
       "\\begin{tabular}{lclc}\n",
       "\\toprule\n",
       "\\textbf{Dep. Variable:}    &      estim       & \\textbf{  R-squared:         } &     0.251   \\\\\n",
       "\\textbf{Model:}            &       OLS        & \\textbf{  Adj. R-squared:    } &     0.241   \\\\\n",
       "\\textbf{Method:}           &  Least Squares   & \\textbf{  F-statistic:       } &     26.77   \\\\\n",
       "\\textbf{Date:}             & Tue, 14 Oct 2025 & \\textbf{  Prob (F-statistic):} &  1.66e-06   \\\\\n",
       "\\textbf{Time:}             &     21:40:22     & \\textbf{  Log-Likelihood:    } &   -243.67   \\\\\n",
       "\\textbf{No. Observations:} &          82      & \\textbf{  AIC:               } &     491.3   \\\\\n",
       "\\textbf{Df Residuals:}     &          80      & \\textbf{  BIC:               } &     496.2   \\\\\n",
       "\\textbf{Df Model:}         &           1      & \\textbf{                     } &             \\\\\n",
       "\\textbf{Covariance Type:}  &    nonrobust     & \\textbf{                     } &             \\\\\n",
       "\\bottomrule\n",
       "\\end{tabular}\n",
       "\\begin{tabular}{lcccccc}\n",
       "                   & \\textbf{coef} & \\textbf{std err} & \\textbf{t} & \\textbf{P$> |$t$|$} & \\textbf{[0.025} & \\textbf{0.975]}  \\\\\n",
       "\\midrule\n",
       "\\textbf{Intercept} &      21.1332  &        6.473     &     3.265  &         0.002        &        8.252    &       34.015     \\\\\n",
       "\\textbf{xavg}      &       0.6590  &        0.127     &     5.174  &         0.000        &        0.406    &        0.912     \\\\\n",
       "\\bottomrule\n",
       "\\end{tabular}\n",
       "\\begin{tabular}{lclc}\n",
       "\\textbf{Omnibus:}       &  0.613 & \\textbf{  Durbin-Watson:     } &    1.426  \\\\\n",
       "\\textbf{Prob(Omnibus):} &  0.736 & \\textbf{  Jarque-Bera (JB):  } &    0.579  \\\\\n",
       "\\textbf{Skew:}          &  0.197 & \\textbf{  Prob(JB):          } &    0.749  \\\\\n",
       "\\textbf{Kurtosis:}      &  2.879 & \\textbf{  Cond. No.          } &     623.  \\\\\n",
       "\\bottomrule\n",
       "\\end{tabular}\n",
       "%\\caption{OLS Regression Results}\n",
       "\\end{center}\n",
       "\n",
       "Notes: \\newline\n",
       " [1] Standard Errors assume that the covariance matrix of the errors is correctly specified."
      ],
      "text/plain": [
       "<class 'statsmodels.iolib.summary.Summary'>\n",
       "\"\"\"\n",
       "                            OLS Regression Results                            \n",
       "==============================================================================\n",
       "Dep. Variable:                  estim   R-squared:                       0.251\n",
       "Model:                            OLS   Adj. R-squared:                  0.241\n",
       "Method:                 Least Squares   F-statistic:                     26.77\n",
       "Date:                Tue, 14 Oct 2025   Prob (F-statistic):           1.66e-06\n",
       "Time:                        21:40:22   Log-Likelihood:                -243.67\n",
       "No. Observations:                  82   AIC:                             491.3\n",
       "Df Residuals:                      80   BIC:                             496.2\n",
       "Df Model:                           1                                         \n",
       "Covariance Type:            nonrobust                                         \n",
       "==============================================================================\n",
       "                 coef    std err          t      P>|t|      [0.025      0.975]\n",
       "------------------------------------------------------------------------------\n",
       "Intercept     21.1332      6.473      3.265      0.002       8.252      34.015\n",
       "xavg           0.6590      0.127      5.174      0.000       0.406       0.912\n",
       "==============================================================================\n",
       "Omnibus:                        0.613   Durbin-Watson:                   1.426\n",
       "Prob(Omnibus):                  0.736   Jarque-Bera (JB):                0.579\n",
       "Skew:                           0.197   Prob(JB):                        0.749\n",
       "Kurtosis:                       2.879   Cond. No.                         623.\n",
       "==============================================================================\n",
       "\n",
       "Notes:\n",
       "[1] Standard Errors assume that the covariance matrix of the errors is correctly specified.\n",
       "\"\"\""
      ]
     },
     "execution_count": 26,
     "metadata": {},
     "output_type": "execute_result"
    }
   ],
   "source": [
    "#print the summary\n",
    "res.summary()"
   ]
  },
  {
   "cell_type": "markdown",
   "metadata": {
    "id": "BPi6OJRQIwkV"
   },
   "source": [
    "**Interpret the value of $R^2$.**"
   ]
  },
  {
   "cell_type": "markdown",
   "metadata": {
    "id": "ddO7wy3BIwkV"
   },
   "source": [
    "*The value is 0.251, i.e. our simple linear relationship explains about 25% of the variance in this subject reports. Explained variance in behavioral models is typically low, just because behavior is rich and cannot be constrained by a few experimental conditions. It doesn't matter so much: what matters is that the linear model (grossly) captures the dependence of the reports on the experimental conditions.*"
   ]
  },
  {
   "cell_type": "markdown",
   "metadata": {
    "id": "vG_cVbiCIwkV"
   },
   "source": [
    "**How do the fitted coefficients compare to the ones we adjusted by hand?**"
   ]
  },
  {
   "cell_type": "markdown",
   "metadata": {
    "id": "U_tql3xRIwkV"
   },
   "source": [
    "*In my case, not too bad...at least within the confidence interval.*"
   ]
  },
  {
   "cell_type": "markdown",
   "metadata": {
    "id": "brDCSFodIwkV"
   },
   "source": [
    "What about the noise parameter $\\sigma$? The estimated value is not provided directly in the table but we can easily compute it as the *root mean square error* (RMSE), i.e. $\\hat \\sigma = \\sqrt {\\frac 1 n \\sum_i e_i^2}$ where $ \\frac 1 n \\sum_i()$ refers to the mean over trials and $e_i$ is the *residual* (or error) for trial $i$, i.e. the difference on each trial between the expected value of the report (following the noiseless linear relationship) and the observed value.\n",
    "The array of residuals can be obtained using `res.resid`.\n",
    "**Compute the root mean square error.**"
   ]
  },
  {
   "cell_type": "code",
   "execution_count": 27,
   "metadata": {
    "colab": {
     "base_uri": "https://localhost:8080/"
    },
    "id": "guKz4T-pIwkV",
    "outputId": "f8fb0d2d-1bd7-4c74-9d49-b34af0a11f25"
   },
   "outputs": [
    {
     "name": "stdout",
     "output_type": "stream",
     "text": [
      "Root Mean Squared Error (RMSE): 4.724205577915149\n"
     ]
    }
   ],
   "source": [
    "# Compute the mean square error\n",
    "mse = np.mean(res.resid**2)\n",
    "\n",
    "# Take the square root\n",
    "rmse = np.sqrt(mse)\n",
    "\n",
    "print(\"Root Mean Squared Error (RMSE):\", rmse)"
   ]
  },
  {
   "cell_type": "markdown",
   "metadata": {
    "id": "Xv_r5lQAIwkV"
   },
   "source": [
    "**Compare to the value of noise adjusted by hand.**"
   ]
  },
  {
   "cell_type": "markdown",
   "metadata": {
    "id": "ERy47j8LIwkV"
   },
   "source": [
    "*I had $\\sigma = 4.4$, so not too far away from the fitted value.*"
   ]
  },
  {
   "cell_type": "markdown",
   "metadata": {
    "id": "eQQJ2GGkIwkV"
   },
   "source": [
    "### 1.3 Analysis of residuals\n",
    "Should we believe these results?\n",
    "\n",
    "One of the underlying assumption when using linear regression is the **normal distribution of independent residual errors**. It basically means two things:\n",
    "- that the noise in the model should be independent from the value of the regressor (a property that goes by the ugly name of *homoskedasticity*). Sometimes this hypothesis is not met, usually because of outliers, and that can corrupt the result of our analysis. We can check whether this is the case *a posteriori* by looking at the profile of the residuals.  The variability of these residuals should not change depending on the regressor value (here, stimulus average).\n",
    "- That the noise comes a Gaussian distribution. For this, we can check a posteriori that distribution the residuals is more or less Gaussian.\n",
    "\n",
    "Watch the [second video on linear regression above](https://youtu.be/xIDjj6ZyFuw?si=QES8GYRwbY4H8Lu0&t=290) to understand these checks.\n",
    "\n",
    "Let's perform the first check . **Check this by plotting a scatter plot of model residuals vs. the value of the regressor**. Note that this is basically equivalent to removing the linear trend from the scatter plot of (stimulus, response)."
   ]
  },
  {
   "cell_type": "code",
   "execution_count": 28,
   "metadata": {
    "colab": {
     "base_uri": "https://localhost:8080/",
     "height": 449
    },
    "id": "ZIjEkKSfIwkV",
    "outputId": "913bf39f-1523-4eb6-cde2-ebaab2e39e7d"
   },
   "outputs": [
    {
     "data": {
      "image/png": "[encoded data removed]",
      "text/plain": [
       "<Figure size 640x480 with 1 Axes>"
      ]
     },
     "metadata": {},
     "output_type": "display_data"
    }
   ],
   "source": [
    "plt.figure();\n",
    "\n",
    "# plot the residuals versus the independent variable X in a scatter plot\n",
    "plt.scatter(df1.xavg, res.resid);\n",
    "plt.ylabel('model residuals');\n",
    "plt.xlabel('model''s independent variable (xavg)');"
   ]
  },
  {
   "cell_type": "markdown",
   "metadata": {
    "id": "tCSgXOydIwkV"
   },
   "source": [
    "**What do we learn from this plot?**"
   ]
  },
  {
   "cell_type": "markdown",
   "metadata": {
    "id": "M803LcVgIwkV"
   },
   "source": [
    "*The variability of the residual seems pretty homogeneous across value of the stimulus average (distributed around the 0 value), so it looks like we can safely use linear regression here.*"
   ]
  },
  {
   "cell_type": "markdown",
   "metadata": {
    "id": "5-on2GUAIwkW"
   },
   "source": [
    "Now let's perform the second check: that the residuals are normally distributed. **Plot the distribution of residuals.**"
   ]
  },
  {
   "cell_type": "code",
   "execution_count": 29,
   "metadata": {
    "colab": {
     "base_uri": "https://localhost:8080/",
     "height": 449
    },
    "id": "NhFKx4RmIwkW",
    "outputId": "a2d9af9d-4dfa-4348-d408-ce87a039a66e"
   },
   "outputs": [
    {
     "data": {
      "image/png": "[encoded data removed]",
      "text/plain": [
       "<Figure size 640x480 with 1 Axes>"
      ]
     },
     "metadata": {},
     "output_type": "display_data"
    }
   ],
   "source": [
    "plt.figure;\n",
    "plt.hist(res.resid);\n",
    "plt.xlabel('residual');\n",
    "plt.ylabel('trial count');"
   ]
  },
  {
   "cell_type": "markdown",
   "metadata": {
    "id": "v4X-fK-pIwkW"
   },
   "source": [
    "**What do you conclude?**"
   ]
  },
  {
   "cell_type": "markdown",
   "metadata": {
    "id": "GqrDRDwMIwkW"
   },
   "source": [
    "*The number of data points is quite small to get a nice curve but it does have the typical bell shaped curve of the Gaussian, so normality seems a reasonable assumption.*"
   ]
  },
  {
   "cell_type": "markdown",
   "metadata": {
    "id": "rsvrwf3vIwkW"
   },
   "source": [
    "This can be done in a more principled manner using quantile-quantile plots with `probplot` (from the `scipy` package). This is some (nonlinear) rescaling the cumulative histogram of the residuals so that, if the residuals are indeed normally distributed, the curve (marked by blue points) should not depart too far from the (red) diagonal line. As you can see, this is the case (except perhaps the little deviation on the far right which is due to the two errors larger than 10 - those two trials may be outliers)."
   ]
  },
  {
   "cell_type": "code",
   "execution_count": 30,
   "metadata": {
    "colab": {
     "base_uri": "https://localhost:8080/",
     "height": 472
    },
    "id": "hKjbFZPNIwkW",
    "outputId": "4c5bedea-0abe-4b52-c3d1-803d3a995fb7",
    "scrolled": true
   },
   "outputs": [
    {
     "data": {
      "image/png": "[encoded data removed]",
      "text/plain": [
       "<Figure size 640x480 with 1 Axes>"
      ]
     },
     "metadata": {},
     "output_type": "display_data"
    }
   ],
   "source": [
    "# import the function\n",
    "from scipy.stats import probplot\n",
    "\n",
    "# draw quantile-quantile plot\n",
    "plt.figure;\n",
    "probplot(res.resid, plot=plt);"
   ]
  },
  {
   "cell_type": "markdown",
   "metadata": {
    "id": "5-_VfiA_IwkW"
   },
   "source": [
    "**What do you conclude from all these checks?**"
   ]
  },
  {
   "cell_type": "markdown",
   "metadata": {
    "id": "SOBHjNp2IwkW"
   },
   "source": [
    "*We passed both tests, so we can safely interpret the result of our linear regression analysis. This is something that you should be done for all analyses (although in practice very few do it in neuroscience).*"
   ]
  },
  {
   "cell_type": "markdown",
   "metadata": {
    "id": "JTH9OkL2IwkW"
   },
   "source": [
    "## 2. Multiple linear regression\n",
    "Multiple linear regression extends the framework above to **estimate jointly the impact of various regressors** (or *independent variables*) on the dependent variable. For example, the simple linear regression above used only the average of the two stimuli as a regressor, which implicitly assumes that both stimuli have the same impact on participant reports. But there is no reason to assume it, and indeed across many tasks humans and non-human subjects tend to weigh differently different pieces of information when they are provided sequentially. Sometimes they weigh more the earlier stimuli (*primacy effect*), sometimes they weigh more the later stimuli (*recency effect*), sometimes it's more complicated.\n",
    "We can estimate this using multiple linear regression where each stimuli are provided as independent regressors.\n",
    "**Implement this regression analysis, again for subject 1.** You basically just need to update the formula from the single linear model, replacing the single regressor with the sum of the two regressors."
   ]
  },
  {
   "cell_type": "code",
   "execution_count": 31,
   "metadata": {
    "colab": {
     "base_uri": "https://localhost:8080/",
     "height": 504
    },
    "id": "SXtxmTh_Iwkg",
    "outputId": "d9714f92-07b5-47c1-833b-95e3f0883c34"
   },
   "outputs": [
    {
     "data": {
      "text/html": [
       "<table class=\"simpletable\">\n",
       "<caption>OLS Regression Results</caption>\n",
       "<tr>\n",
       "  <th>Dep. Variable:</th>          <td>estim</td>      <th>  R-squared:         </th> <td>   0.281</td>\n",
       "</tr>\n",
       "<tr>\n",
       "  <th>Model:</th>                   <td>OLS</td>       <th>  Adj. R-squared:    </th> <td>   0.263</td>\n",
       "</tr>\n",
       "<tr>\n",
       "  <th>Method:</th>             <td>Least Squares</td>  <th>  F-statistic:       </th> <td>   15.46</td>\n",
       "</tr>\n",
       "<tr>\n",
       "  <th>Date:</th>             <td>Tue, 14 Oct 2025</td> <th>  Prob (F-statistic):</th> <td>2.15e-06</td>\n",
       "</tr>\n",
       "<tr>\n",
       "  <th>Time:</th>                 <td>21:40:29</td>     <th>  Log-Likelihood:    </th> <td> -241.96</td>\n",
       "</tr>\n",
       "<tr>\n",
       "  <th>No. Observations:</th>      <td>    82</td>      <th>  AIC:               </th> <td>   489.9</td>\n",
       "</tr>\n",
       "<tr>\n",
       "  <th>Df Residuals:</th>          <td>    79</td>      <th>  BIC:               </th> <td>   497.1</td>\n",
       "</tr>\n",
       "<tr>\n",
       "  <th>Df Model:</th>              <td>     2</td>      <th>                     </th>     <td> </td>   \n",
       "</tr>\n",
       "<tr>\n",
       "  <th>Covariance Type:</th>      <td>nonrobust</td>    <th>                     </th>     <td> </td>   \n",
       "</tr>\n",
       "</table>\n",
       "<table class=\"simpletable\">\n",
       "<tr>\n",
       "      <td></td>         <th>coef</th>     <th>std err</th>      <th>t</th>      <th>P>|t|</th>  <th>[0.025</th>    <th>0.975]</th>  \n",
       "</tr>\n",
       "<tr>\n",
       "  <th>Intercept</th> <td>   29.4845</td> <td>    7.837</td> <td>    3.762</td> <td> 0.000</td> <td>   13.886</td> <td>   45.083</td>\n",
       "</tr>\n",
       "<tr>\n",
       "  <th>x1</th>        <td>    0.0870</td> <td>    0.146</td> <td>    0.595</td> <td> 0.554</td> <td>   -0.204</td> <td>    0.378</td>\n",
       "</tr>\n",
       "<tr>\n",
       "  <th>x2</th>        <td>    0.4005</td> <td>    0.074</td> <td>    5.432</td> <td> 0.000</td> <td>    0.254</td> <td>    0.547</td>\n",
       "</tr>\n",
       "</table>\n",
       "<table class=\"simpletable\">\n",
       "<tr>\n",
       "  <th>Omnibus:</th>       <td> 0.525</td> <th>  Durbin-Watson:     </th> <td>   1.371</td>\n",
       "</tr>\n",
       "<tr>\n",
       "  <th>Prob(Omnibus):</th> <td> 0.769</td> <th>  Jarque-Bera (JB):  </th> <td>   0.669</td>\n",
       "</tr>\n",
       "<tr>\n",
       "  <th>Skew:</th>          <td> 0.153</td> <th>  Prob(JB):          </th> <td>   0.716</td>\n",
       "</tr>\n",
       "<tr>\n",
       "  <th>Kurtosis:</th>      <td> 2.680</td> <th>  Cond. No.          </th> <td>1.08e+03</td>\n",
       "</tr>\n",
       "</table><br/><br/>Notes:<br/>[1] Standard Errors assume that the covariance matrix of the errors is correctly specified.<br/>[2] The condition number is large, 1.08e+03. This might indicate that there are<br/>strong multicollinearity or other numerical problems."
      ],
      "text/latex": [
       "\\begin{center}\n",
       "\\begin{tabular}{lclc}\n",
       "\\toprule\n",
       "\\textbf{Dep. Variable:}    &      estim       & \\textbf{  R-squared:         } &     0.281   \\\\\n",
       "\\textbf{Model:}            &       OLS        & \\textbf{  Adj. R-squared:    } &     0.263   \\\\\n",
       "\\textbf{Method:}           &  Least Squares   & \\textbf{  F-statistic:       } &     15.46   \\\\\n",
       "\\textbf{Date:}             & Tue, 14 Oct 2025 & \\textbf{  Prob (F-statistic):} &  2.15e-06   \\\\\n",
       "\\textbf{Time:}             &     21:40:29     & \\textbf{  Log-Likelihood:    } &   -241.96   \\\\\n",
       "\\textbf{No. Observations:} &          82      & \\textbf{  AIC:               } &     489.9   \\\\\n",
       "\\textbf{Df Residuals:}     &          79      & \\textbf{  BIC:               } &     497.1   \\\\\n",
       "\\textbf{Df Model:}         &           2      & \\textbf{                     } &             \\\\\n",
       "\\textbf{Covariance Type:}  &    nonrobust     & \\textbf{                     } &             \\\\\n",
       "\\bottomrule\n",
       "\\end{tabular}\n",
       "\\begin{tabular}{lcccccc}\n",
       "                   & \\textbf{coef} & \\textbf{std err} & \\textbf{t} & \\textbf{P$> |$t$|$} & \\textbf{[0.025} & \\textbf{0.975]}  \\\\\n",
       "\\midrule\n",
       "\\textbf{Intercept} &      29.4845  &        7.837     &     3.762  &         0.000        &       13.886    &       45.083     \\\\\n",
       "\\textbf{x1}        &       0.0870  &        0.146     &     0.595  &         0.554        &       -0.204    &        0.378     \\\\\n",
       "\\textbf{x2}        &       0.4005  &        0.074     &     5.432  &         0.000        &        0.254    &        0.547     \\\\\n",
       "\\bottomrule\n",
       "\\end{tabular}\n",
       "\\begin{tabular}{lclc}\n",
       "\\textbf{Omnibus:}       &  0.525 & \\textbf{  Durbin-Watson:     } &    1.371  \\\\\n",
       "\\textbf{Prob(Omnibus):} &  0.769 & \\textbf{  Jarque-Bera (JB):  } &    0.669  \\\\\n",
       "\\textbf{Skew:}          &  0.153 & \\textbf{  Prob(JB):          } &    0.716  \\\\\n",
       "\\textbf{Kurtosis:}      &  2.680 & \\textbf{  Cond. No.          } & 1.08e+03  \\\\\n",
       "\\bottomrule\n",
       "\\end{tabular}\n",
       "%\\caption{OLS Regression Results}\n",
       "\\end{center}\n",
       "\n",
       "Notes: \\newline\n",
       " [1] Standard Errors assume that the covariance matrix of the errors is correctly specified. \\newline\n",
       " [2] The condition number is large, 1.08e+03. This might indicate that there are \\newline\n",
       " strong multicollinearity or other numerical problems."
      ],
      "text/plain": [
       "<class 'statsmodels.iolib.summary.Summary'>\n",
       "\"\"\"\n",
       "                            OLS Regression Results                            \n",
       "==============================================================================\n",
       "Dep. Variable:                  estim   R-squared:                       0.281\n",
       "Model:                            OLS   Adj. R-squared:                  0.263\n",
       "Method:                 Least Squares   F-statistic:                     15.46\n",
       "Date:                Tue, 14 Oct 2025   Prob (F-statistic):           2.15e-06\n",
       "Time:                        21:40:29   Log-Likelihood:                -241.96\n",
       "No. Observations:                  82   AIC:                             489.9\n",
       "Df Residuals:                      79   BIC:                             497.1\n",
       "Df Model:                           2                                         \n",
       "Covariance Type:            nonrobust                                         \n",
       "==============================================================================\n",
       "                 coef    std err          t      P>|t|      [0.025      0.975]\n",
       "------------------------------------------------------------------------------\n",
       "Intercept     29.4845      7.837      3.762      0.000      13.886      45.083\n",
       "x1             0.0870      0.146      0.595      0.554      -0.204       0.378\n",
       "x2             0.4005      0.074      5.432      0.000       0.254       0.547\n",
       "==============================================================================\n",
       "Omnibus:                        0.525   Durbin-Watson:                   1.371\n",
       "Prob(Omnibus):                  0.769   Jarque-Bera (JB):                0.669\n",
       "Skew:                           0.153   Prob(JB):                        0.716\n",
       "Kurtosis:                       2.680   Cond. No.                     1.08e+03\n",
       "==============================================================================\n",
       "\n",
       "Notes:\n",
       "[1] Standard Errors assume that the covariance matrix of the errors is correctly specified.\n",
       "[2] The condition number is large, 1.08e+03. This might indicate that there are\n",
       "strong multicollinearity or other numerical problems.\n",
       "\"\"\""
      ]
     },
     "execution_count": 31,
     "metadata": {},
     "output_type": "execute_result"
    }
   ],
   "source": [
    "# define the multiple linear regression model\n",
    "mod = ols(formula = 'estim ~ x1 + x2', data=df1)\n",
    "\n",
    "# fit to data\n",
    "res = mod.fit()\n",
    "\n",
    "# print the summary\n",
    "res.summary()"
   ]
  },
  {
   "cell_type": "markdown",
   "metadata": {
    "id": "fXkdI_NMIwkh"
   },
   "source": [
    "**Plot the value of the weights for the two stimuli as a bar plot (with standard error as error bars).** The value of the weights (starting with the intercept) can be accessed through `res.params[:]`, while the standard errors are called by `res.bse[:]`,"
   ]
  },
  {
   "cell_type": "code",
   "execution_count": 32,
   "metadata": {
    "colab": {
     "base_uri": "https://localhost:8080/",
     "height": 435
    },
    "id": "aHDYnwkNIwkh",
    "outputId": "d90957ff-fb2b-4162-f16d-1da8e672f392"
   },
   "outputs": [
    {
     "data": {
      "image/png": "[encoded data removed]",
      "text/plain": [
       "<Figure size 640x480 with 1 Axes>"
      ]
     },
     "metadata": {},
     "output_type": "display_data"
    }
   ],
   "source": [
    "#creat figure\n",
    "plt.figure\n",
    "\n",
    "# add bar plot with weights of the first and second stimulus\n",
    "plt.bar(range(2),res.params[1:])\n",
    "\n",
    "# add error bars with standard error of these weights\n",
    "plt.errorbar(range(2), res.params[1:], res.bse[1:],  fmt='k',linestyle='None');\n",
    "\n",
    "# add tick and axes labels\n",
    "plt.xticks(range(2), [\"first stim\",\"second stim\"]);\n",
    "plt.ylabel('weight');"
   ]
  },
  {
   "cell_type": "markdown",
   "metadata": {
    "id": "0-62MAQAIwkh"
   },
   "source": [
    "**What do you conclude?**"
   ]
  },
  {
   "cell_type": "markdown",
   "metadata": {
    "id": "UTXuH6xuIwkh"
   },
   "source": [
    "*The second stimulus has a larger impact on the report than the first one, for this subject (and this looks statistically significant given the standard errors).*"
   ]
  },
  {
   "cell_type": "markdown",
   "metadata": {
    "id": "1wPkbQtpIwkh"
   },
   "source": [
    "At this stage we will make a rapid change in the definition of the variables to ease the following analyses, using 50 as the reference point as it was used in the experiment. We will change $x_1$ to $x_1-50$ so that a positive value indicates evidence towards large mean (>50) and a negative value indicates evidence towards low mean (<50). This is done in the code below. Then we can pass the same analysis again and check that it actually does not change anything to the stimulus weights! (Although it does change the intercept)"
   ]
  },
  {
   "cell_type": "code",
   "execution_count": 33,
   "metadata": {
    "colab": {
     "base_uri": "https://localhost:8080/",
     "height": 206
    },
    "id": "_lHQj51pIwkh",
    "outputId": "1fca45cd-e359-47a9-abf7-3f5a4a61788d"
   },
   "outputs": [
    {
     "data": {
      "text/html": [
       "<div>\n",
       "<style scoped>\n",
       "    .dataframe tbody tr th:only-of-type {\n",
       "        vertical-align: middle;\n",
       "    }\n",
       "\n",
       "    .dataframe tbody tr th {\n",
       "        vertical-align: top;\n",
       "    }\n",
       "\n",
       "    .dataframe thead th {\n",
       "        text-align: right;\n",
       "    }\n",
       "</style>\n",
       "<table border=\"1\" class=\"dataframe\">\n",
       "  <thead>\n",
       "    <tr style=\"text-align: right;\">\n",
       "      <th></th>\n",
       "      <th>x1</th>\n",
       "      <th>binchoice</th>\n",
       "      <th>x2</th>\n",
       "      <th>xavg</th>\n",
       "      <th>estim</th>\n",
       "      <th>subj</th>\n",
       "    </tr>\n",
       "  </thead>\n",
       "  <tbody>\n",
       "    <tr>\n",
       "      <th>0</th>\n",
       "      <td>-4.625</td>\n",
       "      <td>-1</td>\n",
       "      <td>-8.375</td>\n",
       "      <td>-6.5000</td>\n",
       "      <td>44</td>\n",
       "      <td>1</td>\n",
       "    </tr>\n",
       "    <tr>\n",
       "      <th>1</th>\n",
       "      <td>-2.500</td>\n",
       "      <td>1</td>\n",
       "      <td>-11.375</td>\n",
       "      <td>-6.9375</td>\n",
       "      <td>41</td>\n",
       "      <td>1</td>\n",
       "    </tr>\n",
       "    <tr>\n",
       "      <th>2</th>\n",
       "      <td>-2.250</td>\n",
       "      <td>1</td>\n",
       "      <td>7.500</td>\n",
       "      <td>2.6250</td>\n",
       "      <td>54</td>\n",
       "      <td>1</td>\n",
       "    </tr>\n",
       "    <tr>\n",
       "      <th>3</th>\n",
       "      <td>-3.375</td>\n",
       "      <td>-1</td>\n",
       "      <td>-11.625</td>\n",
       "      <td>-7.5000</td>\n",
       "      <td>40</td>\n",
       "      <td>1</td>\n",
       "    </tr>\n",
       "    <tr>\n",
       "      <th>4</th>\n",
       "      <td>-2.750</td>\n",
       "      <td>-1</td>\n",
       "      <td>-8.625</td>\n",
       "      <td>-5.6875</td>\n",
       "      <td>45</td>\n",
       "      <td>1</td>\n",
       "    </tr>\n",
       "  </tbody>\n",
       "</table>\n",
       "</div>"
      ],
      "text/plain": [
       "      x1  binchoice      x2    xavg  estim  subj\n",
       "0 -4.625         -1  -8.375 -6.5000     44     1\n",
       "1 -2.500          1 -11.375 -6.9375     41     1\n",
       "2 -2.250          1   7.500  2.6250     54     1\n",
       "3 -3.375         -1 -11.625 -7.5000     40     1\n",
       "4 -2.750         -1  -8.625 -5.6875     45     1"
      ]
     },
     "execution_count": 33,
     "metadata": {},
     "output_type": "execute_result"
    }
   ],
   "source": [
    "# use 50 as reference point\n",
    "df.x1 = df.x1 - 50\n",
    "df.x2 = df.x2 - 50\n",
    "df.xavg = df.xavg - 50\n",
    "df.head()"
   ]
  },
  {
   "cell_type": "code",
   "execution_count": 34,
   "metadata": {
    "colab": {
     "base_uri": "https://localhost:8080/",
     "height": 469
    },
    "id": "MOc8BO5GIwkh",
    "outputId": "50014d3f-c720-472c-c0d7-e19f528cf832"
   },
   "outputs": [
    {
     "data": {
      "text/html": [
       "<table class=\"simpletable\">\n",
       "<caption>OLS Regression Results</caption>\n",
       "<tr>\n",
       "  <th>Dep. Variable:</th>          <td>estim</td>      <th>  R-squared:         </th> <td>   0.281</td>\n",
       "</tr>\n",
       "<tr>\n",
       "  <th>Model:</th>                   <td>OLS</td>       <th>  Adj. R-squared:    </th> <td>   0.263</td>\n",
       "</tr>\n",
       "<tr>\n",
       "  <th>Method:</th>             <td>Least Squares</td>  <th>  F-statistic:       </th> <td>   15.46</td>\n",
       "</tr>\n",
       "<tr>\n",
       "  <th>Date:</th>             <td>Tue, 14 Oct 2025</td> <th>  Prob (F-statistic):</th> <td>2.15e-06</td>\n",
       "</tr>\n",
       "<tr>\n",
       "  <th>Time:</th>                 <td>21:40:32</td>     <th>  Log-Likelihood:    </th> <td> -241.96</td>\n",
       "</tr>\n",
       "<tr>\n",
       "  <th>No. Observations:</th>      <td>    82</td>      <th>  AIC:               </th> <td>   489.9</td>\n",
       "</tr>\n",
       "<tr>\n",
       "  <th>Df Residuals:</th>          <td>    79</td>      <th>  BIC:               </th> <td>   497.1</td>\n",
       "</tr>\n",
       "<tr>\n",
       "  <th>Df Model:</th>              <td>     2</td>      <th>                     </th>     <td> </td>   \n",
       "</tr>\n",
       "<tr>\n",
       "  <th>Covariance Type:</th>      <td>nonrobust</td>    <th>                     </th>     <td> </td>   \n",
       "</tr>\n",
       "</table>\n",
       "<table class=\"simpletable\">\n",
       "<tr>\n",
       "      <td></td>         <th>coef</th>     <th>std err</th>      <th>t</th>      <th>P>|t|</th>  <th>[0.025</th>    <th>0.975]</th>  \n",
       "</tr>\n",
       "<tr>\n",
       "  <th>Intercept</th> <td>   53.8585</td> <td>    0.541</td> <td>   99.593</td> <td> 0.000</td> <td>   52.782</td> <td>   54.935</td>\n",
       "</tr>\n",
       "<tr>\n",
       "  <th>x1</th>        <td>    0.0870</td> <td>    0.146</td> <td>    0.595</td> <td> 0.554</td> <td>   -0.204</td> <td>    0.378</td>\n",
       "</tr>\n",
       "<tr>\n",
       "  <th>x2</th>        <td>    0.4005</td> <td>    0.074</td> <td>    5.432</td> <td> 0.000</td> <td>    0.254</td> <td>    0.547</td>\n",
       "</tr>\n",
       "</table>\n",
       "<table class=\"simpletable\">\n",
       "<tr>\n",
       "  <th>Omnibus:</th>       <td> 0.525</td> <th>  Durbin-Watson:     </th> <td>   1.371</td>\n",
       "</tr>\n",
       "<tr>\n",
       "  <th>Prob(Omnibus):</th> <td> 0.769</td> <th>  Jarque-Bera (JB):  </th> <td>   0.669</td>\n",
       "</tr>\n",
       "<tr>\n",
       "  <th>Skew:</th>          <td> 0.153</td> <th>  Prob(JB):          </th> <td>   0.716</td>\n",
       "</tr>\n",
       "<tr>\n",
       "  <th>Kurtosis:</th>      <td> 2.680</td> <th>  Cond. No.          </th> <td>    7.61</td>\n",
       "</tr>\n",
       "</table><br/><br/>Notes:<br/>[1] Standard Errors assume that the covariance matrix of the errors is correctly specified."
      ],
      "text/latex": [
       "\\begin{center}\n",
       "\\begin{tabular}{lclc}\n",
       "\\toprule\n",
       "\\textbf{Dep. Variable:}    &      estim       & \\textbf{  R-squared:         } &     0.281   \\\\\n",
       "\\textbf{Model:}            &       OLS        & \\textbf{  Adj. R-squared:    } &     0.263   \\\\\n",
       "\\textbf{Method:}           &  Least Squares   & \\textbf{  F-statistic:       } &     15.46   \\\\\n",
       "\\textbf{Date:}             & Tue, 14 Oct 2025 & \\textbf{  Prob (F-statistic):} &  2.15e-06   \\\\\n",
       "\\textbf{Time:}             &     21:40:32     & \\textbf{  Log-Likelihood:    } &   -241.96   \\\\\n",
       "\\textbf{No. Observations:} &          82      & \\textbf{  AIC:               } &     489.9   \\\\\n",
       "\\textbf{Df Residuals:}     &          79      & \\textbf{  BIC:               } &     497.1   \\\\\n",
       "\\textbf{Df Model:}         &           2      & \\textbf{                     } &             \\\\\n",
       "\\textbf{Covariance Type:}  &    nonrobust     & \\textbf{                     } &             \\\\\n",
       "\\bottomrule\n",
       "\\end{tabular}\n",
       "\\begin{tabular}{lcccccc}\n",
       "                   & \\textbf{coef} & \\textbf{std err} & \\textbf{t} & \\textbf{P$> |$t$|$} & \\textbf{[0.025} & \\textbf{0.975]}  \\\\\n",
       "\\midrule\n",
       "\\textbf{Intercept} &      53.8585  &        0.541     &    99.593  &         0.000        &       52.782    &       54.935     \\\\\n",
       "\\textbf{x1}        &       0.0870  &        0.146     &     0.595  &         0.554        &       -0.204    &        0.378     \\\\\n",
       "\\textbf{x2}        &       0.4005  &        0.074     &     5.432  &         0.000        &        0.254    &        0.547     \\\\\n",
       "\\bottomrule\n",
       "\\end{tabular}\n",
       "\\begin{tabular}{lclc}\n",
       "\\textbf{Omnibus:}       &  0.525 & \\textbf{  Durbin-Watson:     } &    1.371  \\\\\n",
       "\\textbf{Prob(Omnibus):} &  0.769 & \\textbf{  Jarque-Bera (JB):  } &    0.669  \\\\\n",
       "\\textbf{Skew:}          &  0.153 & \\textbf{  Prob(JB):          } &    0.716  \\\\\n",
       "\\textbf{Kurtosis:}      &  2.680 & \\textbf{  Cond. No.          } &     7.61  \\\\\n",
       "\\bottomrule\n",
       "\\end{tabular}\n",
       "%\\caption{OLS Regression Results}\n",
       "\\end{center}\n",
       "\n",
       "Notes: \\newline\n",
       " [1] Standard Errors assume that the covariance matrix of the errors is correctly specified."
      ],
      "text/plain": [
       "<class 'statsmodels.iolib.summary.Summary'>\n",
       "\"\"\"\n",
       "                            OLS Regression Results                            \n",
       "==============================================================================\n",
       "Dep. Variable:                  estim   R-squared:                       0.281\n",
       "Model:                            OLS   Adj. R-squared:                  0.263\n",
       "Method:                 Least Squares   F-statistic:                     15.46\n",
       "Date:                Tue, 14 Oct 2025   Prob (F-statistic):           2.15e-06\n",
       "Time:                        21:40:32   Log-Likelihood:                -241.96\n",
       "No. Observations:                  82   AIC:                             489.9\n",
       "Df Residuals:                      79   BIC:                             497.1\n",
       "Df Model:                           2                                         \n",
       "Covariance Type:            nonrobust                                         \n",
       "==============================================================================\n",
       "                 coef    std err          t      P>|t|      [0.025      0.975]\n",
       "------------------------------------------------------------------------------\n",
       "Intercept     53.8585      0.541     99.593      0.000      52.782      54.935\n",
       "x1             0.0870      0.146      0.595      0.554      -0.204       0.378\n",
       "x2             0.4005      0.074      5.432      0.000       0.254       0.547\n",
       "==============================================================================\n",
       "Omnibus:                        0.525   Durbin-Watson:                   1.371\n",
       "Prob(Omnibus):                  0.769   Jarque-Bera (JB):                0.669\n",
       "Skew:                           0.153   Prob(JB):                        0.716\n",
       "Kurtosis:                       2.680   Cond. No.                         7.61\n",
       "==============================================================================\n",
       "\n",
       "Notes:\n",
       "[1] Standard Errors assume that the covariance matrix of the errors is correctly specified.\n",
       "\"\"\""
      ]
     },
     "execution_count": 34,
     "metadata": {},
     "output_type": "execute_result"
    }
   ],
   "source": [
    "# dataframe for first subject\n",
    "df1 = df[df.subj==1]\n",
    "\n",
    "# re-define the multiple linear regression model\n",
    "mod = ols(formula = 'estim ~ x1 + x2', data=df1)\n",
    "\n",
    "# fit to data again\n",
    "res = mod.fit()\n",
    "\n",
    "# print the summary\n",
    "res.summary()"
   ]
  },
  {
   "cell_type": "markdown",
   "metadata": {
    "id": "sB2Vu8OPIwkh"
   },
   "source": [
    "## 3. Population analysis\n",
    "OK, this was just one subject. When we look for an effect in the general population, we use a two-level analysis:\n",
    "* 1) Fit the linear regression model for each subject, separately\n",
    "* 2) Compare the distribution of weights across subjects (e.g. with t-tests)\n",
    "\n",
    "**Use this two-level approach.** First, fit the same regression analysis for all subjects separately (with the two stimuli as regressors) and store the weights of all subjects. Then, plot the average value (across subjects) of the weights for stimulus 1 and stimulus 2 as a bar plot, with individual lines for the weights of individual subjects."
   ]
  },
  {
   "cell_type": "code",
   "execution_count": 35,
   "metadata": {
    "colab": {
     "base_uri": "https://localhost:8080/",
     "height": 449
    },
    "id": "xGS1TtjyIwkh",
    "outputId": "3a5bdc0a-2559-4b75-d041-aef7854ade9d",
    "scrolled": true
   },
   "outputs": [
    {
     "data": {
      "image/png": "[encoded data removed]",
      "text/plain": [
       "<Figure size 640x480 with 1 Axes>"
      ]
     },
     "metadata": {},
     "output_type": "display_data"
    }
   ],
   "source": [
    "#define numpy array where we will store the weights for all subjects\n",
    "pars = np.zeros((len(subjects),3))\n",
    "\n",
    "# loop through all subjects\n",
    "for i,s in enumerate(subjects):\n",
    "\n",
    "    # dataframe with data only for the corresponding subject\n",
    "    df_subj = df[df.subj==s]\n",
    "\n",
    "    # define the corresponding model\n",
    "    mod = ols(formula = 'estim ~ x1 + x2', data=df_subj)\n",
    "\n",
    "    # fit the model\n",
    "    res = mod.fit()\n",
    "\n",
    "    # add the model weights to the array\n",
    "    pars[i,:] = res.params\n",
    "\n",
    "\n",
    "# compute the mean of all weights across subjects (axis defines if we average over rows or columns)\n",
    "mean_weights = np.mean(pars,axis=0)\n",
    "\n",
    "# create figure\n",
    "plt.figure;\n",
    "\n",
    "# bar plot for mean weights for stimulus 1 and 2\n",
    "plt.bar(range(2),mean_weights[1:]);\n",
    "\n",
    "# add grey lines for weights of individual subjects\n",
    "for i in range(len(subjects)):\n",
    "    plt.plot(range(2),pars[i,1:],'grey');\n",
    "\n",
    "# add labels for ticks and axes\n",
    "plt.xticks(range(2),(\"first\",\"second\"));\n",
    "plt.xlabel(\"stimulus\");\n",
    "plt.ylabel(\"weight\");"
   ]
  },
  {
   "cell_type": "markdown",
   "metadata": {
    "id": "cedcXCgEIwkh"
   },
   "source": [
    "Now, **test formally whether there is a statistical difference across the population by using a *paired* t-test**. This is paired because for each subject we have a value for both distributions, that of the first and second stimulus weights. Paired t-tests are performed using `stats.ttest_rel`."
   ]
  },
  {
   "cell_type": "code",
   "execution_count": 36,
   "metadata": {
    "colab": {
     "base_uri": "https://localhost:8080/"
    },
    "id": "9De3rs7gIwkh",
    "outputId": "d859d77c-405d-4ed2-8ef2-e540f8a8ff3c"
   },
   "outputs": [
    {
     "data": {
      "text/plain": [
       "Ttest_relResult(statistic=-2.1380748970935253, pvalue=0.045039936742239675)"
      ]
     },
     "execution_count": 36,
     "metadata": {},
     "output_type": "execute_result"
    }
   ],
   "source": [
    "# Importing library\n",
    "import scipy.stats as stats\n",
    "\n",
    "# Performing the paired sample t-test\n",
    "stats.ttest_rel(pars[:,1], pars[:,2])"
   ]
  },
  {
   "cell_type": "markdown",
   "metadata": {
    "id": "SYQIFxjZIwkh"
   },
   "source": [
    "**What do you conclude?**"
   ]
  },
  {
   "cell_type": "markdown",
   "metadata": {
    "id": "Zf77upe_Iwkh"
   },
   "source": [
    "*There's a marginally significant recency effect across the population, whereby subject reports tend to weigh more the second stimulus than the first.*"
   ]
  },
  {
   "cell_type": "markdown",
   "metadata": {
    "id": "R79eakz7Iwkh"
   },
   "source": [
    "## 3. Testing the confirmation bias\n",
    "We are now finally in a position to test the central hypothesis of the experiment: that the intermediate choice biases the perception of the subsequent stimulus, such that this second stimulus will have a larger weight on the final report if is consistent with the intermediate choice than if it is inconsistent. Take some time to make sure you get this, because now we will want to put this in a (simple) equation.\n",
    "But first, let's **define a boolean array for this consistency and add it to the dataframe**. The value of the array should be true if the sign of `binchoice` is the same as that of $x2$ (i.e. if they are both positive, it means that the subject responded \">50\" at the intermediate choice, and that the mean of the second stimulus is above 50), false otherwise. Check that you did good."
   ]
  },
  {
   "cell_type": "code",
   "execution_count": 37,
   "metadata": {
    "colab": {
     "base_uri": "https://localhost:8080/",
     "height": 206
    },
    "id": "U1ncDKlVIwki",
    "outputId": "e14803e5-57cb-4fe5-805f-a518850d7482",
    "scrolled": true
   },
   "outputs": [
    {
     "data": {
      "text/html": [
       "<div>\n",
       "<style scoped>\n",
       "    .dataframe tbody tr th:only-of-type {\n",
       "        vertical-align: middle;\n",
       "    }\n",
       "\n",
       "    .dataframe tbody tr th {\n",
       "        vertical-align: top;\n",
       "    }\n",
       "\n",
       "    .dataframe thead th {\n",
       "        text-align: right;\n",
       "    }\n",
       "</style>\n",
       "<table border=\"1\" class=\"dataframe\">\n",
       "  <thead>\n",
       "    <tr style=\"text-align: right;\">\n",
       "      <th></th>\n",
       "      <th>x1</th>\n",
       "      <th>binchoice</th>\n",
       "      <th>x2</th>\n",
       "      <th>xavg</th>\n",
       "      <th>estim</th>\n",
       "      <th>subj</th>\n",
       "      <th>consistent</th>\n",
       "    </tr>\n",
       "  </thead>\n",
       "  <tbody>\n",
       "    <tr>\n",
       "      <th>0</th>\n",
       "      <td>-4.625</td>\n",
       "      <td>-1</td>\n",
       "      <td>-8.375</td>\n",
       "      <td>-6.5000</td>\n",
       "      <td>44</td>\n",
       "      <td>1</td>\n",
       "      <td>True</td>\n",
       "    </tr>\n",
       "    <tr>\n",
       "      <th>1</th>\n",
       "      <td>-2.500</td>\n",
       "      <td>1</td>\n",
       "      <td>-11.375</td>\n",
       "      <td>-6.9375</td>\n",
       "      <td>41</td>\n",
       "      <td>1</td>\n",
       "      <td>False</td>\n",
       "    </tr>\n",
       "    <tr>\n",
       "      <th>2</th>\n",
       "      <td>-2.250</td>\n",
       "      <td>1</td>\n",
       "      <td>7.500</td>\n",
       "      <td>2.6250</td>\n",
       "      <td>54</td>\n",
       "      <td>1</td>\n",
       "      <td>True</td>\n",
       "    </tr>\n",
       "    <tr>\n",
       "      <th>3</th>\n",
       "      <td>-3.375</td>\n",
       "      <td>-1</td>\n",
       "      <td>-11.625</td>\n",
       "      <td>-7.5000</td>\n",
       "      <td>40</td>\n",
       "      <td>1</td>\n",
       "      <td>True</td>\n",
       "    </tr>\n",
       "    <tr>\n",
       "      <th>4</th>\n",
       "      <td>-2.750</td>\n",
       "      <td>-1</td>\n",
       "      <td>-8.625</td>\n",
       "      <td>-5.6875</td>\n",
       "      <td>45</td>\n",
       "      <td>1</td>\n",
       "      <td>True</td>\n",
       "    </tr>\n",
       "  </tbody>\n",
       "</table>\n",
       "</div>"
      ],
      "text/plain": [
       "      x1  binchoice      x2    xavg  estim  subj  consistent\n",
       "0 -4.625         -1  -8.375 -6.5000     44     1        True\n",
       "1 -2.500          1 -11.375 -6.9375     41     1       False\n",
       "2 -2.250          1   7.500  2.6250     54     1        True\n",
       "3 -3.375         -1 -11.625 -7.5000     40     1        True\n",
       "4 -2.750         -1  -8.625 -5.6875     45     1        True"
      ]
     },
     "execution_count": 37,
     "metadata": {},
     "output_type": "execute_result"
    }
   ],
   "source": [
    "# sign of x2\n",
    "sgn = np.sign(df['x2'])\n",
    "\n",
    "# define boolean array for consistency\n",
    "consistent = sgn == df['binchoice']\n",
    "\n",
    "# add to dataframe\n",
    "df['consistent'] = consistent\n",
    "df.head()"
   ]
  },
  {
   "cell_type": "markdown",
   "metadata": {
    "id": "nyVLtNSwIwki"
   },
   "source": [
    "The previous model (with no impact of the intermediate binary choice on the judgment) can be written as $y = \\beta_0 + \\beta_1 x_1 + \\beta_2 x_2  + \\text{noise}.$\n",
    "How can we change this model to capture a different impact of the second stimulus depending on consistency with the intermediate choice?\n",
    "**Write the equation below** (or equivalently, the definition of the regressors)."
   ]
  },
  {
   "cell_type": "markdown",
   "metadata": {
    "id": "Ev8PzN-oIwki"
   },
   "source": [
    "*We should have a different weight for $x_2$ depending on whether it is consistent or not, i.e.\n",
    "$y = \\beta_0 + \\beta_1 x_1 + \\beta_2 x_{2C} + \\beta_3 x_{2I}  + \\text{noise}$, where $x_{2C}=x_2$ if $x2$ is consistent with the choice (and equal to 0 otherwise), and $x_{2I}=x_2$ if $x2$ is inconsistent with the choice (and equal to 0 otherwise). We can actually use equations $x_{2C} = x_2 C$ and $x_{2I} = x_2 (1-C)$, where $C$ is the value of consistency (1 if true, 0 if false). So basically we need another regression model with now three regressors: $x_1$, $x_{2C}$ and $x_{2I}$.*"
   ]
  },
  {
   "cell_type": "markdown",
   "metadata": {
    "id": "uxNYx0NnIwki"
   },
   "source": [
    "Now **add the two new regressors that you will need in the new regression model as variables to the dataframe.** Again, take some time to make sure on the first lines of the dataframe that the new variables do code what we expect them to code."
   ]
  },
  {
   "cell_type": "code",
   "execution_count": 38,
   "metadata": {
    "colab": {
     "base_uri": "https://localhost:8080/",
     "height": 206
    },
    "id": "SXOFt9lEIwki",
    "outputId": "04b392db-6b53-4763-f4f1-1b28e0f44343"
   },
   "outputs": [
    {
     "data": {
      "text/html": [
       "<div>\n",
       "<style scoped>\n",
       "    .dataframe tbody tr th:only-of-type {\n",
       "        vertical-align: middle;\n",
       "    }\n",
       "\n",
       "    .dataframe tbody tr th {\n",
       "        vertical-align: top;\n",
       "    }\n",
       "\n",
       "    .dataframe thead th {\n",
       "        text-align: right;\n",
       "    }\n",
       "</style>\n",
       "<table border=\"1\" class=\"dataframe\">\n",
       "  <thead>\n",
       "    <tr style=\"text-align: right;\">\n",
       "      <th></th>\n",
       "      <th>x1</th>\n",
       "      <th>binchoice</th>\n",
       "      <th>x2</th>\n",
       "      <th>xavg</th>\n",
       "      <th>estim</th>\n",
       "      <th>subj</th>\n",
       "      <th>consistent</th>\n",
       "      <th>x2con</th>\n",
       "      <th>x2inc</th>\n",
       "    </tr>\n",
       "  </thead>\n",
       "  <tbody>\n",
       "    <tr>\n",
       "      <th>0</th>\n",
       "      <td>-4.625</td>\n",
       "      <td>-1</td>\n",
       "      <td>-8.375</td>\n",
       "      <td>-6.5000</td>\n",
       "      <td>44</td>\n",
       "      <td>1</td>\n",
       "      <td>True</td>\n",
       "      <td>-8.375</td>\n",
       "      <td>-0.000</td>\n",
       "    </tr>\n",
       "    <tr>\n",
       "      <th>1</th>\n",
       "      <td>-2.500</td>\n",
       "      <td>1</td>\n",
       "      <td>-11.375</td>\n",
       "      <td>-6.9375</td>\n",
       "      <td>41</td>\n",
       "      <td>1</td>\n",
       "      <td>False</td>\n",
       "      <td>-0.000</td>\n",
       "      <td>-11.375</td>\n",
       "    </tr>\n",
       "    <tr>\n",
       "      <th>2</th>\n",
       "      <td>-2.250</td>\n",
       "      <td>1</td>\n",
       "      <td>7.500</td>\n",
       "      <td>2.6250</td>\n",
       "      <td>54</td>\n",
       "      <td>1</td>\n",
       "      <td>True</td>\n",
       "      <td>7.500</td>\n",
       "      <td>0.000</td>\n",
       "    </tr>\n",
       "    <tr>\n",
       "      <th>3</th>\n",
       "      <td>-3.375</td>\n",
       "      <td>-1</td>\n",
       "      <td>-11.625</td>\n",
       "      <td>-7.5000</td>\n",
       "      <td>40</td>\n",
       "      <td>1</td>\n",
       "      <td>True</td>\n",
       "      <td>-11.625</td>\n",
       "      <td>-0.000</td>\n",
       "    </tr>\n",
       "    <tr>\n",
       "      <th>4</th>\n",
       "      <td>-2.750</td>\n",
       "      <td>-1</td>\n",
       "      <td>-8.625</td>\n",
       "      <td>-5.6875</td>\n",
       "      <td>45</td>\n",
       "      <td>1</td>\n",
       "      <td>True</td>\n",
       "      <td>-8.625</td>\n",
       "      <td>-0.000</td>\n",
       "    </tr>\n",
       "  </tbody>\n",
       "</table>\n",
       "</div>"
      ],
      "text/plain": [
       "      x1  binchoice      x2    xavg  estim  subj  consistent   x2con   x2inc\n",
       "0 -4.625         -1  -8.375 -6.5000     44     1        True  -8.375  -0.000\n",
       "1 -2.500          1 -11.375 -6.9375     41     1       False  -0.000 -11.375\n",
       "2 -2.250          1   7.500  2.6250     54     1        True   7.500   0.000\n",
       "3 -3.375         -1 -11.625 -7.5000     40     1        True -11.625  -0.000\n",
       "4 -2.750         -1  -8.625 -5.6875     45     1        True  -8.625  -0.000"
      ]
     },
     "execution_count": 38,
     "metadata": {},
     "output_type": "execute_result"
    }
   ],
   "source": [
    "# x2con: equal to x2 if consistent, 0 otherwise\n",
    "x2con = df['x2'] * consistent\n",
    "\n",
    "# x2inc: equal to x2 if inconsistent, 0 otherwise\n",
    "x2inc = df['x2'] * ~consistent # could use (1-consistent) instead of ~consistent\n",
    "\n",
    "# add as variables in dataframe\n",
    "df['x2con'] = x2con\n",
    "df['x2inc'] = x2inc\n",
    "\n",
    "df.head()"
   ]
  },
  {
   "cell_type": "markdown",
   "metadata": {
    "id": "3YYsBqd5Iwki"
   },
   "source": [
    "Almost there! Now **fit the new regression model on all subjects separately and plot the values of the two types of x2 weights one against another**. Specifically, instead of plotting lines as we did for the previous model, we will represent each pair of weights using a scatter plot, with the value of one weight on the x-axis and of the other weight on the y-axis. This way, systematic differences between the weights will be seen as points lying more on one side or the other of the diagonal."
   ]
  },
  {
   "cell_type": "code",
   "execution_count": 39,
   "metadata": {
    "colab": {
     "base_uri": "https://localhost:8080/",
     "height": 449
    },
    "id": "2kmpH7QKIwki",
    "outputId": "28ccc9f5-6ec7-4cba-ee6a-6738c104b2dd"
   },
   "outputs": [
    {
     "data": {
      "image/png": "[encoded data removed]",
      "text/plain": [
       "<Figure size 640x480 with 1 Axes>"
      ]
     },
     "metadata": {},
     "output_type": "display_data"
    }
   ],
   "source": [
    "# create array for weights for each subject (how many weights per subject?)\n",
    "pars = np.zeros((len(subjects),4))\n",
    "\n",
    "# loop through all subjects\n",
    "for i,s in enumerate(subjects):\n",
    "\n",
    "    # dataframe for this subject\n",
    "    df_subj = df[df.subj==s]\n",
    "\n",
    "    # define and fit regression model\n",
    "    mod = ols(formula = 'estim ~ x1 + x2con + x2inc', data=df_subj)\n",
    "    res = mod.fit()\n",
    "\n",
    "    # store values of the parameters\n",
    "    pars[i,:] = res.params\n",
    "\n",
    "# compute mean across subjects\n",
    "mean_weights = np.mean(pars,axis=0)\n",
    "\n",
    "# create figure\n",
    "plt.figure;\n",
    "\n",
    "# add scatter plot, with values of one set of weights as X, and of the other set of weights as Y\n",
    "plt.scatter(pars[:,3],pars[:,2], s=50);\n",
    "\n",
    "# add gray diagona line\n",
    "plt.plot((0,.8),(0,.8),'gray');\n",
    "\n",
    "# vertical and horizontal lines at 0\n",
    "plt.plot(plt.xlim(),(0,0),'k');\n",
    "plt.plot((0,0),plt.ylim(),'k');\n",
    "\n",
    "# axis labels\n",
    "plt.ylabel(\"Weight for subsequent consistent stimulus\");\n",
    "plt.xlabel(\"Weight for subsequent inconsistent stimulus\");"
   ]
  },
  {
   "cell_type": "markdown",
   "metadata": {
    "id": "sHgObUKrIwki"
   },
   "source": [
    "**Perform a paired T-test between the two sets of weights.**"
   ]
  },
  {
   "cell_type": "code",
   "execution_count": 40,
   "metadata": {
    "colab": {
     "base_uri": "https://localhost:8080/"
    },
    "id": "Bzn4Ui9-Iwki",
    "outputId": "e276d394-cd0d-4172-9a2f-615e95871d24",
    "scrolled": true
   },
   "outputs": [
    {
     "data": {
      "text/plain": [
       "Ttest_relResult(statistic=6.775840240142261, pvalue=1.370653896457624e-06)"
      ]
     },
     "execution_count": 40,
     "metadata": {},
     "output_type": "execute_result"
    }
   ],
   "source": [
    "# Performing the paired sample t-test\n",
    "stats.ttest_rel(pars[:,2], pars[:,3])"
   ]
  },
  {
   "cell_type": "markdown",
   "metadata": {
    "id": "uSNXSsXeIwki"
   },
   "source": [
    "**What do you conclude?**"
   ]
  },
  {
   "cell_type": "markdown",
   "metadata": {
    "id": "9gloVFEtIwki"
   },
   "source": [
    "*The difference is highly significant ($p<10^{-5}$), showing that indeed the weight of the second stimulus is smaller if it is inconsistent with the preceding binary choice. We have confirmed our hypothesis in the data!*"
   ]
  },
  {
   "cell_type": "markdown",
   "metadata": {
    "id": "-IJBA2NEIwki"
   },
   "source": [
    "## 4 Modelling the whole population with a single model\n",
    "\n",
    "### 4.1 Naive approach with categorical variables\n",
    "We have seen above the typical two-level analysis when looking for an effect in a population of subjects: fit one model on each subject separately, and then compare the distribution of weights across participants. We will now explore single-step approaches where we would capture the whole dataset with a single regression model. The challenge is to take into account the variability of effects between different subjects in a single model."
   ]
  },
  {
   "cell_type": "markdown",
   "metadata": {
    "id": "klu1tOD6M0E8"
   },
   "source": [
    "We will start with a naive approach that will illustrate how to use **categorical regressors**.\n",
    "So let's say we want to capture the variability of participant biases, i.e. their idiosyncratic tendency to over- or under-evaluate the stimulus mean in their reports. In the linear model, this is captured by the intercept $\\beta_0$.\n",
    "So what we would like is a different intercept for each subject. This is done by adding subject identity as a categorical regressor in the design of a general linear model, which means simply `C(subj)` to the formula. This will estimate one weight for each subject (except the first subject taken as the reference).\n",
    "Note that this is different from simply adding `subj`, which would introduce a continuous instead of categorical regressor (i.e. it would capture a linear trend for later subjects to over-estimate or under-estimate compared to earlier subjects - this is not what we want!).\n",
    "**Add subject as a categorical variable to the linear regression model with x1 and x2 as regressors, and fit to the whole dataset.**"
   ]
  },
  {
   "cell_type": "code",
   "execution_count": 41,
   "metadata": {
    "ExecuteTime": {
     "end_time": "2022-02-04T22:46:54.943241Z",
     "start_time": "2022-02-04T22:46:54.939949Z"
    },
    "colab": {
     "base_uri": "https://localhost:8080/",
     "height": 892
    },
    "id": "g3U_QvKvIwki",
    "outputId": "04b5b7e1-e4ea-4715-9f27-0f8e6e7878cf"
   },
   "outputs": [
    {
     "data": {
      "text/html": [
       "<table class=\"simpletable\">\n",
       "<caption>OLS Regression Results</caption>\n",
       "<tr>\n",
       "  <th>Dep. Variable:</th>          <td>estim</td>      <th>  R-squared:         </th> <td>   0.302</td> \n",
       "</tr>\n",
       "<tr>\n",
       "  <th>Model:</th>                   <td>OLS</td>       <th>  Adj. R-squared:    </th> <td>   0.293</td> \n",
       "</tr>\n",
       "<tr>\n",
       "  <th>Method:</th>             <td>Least Squares</td>  <th>  F-statistic:       </th> <td>   33.74</td> \n",
       "</tr>\n",
       "<tr>\n",
       "  <th>Date:</th>             <td>Tue, 14 Oct 2025</td> <th>  Prob (F-statistic):</th> <td>4.89e-117</td>\n",
       "</tr>\n",
       "<tr>\n",
       "  <th>Time:</th>                 <td>21:40:43</td>     <th>  Log-Likelihood:    </th> <td> -5444.9</td> \n",
       "</tr>\n",
       "<tr>\n",
       "  <th>No. Observations:</th>      <td>  1738</td>      <th>  AIC:               </th> <td>1.094e+04</td>\n",
       "</tr>\n",
       "<tr>\n",
       "  <th>Df Residuals:</th>          <td>  1715</td>      <th>  BIC:               </th> <td>1.106e+04</td>\n",
       "</tr>\n",
       "<tr>\n",
       "  <th>Df Model:</th>              <td>    22</td>      <th>                     </th>     <td> </td>    \n",
       "</tr>\n",
       "<tr>\n",
       "  <th>Covariance Type:</th>      <td>nonrobust</td>    <th>                     </th>     <td> </td>    \n",
       "</tr>\n",
       "</table>\n",
       "<table class=\"simpletable\">\n",
       "<tr>\n",
       "        <td></td>           <th>coef</th>     <th>std err</th>      <th>t</th>      <th>P>|t|</th>  <th>[0.025</th>    <th>0.975]</th>  \n",
       "</tr>\n",
       "<tr>\n",
       "  <th>Intercept</th>     <td>   54.0018</td> <td>    0.618</td> <td>   87.348</td> <td> 0.000</td> <td>   52.789</td> <td>   55.214</td>\n",
       "</tr>\n",
       "<tr>\n",
       "  <th>C(subj)[T.2]</th>  <td>   -2.3611</td> <td>    0.867</td> <td>   -2.722</td> <td> 0.007</td> <td>   -4.062</td> <td>   -0.660</td>\n",
       "</tr>\n",
       "<tr>\n",
       "  <th>C(subj)[T.3]</th>  <td>   -7.4855</td> <td>    0.870</td> <td>   -8.604</td> <td> 0.000</td> <td>   -9.192</td> <td>   -5.779</td>\n",
       "</tr>\n",
       "<tr>\n",
       "  <th>C(subj)[T.4]</th>  <td>   -3.5873</td> <td>    0.867</td> <td>   -4.135</td> <td> 0.000</td> <td>   -5.289</td> <td>   -1.886</td>\n",
       "</tr>\n",
       "<tr>\n",
       "  <th>C(subj)[T.5]</th>  <td>   -4.6111</td> <td>    0.867</td> <td>   -5.316</td> <td> 0.000</td> <td>   -6.312</td> <td>   -2.910</td>\n",
       "</tr>\n",
       "<tr>\n",
       "  <th>C(subj)[T.6]</th>  <td>   -2.0998</td> <td>    0.870</td> <td>   -2.414</td> <td> 0.016</td> <td>   -3.806</td> <td>   -0.393</td>\n",
       "</tr>\n",
       "<tr>\n",
       "  <th>C(subj)[T.7]</th>  <td>   -2.9682</td> <td>    0.867</td> <td>   -3.422</td> <td> 0.001</td> <td>   -4.670</td> <td>   -1.267</td>\n",
       "</tr>\n",
       "<tr>\n",
       "  <th>C(subj)[T.8]</th>  <td>   -8.3966</td> <td>    0.875</td> <td>   -9.592</td> <td> 0.000</td> <td>  -10.114</td> <td>   -6.680</td>\n",
       "</tr>\n",
       "<tr>\n",
       "  <th>C(subj)[T.9]</th>  <td>   -1.7063</td> <td>    0.867</td> <td>   -1.967</td> <td> 0.049</td> <td>   -3.408</td> <td>   -0.005</td>\n",
       "</tr>\n",
       "<tr>\n",
       "  <th>C(subj)[T.10]</th> <td>   -4.8730</td> <td>    0.867</td> <td>   -5.618</td> <td> 0.000</td> <td>   -6.574</td> <td>   -3.172</td>\n",
       "</tr>\n",
       "<tr>\n",
       "  <th>C(subj)[T.11]</th> <td>   -5.6111</td> <td>    0.867</td> <td>   -6.468</td> <td> 0.000</td> <td>   -7.312</td> <td>   -3.910</td>\n",
       "</tr>\n",
       "<tr>\n",
       "  <th>C(subj)[T.12]</th> <td>   -7.8611</td> <td>    0.867</td> <td>   -9.062</td> <td> 0.000</td> <td>   -9.562</td> <td>   -6.160</td>\n",
       "</tr>\n",
       "<tr>\n",
       "  <th>C(subj)[T.13]</th> <td>   -3.1508</td> <td>    0.870</td> <td>   -3.621</td> <td> 0.000</td> <td>   -4.857</td> <td>   -1.444</td>\n",
       "</tr>\n",
       "<tr>\n",
       "  <th>C(subj)[T.14]</th> <td>   -2.9948</td> <td>    0.870</td> <td>   -3.442</td> <td> 0.001</td> <td>   -4.701</td> <td>   -1.288</td>\n",
       "</tr>\n",
       "<tr>\n",
       "  <th>C(subj)[T.15]</th> <td>   -6.3611</td> <td>    0.867</td> <td>   -7.333</td> <td> 0.000</td> <td>   -8.062</td> <td>   -4.660</td>\n",
       "</tr>\n",
       "<tr>\n",
       "  <th>C(subj)[T.16]</th> <td>   -3.4682</td> <td>    0.867</td> <td>   -3.998</td> <td> 0.000</td> <td>   -5.170</td> <td>   -1.767</td>\n",
       "</tr>\n",
       "<tr>\n",
       "  <th>C(subj)[T.17]</th> <td>   -1.8254</td> <td>    0.867</td> <td>   -2.104</td> <td> 0.035</td> <td>   -3.527</td> <td>   -0.124</td>\n",
       "</tr>\n",
       "<tr>\n",
       "  <th>C(subj)[T.18]</th> <td>   -3.7897</td> <td>    0.867</td> <td>   -4.369</td> <td> 0.000</td> <td>   -5.491</td> <td>   -2.088</td>\n",
       "</tr>\n",
       "<tr>\n",
       "  <th>C(subj)[T.19]</th> <td>   -4.4395</td> <td>    0.875</td> <td>   -5.072</td> <td> 0.000</td> <td>   -6.156</td> <td>   -2.723</td>\n",
       "</tr>\n",
       "<tr>\n",
       "  <th>C(subj)[T.20]</th> <td>   -2.3928</td> <td>    0.873</td> <td>   -2.742</td> <td> 0.006</td> <td>   -4.104</td> <td>   -0.681</td>\n",
       "</tr>\n",
       "<tr>\n",
       "  <th>C(subj)[T.21]</th> <td>   -0.5260</td> <td>    0.903</td> <td>   -0.583</td> <td> 0.560</td> <td>   -2.296</td> <td>    1.244</td>\n",
       "</tr>\n",
       "<tr>\n",
       "  <th>x1</th>            <td>    0.2900</td> <td>    0.038</td> <td>    7.615</td> <td> 0.000</td> <td>    0.215</td> <td>    0.365</td>\n",
       "</tr>\n",
       "<tr>\n",
       "  <th>x2</th>            <td>    0.3661</td> <td>    0.019</td> <td>   19.149</td> <td> 0.000</td> <td>    0.329</td> <td>    0.404</td>\n",
       "</tr>\n",
       "</table>\n",
       "<table class=\"simpletable\">\n",
       "<tr>\n",
       "  <th>Omnibus:</th>       <td>13.102</td> <th>  Durbin-Watson:     </th> <td>   1.902</td>\n",
       "</tr>\n",
       "<tr>\n",
       "  <th>Prob(Omnibus):</th> <td> 0.001</td> <th>  Jarque-Bera (JB):  </th> <td>  19.086</td>\n",
       "</tr>\n",
       "<tr>\n",
       "  <th>Skew:</th>          <td> 0.002</td> <th>  Prob(JB):          </th> <td>7.17e-05</td>\n",
       "</tr>\n",
       "<tr>\n",
       "  <th>Kurtosis:</th>      <td> 3.513</td> <th>  Cond. No.          </th> <td>    156.</td>\n",
       "</tr>\n",
       "</table><br/><br/>Notes:<br/>[1] Standard Errors assume that the covariance matrix of the errors is correctly specified."
      ],
      "text/latex": [
       "\\begin{center}\n",
       "\\begin{tabular}{lclc}\n",
       "\\toprule\n",
       "\\textbf{Dep. Variable:}    &      estim       & \\textbf{  R-squared:         } &     0.302   \\\\\n",
       "\\textbf{Model:}            &       OLS        & \\textbf{  Adj. R-squared:    } &     0.293   \\\\\n",
       "\\textbf{Method:}           &  Least Squares   & \\textbf{  F-statistic:       } &     33.74   \\\\\n",
       "\\textbf{Date:}             & Tue, 14 Oct 2025 & \\textbf{  Prob (F-statistic):} & 4.89e-117   \\\\\n",
       "\\textbf{Time:}             &     21:40:43     & \\textbf{  Log-Likelihood:    } &   -5444.9   \\\\\n",
       "\\textbf{No. Observations:} &        1738      & \\textbf{  AIC:               } & 1.094e+04   \\\\\n",
       "\\textbf{Df Residuals:}     &        1715      & \\textbf{  BIC:               } & 1.106e+04   \\\\\n",
       "\\textbf{Df Model:}         &          22      & \\textbf{                     } &             \\\\\n",
       "\\textbf{Covariance Type:}  &    nonrobust     & \\textbf{                     } &             \\\\\n",
       "\\bottomrule\n",
       "\\end{tabular}\n",
       "\\begin{tabular}{lcccccc}\n",
       "                       & \\textbf{coef} & \\textbf{std err} & \\textbf{t} & \\textbf{P$> |$t$|$} & \\textbf{[0.025} & \\textbf{0.975]}  \\\\\n",
       "\\midrule\n",
       "\\textbf{Intercept}     &      54.0018  &        0.618     &    87.348  &         0.000        &       52.789    &       55.214     \\\\\n",
       "\\textbf{C(subj)[T.2]}  &      -2.3611  &        0.867     &    -2.722  &         0.007        &       -4.062    &       -0.660     \\\\\n",
       "\\textbf{C(subj)[T.3]}  &      -7.4855  &        0.870     &    -8.604  &         0.000        &       -9.192    &       -5.779     \\\\\n",
       "\\textbf{C(subj)[T.4]}  &      -3.5873  &        0.867     &    -4.135  &         0.000        &       -5.289    &       -1.886     \\\\\n",
       "\\textbf{C(subj)[T.5]}  &      -4.6111  &        0.867     &    -5.316  &         0.000        &       -6.312    &       -2.910     \\\\\n",
       "\\textbf{C(subj)[T.6]}  &      -2.0998  &        0.870     &    -2.414  &         0.016        &       -3.806    &       -0.393     \\\\\n",
       "\\textbf{C(subj)[T.7]}  &      -2.9682  &        0.867     &    -3.422  &         0.001        &       -4.670    &       -1.267     \\\\\n",
       "\\textbf{C(subj)[T.8]}  &      -8.3966  &        0.875     &    -9.592  &         0.000        &      -10.114    &       -6.680     \\\\\n",
       "\\textbf{C(subj)[T.9]}  &      -1.7063  &        0.867     &    -1.967  &         0.049        &       -3.408    &       -0.005     \\\\\n",
       "\\textbf{C(subj)[T.10]} &      -4.8730  &        0.867     &    -5.618  &         0.000        &       -6.574    &       -3.172     \\\\\n",
       "\\textbf{C(subj)[T.11]} &      -5.6111  &        0.867     &    -6.468  &         0.000        &       -7.312    &       -3.910     \\\\\n",
       "\\textbf{C(subj)[T.12]} &      -7.8611  &        0.867     &    -9.062  &         0.000        &       -9.562    &       -6.160     \\\\\n",
       "\\textbf{C(subj)[T.13]} &      -3.1508  &        0.870     &    -3.621  &         0.000        &       -4.857    &       -1.444     \\\\\n",
       "\\textbf{C(subj)[T.14]} &      -2.9948  &        0.870     &    -3.442  &         0.001        &       -4.701    &       -1.288     \\\\\n",
       "\\textbf{C(subj)[T.15]} &      -6.3611  &        0.867     &    -7.333  &         0.000        &       -8.062    &       -4.660     \\\\\n",
       "\\textbf{C(subj)[T.16]} &      -3.4682  &        0.867     &    -3.998  &         0.000        &       -5.170    &       -1.767     \\\\\n",
       "\\textbf{C(subj)[T.17]} &      -1.8254  &        0.867     &    -2.104  &         0.035        &       -3.527    &       -0.124     \\\\\n",
       "\\textbf{C(subj)[T.18]} &      -3.7897  &        0.867     &    -4.369  &         0.000        &       -5.491    &       -2.088     \\\\\n",
       "\\textbf{C(subj)[T.19]} &      -4.4395  &        0.875     &    -5.072  &         0.000        &       -6.156    &       -2.723     \\\\\n",
       "\\textbf{C(subj)[T.20]} &      -2.3928  &        0.873     &    -2.742  &         0.006        &       -4.104    &       -0.681     \\\\\n",
       "\\textbf{C(subj)[T.21]} &      -0.5260  &        0.903     &    -0.583  &         0.560        &       -2.296    &        1.244     \\\\\n",
       "\\textbf{x1}            &       0.2900  &        0.038     &     7.615  &         0.000        &        0.215    &        0.365     \\\\\n",
       "\\textbf{x2}            &       0.3661  &        0.019     &    19.149  &         0.000        &        0.329    &        0.404     \\\\\n",
       "\\bottomrule\n",
       "\\end{tabular}\n",
       "\\begin{tabular}{lclc}\n",
       "\\textbf{Omnibus:}       & 13.102 & \\textbf{  Durbin-Watson:     } &    1.902  \\\\\n",
       "\\textbf{Prob(Omnibus):} &  0.001 & \\textbf{  Jarque-Bera (JB):  } &   19.086  \\\\\n",
       "\\textbf{Skew:}          &  0.002 & \\textbf{  Prob(JB):          } & 7.17e-05  \\\\\n",
       "\\textbf{Kurtosis:}      &  3.513 & \\textbf{  Cond. No.          } &     156.  \\\\\n",
       "\\bottomrule\n",
       "\\end{tabular}\n",
       "%\\caption{OLS Regression Results}\n",
       "\\end{center}\n",
       "\n",
       "Notes: \\newline\n",
       " [1] Standard Errors assume that the covariance matrix of the errors is correctly specified."
      ],
      "text/plain": [
       "<class 'statsmodels.iolib.summary.Summary'>\n",
       "\"\"\"\n",
       "                            OLS Regression Results                            \n",
       "==============================================================================\n",
       "Dep. Variable:                  estim   R-squared:                       0.302\n",
       "Model:                            OLS   Adj. R-squared:                  0.293\n",
       "Method:                 Least Squares   F-statistic:                     33.74\n",
       "Date:                Tue, 14 Oct 2025   Prob (F-statistic):          4.89e-117\n",
       "Time:                        21:40:43   Log-Likelihood:                -5444.9\n",
       "No. Observations:                1738   AIC:                         1.094e+04\n",
       "Df Residuals:                    1715   BIC:                         1.106e+04\n",
       "Df Model:                          22                                         \n",
       "Covariance Type:            nonrobust                                         \n",
       "=================================================================================\n",
       "                    coef    std err          t      P>|t|      [0.025      0.975]\n",
       "---------------------------------------------------------------------------------\n",
       "Intercept        54.0018      0.618     87.348      0.000      52.789      55.214\n",
       "C(subj)[T.2]     -2.3611      0.867     -2.722      0.007      -4.062      -0.660\n",
       "C(subj)[T.3]     -7.4855      0.870     -8.604      0.000      -9.192      -5.779\n",
       "C(subj)[T.4]     -3.5873      0.867     -4.135      0.000      -5.289      -1.886\n",
       "C(subj)[T.5]     -4.6111      0.867     -5.316      0.000      -6.312      -2.910\n",
       "C(subj)[T.6]     -2.0998      0.870     -2.414      0.016      -3.806      -0.393\n",
       "C(subj)[T.7]     -2.9682      0.867     -3.422      0.001      -4.670      -1.267\n",
       "C(subj)[T.8]     -8.3966      0.875     -9.592      0.000     -10.114      -6.680\n",
       "C(subj)[T.9]     -1.7063      0.867     -1.967      0.049      -3.408      -0.005\n",
       "C(subj)[T.10]    -4.8730      0.867     -5.618      0.000      -6.574      -3.172\n",
       "C(subj)[T.11]    -5.6111      0.867     -6.468      0.000      -7.312      -3.910\n",
       "C(subj)[T.12]    -7.8611      0.867     -9.062      0.000      -9.562      -6.160\n",
       "C(subj)[T.13]    -3.1508      0.870     -3.621      0.000      -4.857      -1.444\n",
       "C(subj)[T.14]    -2.9948      0.870     -3.442      0.001      -4.701      -1.288\n",
       "C(subj)[T.15]    -6.3611      0.867     -7.333      0.000      -8.062      -4.660\n",
       "C(subj)[T.16]    -3.4682      0.867     -3.998      0.000      -5.170      -1.767\n",
       "C(subj)[T.17]    -1.8254      0.867     -2.104      0.035      -3.527      -0.124\n",
       "C(subj)[T.18]    -3.7897      0.867     -4.369      0.000      -5.491      -2.088\n",
       "C(subj)[T.19]    -4.4395      0.875     -5.072      0.000      -6.156      -2.723\n",
       "C(subj)[T.20]    -2.3928      0.873     -2.742      0.006      -4.104      -0.681\n",
       "C(subj)[T.21]    -0.5260      0.903     -0.583      0.560      -2.296       1.244\n",
       "x1                0.2900      0.038      7.615      0.000       0.215       0.365\n",
       "x2                0.3661      0.019     19.149      0.000       0.329       0.404\n",
       "==============================================================================\n",
       "Omnibus:                       13.102   Durbin-Watson:                   1.902\n",
       "Prob(Omnibus):                  0.001   Jarque-Bera (JB):               19.086\n",
       "Skew:                           0.002   Prob(JB):                     7.17e-05\n",
       "Kurtosis:                       3.513   Cond. No.                         156.\n",
       "==============================================================================\n",
       "\n",
       "Notes:\n",
       "[1] Standard Errors assume that the covariance matrix of the errors is correctly specified.\n",
       "\"\"\""
      ]
     },
     "execution_count": 41,
     "metadata": {},
     "output_type": "execute_result"
    }
   ],
   "source": [
    "# define the multiple linear regression model\n",
    "mod = ols(formula = 'estim ~ x1 + x2 + C(subj)', data=df)\n",
    "\n",
    "# fit to data\n",
    "res = mod.fit()\n",
    "\n",
    "# print the summary\n",
    "res.summary()"
   ]
  },
  {
   "cell_type": "markdown",
   "metadata": {
    "id": "5IQFS0IDIwki"
   },
   "source": [
    "**Can you find the weights for the regressor of interest? Why are the other regressors not “of interest”? Why do we include them, then?**"
   ]
  },
  {
   "cell_type": "markdown",
   "metadata": {
    "id": "7UYRE8qeIwkj"
   },
   "source": [
    "*The regressors of interest are the stimulus weights. Their values is fairly similar to the average values over participants that we found when using the two-level approach in section 2).\n",
    "The other regressors are not \"of interest\" because we don't really care about the biases for specific subjects - although we might if were interested in correlating subject-to-subject variability with for example personnality traits. We include them because they explain some part of the variability in the reports, and so improve the statistical power of our analysis.*"
   ]
  },
  {
   "cell_type": "markdown",
   "metadata": {
    "id": "6UV1HXE3Iwkj"
   },
   "source": [
    "**How do you interpret subject weights?**"
   ]
  },
  {
   "cell_type": "markdown",
   "metadata": {
    "id": "GBeSj3ZmIwkj"
   },
   "source": [
    "*Subject-specific weights give the value of the overall bias for this subject compared to the value for the reference subject (subject 1). In other words, the value of a subject overall bias is the sum of their specific weight and the intercept. For example, for subject 2, this sum is 54-2.36=52.74 which is larger than 50, so this subject slightly overestimated the stimulus mean overall.*"
   ]
  },
  {
   "cell_type": "markdown",
   "metadata": {
    "id": "TwO_DzUuIwkj"
   },
   "source": [
    "### 4.2 Linear mixed models\n",
    "Now we will take is a more principled approach to it, *linear mixed models*. In this framework, we consider subjects as *random factors*, i.e. factors that are not of interest per se but that contribute to the variability. Instead of estimating one parameter per subject, these models directly estimate the variance of the weight across the population (assuming, again, Gaussian statistics). In this way, one parameter of variance will take care of the variability across participants. Linear models that include both fixed factors (the baseline effect in the whole population - what we are generally interested in) and random factors (a variance parameter accounting for a family of regressors) are called \"mixed models\". These are usually the way that we should model subjects in our designs. Mixed models in the case of linear regression are called linear mixed models."
   ]
  },
  {
   "cell_type": "markdown",
   "metadata": {
    "id": "LAGt5f_GIwkj"
   },
   "source": [
    "Let us implement a linear mixed model where the random factor for the intercept of each participant. This is very similar to the traditional linear regression model we just defined with subject-specific biases, except that now we directly estimate the distribution of biases across the population, rather than each subject bias."
   ]
  },
  {
   "cell_type": "code",
   "execution_count": 42,
   "metadata": {
    "ExecuteTime": {
     "end_time": "2022-02-04T22:46:55.260351Z",
     "start_time": "2022-02-04T22:46:54.971773Z"
    },
    "colab": {
     "base_uri": "https://localhost:8080/",
     "height": 271
    },
    "id": "OawmGQU2M0FF",
    "outputId": "e9fa445e-9a5c-4d6a-9b15-09dba70de4e7"
   },
   "outputs": [
    {
     "data": {
      "text/html": [
       "<table class=\"simpletable\">\n",
       "<tr>\n",
       "       <td>Model:</td>       <td>MixedLM</td> <td>Dependent Variable:</td>    <td>estim</td>  \n",
       "</tr>\n",
       "<tr>\n",
       "  <td>No. Observations:</td>  <td>1738</td>         <td>Method:</td>          <td>REML</td>   \n",
       "</tr>\n",
       "<tr>\n",
       "     <td>No. Groups:</td>      <td>21</td>          <td>Scale:</td>          <td>31.2233</td> \n",
       "</tr>\n",
       "<tr>\n",
       "  <td>Min. group size:</td>    <td>72</td>      <td>Log-Likelihood:</td>   <td>-5487.8269</td>\n",
       "</tr>\n",
       "<tr>\n",
       "  <td>Max. group size:</td>    <td>84</td>        <td>Converged:</td>          <td>Yes</td>   \n",
       "</tr>\n",
       "<tr>\n",
       "  <td>Mean group size:</td>   <td>82.8</td>            <td></td>                <td></td>     \n",
       "</tr>\n",
       "</table>\n",
       "<table class=\"simpletable\">\n",
       "<tr>\n",
       "      <td></td>       <th>Coef.</th> <th>Std.Err.</th>    <th>z</th>   <th>P>|z|</th> <th>[0.025</th> <th>0.975]</th>\n",
       "</tr>\n",
       "<tr>\n",
       "  <th>Intercept</th> <td>50.166</td>   <td>0.502</td>  <td>99.922</td> <td>0.000</td> <td>49.182</td> <td>51.150</td>\n",
       "</tr>\n",
       "<tr>\n",
       "  <th>x1</th>         <td>0.290</td>   <td>0.038</td>   <td>7.618</td> <td>0.000</td>  <td>0.215</td>  <td>0.365</td>\n",
       "</tr>\n",
       "<tr>\n",
       "  <th>x2</th>         <td>0.366</td>   <td>0.019</td>  <td>19.152</td> <td>0.000</td>  <td>0.329</td>  <td>0.404</td>\n",
       "</tr>\n",
       "<tr>\n",
       "  <th>Group Var</th>  <td>4.889</td>   <td>0.300</td>     <td></td>      <td></td>       <td></td>       <td></td>   \n",
       "</tr>\n",
       "</table><br/>\n"
      ],
      "text/latex": [
       "\\begin{table}\n",
       "\\caption{Mixed Linear Model Regression Results}\n",
       "\\label{}\n",
       "\\begin{center}\n",
       "\\begin{tabular}{llll}\n",
       "\\hline\n",
       "Model:            & MixedLM & Dependent Variable: & estim       \\\\\n",
       "No. Observations: & 1738    & Method:             & REML        \\\\\n",
       "No. Groups:       & 21      & Scale:              & 31.2233     \\\\\n",
       "Min. group size:  & 72      & Log-Likelihood:     & -5487.8269  \\\\\n",
       "Max. group size:  & 84      & Converged:          & Yes         \\\\\n",
       "Mean group size:  & 82.8    &                     &             \\\\\n",
       "\\hline\n",
       "\\end{tabular}\n",
       "\\end{center}\n",
       "\n",
       "\\begin{center}\n",
       "\\begin{tabular}{lrrrrrr}\n",
       "\\hline\n",
       "          &  Coef. & Std.Err. &      z & P$> |$z$|$ & [0.025 & 0.975]  \\\\\n",
       "\\hline\n",
       "Intercept & 50.166 &    0.502 & 99.922 &       0.000 & 49.182 & 51.150  \\\\\n",
       "x1        &  0.290 &    0.038 &  7.618 &       0.000 &  0.215 &  0.365  \\\\\n",
       "x2        &  0.366 &    0.019 & 19.152 &       0.000 &  0.329 &  0.404  \\\\\n",
       "Group Var &  4.889 &    0.300 &        &             &        &         \\\\\n",
       "\\hline\n",
       "\\end{tabular}\n",
       "\\end{center}\n",
       "\\end{table}\n",
       "\\bigskip\n"
      ],
      "text/plain": [
       "<class 'statsmodels.iolib.summary2.Summary'>\n",
       "\"\"\"\n",
       "         Mixed Linear Model Regression Results\n",
       "========================================================\n",
       "Model:            MixedLM Dependent Variable: estim     \n",
       "No. Observations: 1738    Method:             REML      \n",
       "No. Groups:       21      Scale:              31.2233   \n",
       "Min. group size:  72      Log-Likelihood:     -5487.8269\n",
       "Max. group size:  84      Converged:          Yes       \n",
       "Mean group size:  82.8                                  \n",
       "--------------------------------------------------------\n",
       "              Coef.  Std.Err.   z    P>|z| [0.025 0.975]\n",
       "--------------------------------------------------------\n",
       "Intercept     50.166    0.502 99.922 0.000 49.182 51.150\n",
       "x1             0.290    0.038  7.618 0.000  0.215  0.365\n",
       "x2             0.366    0.019 19.152 0.000  0.329  0.404\n",
       "Group Var      4.889    0.300                           \n",
       "========================================================\n",
       "\n",
       "\"\"\""
      ]
     },
     "execution_count": 42,
     "metadata": {},
     "output_type": "execute_result"
    }
   ],
   "source": [
    "# import package\n",
    "from statsmodels.formula.api import mixedlm\n",
    "\n",
    "# define model:\n",
    "# - the fixed effects are given in the formula as for ols\n",
    "# - the random factor is defined by 'groups' (variable 'subj')\n",
    "# - the random effects (which weights should vary per subject) is defined by re_formula (here, just the intercept so \"~1\")\n",
    "mod_sub = mixedlm(formula='estim ~ x1 + x2', data=df, groups=df['subj'], re_formula=\"~1\")\n",
    "\n",
    "# fit the model\n",
    "res_sub = mod_sub.fit(maxiter=500,method=\"nm\", reml=\"false\")\n",
    "\n",
    "# show summary\n",
    "res_sub.summary()"
   ]
  },
  {
   "cell_type": "markdown",
   "metadata": {
    "id": "xmqbWBAsIwkj"
   },
   "source": [
    "This model gives us a similar result to what we got when we modeled subjects as fixed factors above. But actually subjects will differ not only because of their overall bias, but also because of a different weighting of stimulus information. So a better model will incorporate this variability, by adding the first and second stimuli as random factors."
   ]
  },
  {
   "cell_type": "code",
   "execution_count": 43,
   "metadata": {
    "ExecuteTime": {
     "end_time": "2022-02-04T22:46:56.059655Z",
     "start_time": "2022-02-04T22:46:55.261765Z"
    },
    "colab": {
     "base_uri": "https://localhost:8080/",
     "height": 481
    },
    "id": "qzLydSVZIwkj",
    "outputId": "aa25ec1c-96af-4dcb-d6db-4a8a8c2315f2"
   },
   "outputs": [
    {
     "name": "stderr",
     "output_type": "stream",
     "text": [
      "/Users/klaus/opt/anaconda3/envs/brian2_full/lib/python3.10/site-packages/statsmodels/base/model.py:607: ConvergenceWarning: Maximum Likelihood optimization failed to converge. Check mle_retvals\n",
      "  warnings.warn(\"Maximum Likelihood optimization failed to \"\n",
      "/Users/klaus/opt/anaconda3/envs/brian2_full/lib/python3.10/site-packages/statsmodels/regression/mixed_linear_model.py:2206: ConvergenceWarning: MixedLM optimization failed, trying a different optimizer may help.\n",
      "  warnings.warn(msg, ConvergenceWarning)\n",
      "/Users/klaus/opt/anaconda3/envs/brian2_full/lib/python3.10/site-packages/statsmodels/regression/mixed_linear_model.py:2218: ConvergenceWarning: Gradient optimization failed, |grad| = 22.063373\n",
      "  warnings.warn(msg, ConvergenceWarning)\n"
     ]
    },
    {
     "data": {
      "text/html": [
       "<table class=\"simpletable\">\n",
       "<tr>\n",
       "       <td>Model:</td>       <td>MixedLM</td> <td>Dependent Variable:</td>    <td>estim</td>  \n",
       "</tr>\n",
       "<tr>\n",
       "  <td>No. Observations:</td>  <td>1738</td>         <td>Method:</td>          <td>REML</td>   \n",
       "</tr>\n",
       "<tr>\n",
       "     <td>No. Groups:</td>      <td>21</td>          <td>Scale:</td>          <td>30.1139</td> \n",
       "</tr>\n",
       "<tr>\n",
       "  <td>Min. group size:</td>    <td>72</td>      <td>Log-Likelihood:</td>   <td>-5470.9465</td>\n",
       "</tr>\n",
       "<tr>\n",
       "  <td>Max. group size:</td>    <td>84</td>        <td>Converged:</td>          <td>No</td>    \n",
       "</tr>\n",
       "<tr>\n",
       "  <td>Mean group size:</td>   <td>82.8</td>            <td></td>                <td></td>     \n",
       "</tr>\n",
       "</table>\n",
       "<table class=\"simpletable\">\n",
       "<tr>\n",
       "         <td></td>         <th>Coef.</th> <th>Std.Err.</th>    <th>z</th>   <th>P>|z|</th> <th>[0.025</th> <th>0.975]</th>\n",
       "</tr>\n",
       "<tr>\n",
       "  <th>Intercept</th>      <td>50.167</td>   <td>0.502</td>  <td>99.912</td> <td>0.000</td> <td>49.183</td> <td>51.151</td>\n",
       "</tr>\n",
       "<tr>\n",
       "  <th>x1</th>              <td>0.289</td>   <td>0.046</td>   <td>6.291</td> <td>0.000</td>  <td>0.199</td>  <td>0.379</td>\n",
       "</tr>\n",
       "<tr>\n",
       "  <th>x2</th>              <td>0.365</td>   <td>0.034</td>  <td>10.696</td> <td>0.000</td>  <td>0.298</td>  <td>0.432</td>\n",
       "</tr>\n",
       "<tr>\n",
       "  <th>Group Var</th>       <td>4.904</td>   <td>0.319</td>     <td></td>      <td></td>       <td></td>       <td></td>   \n",
       "</tr>\n",
       "<tr>\n",
       "  <th>Group x x1 Cov</th> <td>-0.108</td>   <td>0.025</td>     <td></td>      <td></td>       <td></td>       <td></td>   \n",
       "</tr>\n",
       "<tr>\n",
       "  <th>x1 Var</th>          <td>0.015</td>   <td>0.004</td>     <td></td>      <td></td>       <td></td>       <td></td>   \n",
       "</tr>\n",
       "<tr>\n",
       "  <th>Group x x2 Cov</th>  <td>0.001</td>   <td>0.015</td>     <td></td>      <td></td>       <td></td>       <td></td>   \n",
       "</tr>\n",
       "<tr>\n",
       "  <th>x1 x x2 Cov</th>     <td>0.015</td>   <td>0.002</td>     <td></td>      <td></td>       <td></td>       <td></td>   \n",
       "</tr>\n",
       "<tr>\n",
       "  <th>x2 Var</th>          <td>0.017</td>   <td>0.001</td>     <td></td>      <td></td>       <td></td>       <td></td>   \n",
       "</tr>\n",
       "</table><br/>\n"
      ],
      "text/latex": [
       "\\begin{table}\n",
       "\\caption{Mixed Linear Model Regression Results}\n",
       "\\label{}\n",
       "\\begin{center}\n",
       "\\begin{tabular}{llll}\n",
       "\\hline\n",
       "Model:            & MixedLM & Dependent Variable: & estim       \\\\\n",
       "No. Observations: & 1738    & Method:             & REML        \\\\\n",
       "No. Groups:       & 21      & Scale:              & 30.1139     \\\\\n",
       "Min. group size:  & 72      & Log-Likelihood:     & -5470.9465  \\\\\n",
       "Max. group size:  & 84      & Converged:          & No          \\\\\n",
       "Mean group size:  & 82.8    &                     &             \\\\\n",
       "\\hline\n",
       "\\end{tabular}\n",
       "\\end{center}\n",
       "\n",
       "\\begin{center}\n",
       "\\begin{tabular}{lrrrrrr}\n",
       "\\hline\n",
       "               &  Coef. & Std.Err. &      z & P$> |$z$|$ & [0.025 & 0.975]  \\\\\n",
       "\\hline\n",
       "Intercept      & 50.167 &    0.502 & 99.912 &       0.000 & 49.183 & 51.151  \\\\\n",
       "x1             &  0.289 &    0.046 &  6.291 &       0.000 &  0.199 &  0.379  \\\\\n",
       "x2             &  0.365 &    0.034 & 10.696 &       0.000 &  0.298 &  0.432  \\\\\n",
       "Group Var      &  4.904 &    0.319 &        &             &        &         \\\\\n",
       "Group x x1 Cov & -0.108 &    0.025 &        &             &        &         \\\\\n",
       "x1 Var         &  0.015 &    0.004 &        &             &        &         \\\\\n",
       "Group x x2 Cov &  0.001 &    0.015 &        &             &        &         \\\\\n",
       "x1 x x2 Cov    &  0.015 &    0.002 &        &             &        &         \\\\\n",
       "x2 Var         &  0.017 &    0.001 &        &             &        &         \\\\\n",
       "\\hline\n",
       "\\end{tabular}\n",
       "\\end{center}\n",
       "\\end{table}\n",
       "\\bigskip\n"
      ],
      "text/plain": [
       "<class 'statsmodels.iolib.summary2.Summary'>\n",
       "\"\"\"\n",
       "          Mixed Linear Model Regression Results\n",
       "=========================================================\n",
       "Model:             MixedLM Dependent Variable: estim     \n",
       "No. Observations:  1738    Method:             REML      \n",
       "No. Groups:        21      Scale:              30.1139   \n",
       "Min. group size:   72      Log-Likelihood:     -5470.9465\n",
       "Max. group size:   84      Converged:          No        \n",
       "Mean group size:   82.8                                  \n",
       "---------------------------------------------------------\n",
       "               Coef.  Std.Err.   z    P>|z| [0.025 0.975]\n",
       "---------------------------------------------------------\n",
       "Intercept      50.167    0.502 99.912 0.000 49.183 51.151\n",
       "x1              0.289    0.046  6.291 0.000  0.199  0.379\n",
       "x2              0.365    0.034 10.696 0.000  0.298  0.432\n",
       "Group Var       4.904    0.319                           \n",
       "Group x x1 Cov -0.108    0.025                           \n",
       "x1 Var          0.015    0.004                           \n",
       "Group x x2 Cov  0.001    0.015                           \n",
       "x1 x x2 Cov     0.015    0.002                           \n",
       "x2 Var          0.017    0.001                           \n",
       "=========================================================\n",
       "\n",
       "\"\"\""
      ]
     },
     "execution_count": 43,
     "metadata": {},
     "output_type": "execute_result"
    }
   ],
   "source": [
    "from statsmodels.formula.api import mixedlm\n",
    "\n",
    "# same as above, but now the random effects include x1 and x2\n",
    "mod_sub = mixedlm(formula='estim ~ x1 + x2', data=df, groups=df['subj'], re_formula=\"~x1+x2\")\n",
    "res_sub = mod_sub.fit(maxiter=500,method=\"nm\", reml=\"false\")\n",
    "\n",
    "res_sub.summary()"
   ]
  },
  {
   "cell_type": "code",
   "execution_count": null,
   "metadata": {},
   "outputs": [],
   "source": []
  }
 ],
 "metadata": {
  "colab": {
   "provenance": []
  },
  "hide_input": false,
  "kernelspec": {
   "display_name": "Python 3 (ipykernel)",
   "language": "python",
   "name": "python3"
  },
  "language_info": {
   "codemirror_mode": {
    "name": "ipython",
    "version": 3
   },
   "file_extension": ".py",
   "mimetype": "text/x-python",
   "name": "python",
   "nbconvert_exporter": "python",
   "pygments_lexer": "ipython3",
   "version": "3.10.8"
  },
  "toc": {
   "base_numbering": 1,
   "nav_menu": {},
   "number_sections": true,
   "sideBar": true,
   "skip_h1_title": false,
   "title_cell": "Table of Contents",
   "title_sidebar": "Contents",
   "toc_cell": false,
   "toc_position": {},
   "toc_section_display": true,
   "toc_window_display": false
  },
  "varInspector": {
   "cols": {
    "lenName": 16,
    "lenType": 16,
    "lenVar": 40
   },
   "kernels_config": {
    "python": {
     "delete_cmd_postfix": "",
     "delete_cmd_prefix": "del ",
     "library": "var_list.py",
     "varRefreshCmd": "print(var_dic_list())"
    },
    "r": {
     "delete_cmd_postfix": ") ",
     "delete_cmd_prefix": "rm(",
     "library": "var_list.r",
     "varRefreshCmd": "cat(var_dic_list()) "
    }
   },
   "types_to_exclude": [
    "module",
    "function",
    "builtin_function_or_method",
    "instance",
    "_Feature"
   ],
   "window_display": false
  },
  "widgets": {
   "application/vnd.jupyter.widget-state+json": {
    "1002dd2758cf487380a2c09ddf24451c": {
     "model_module": "@jupyter-widgets/controls",
     "model_module_version": "1.5.0",
     "model_name": "SliderStyleModel",
     "state": {
      "_model_module": "@jupyter-widgets/controls",
      "_model_module_version": "1.5.0",
      "_model_name": "SliderStyleModel",
      "_view_count": null,
      "_view_module": "@jupyter-widgets/base",
      "_view_module_version": "1.2.0",
      "_view_name": "StyleView",
      "description_width": "",
      "handle_color": null
     }
    },
    "14360a87d5324b459a22746098d08d89": {
     "model_module": "@jupyter-widgets/controls",
     "model_module_version": "1.5.0",
     "model_name": "FloatSliderModel",
     "state": {
      "_dom_classes": [],
      "_model_module": "@jupyter-widgets/controls",
      "_model_module_version": "1.5.0",
      "_model_name": "FloatSliderModel",
      "_view_count": null,
      "_view_module": "@jupyter-widgets/controls",
      "_view_module_version": "1.5.0",
      "_view_name": "FloatSliderView",
      "continuous_update": true,
      "description": "beta0",
      "description_tooltip": null,
      "disabled": false,
      "layout": "IPY_MODEL_17b396b980184a5ba2e8f66d15a499f7",
      "max": 50,
      "min": 0,
      "orientation": "horizontal",
      "readout": true,
      "readout_format": ".2f",
      "step": 0.1,
      "style": "IPY_MODEL_f6758b2d19d548dd89066d8657fc8a59",
      "value": 20
     }
    },
    "17b396b980184a5ba2e8f66d15a499f7": {
     "model_module": "@jupyter-widgets/base",
     "model_module_version": "1.2.0",
     "model_name": "LayoutModel",
     "state": {
      "_model_module": "@jupyter-widgets/base",
      "_model_module_version": "1.2.0",
      "_model_name": "LayoutModel",
      "_view_count": null,
      "_view_module": "@jupyter-widgets/base",
      "_view_module_version": "1.2.0",
      "_view_name": "LayoutView",
      "align_content": null,
      "align_items": null,
      "align_self": null,
      "border": null,
      "bottom": null,
      "display": null,
      "flex": null,
      "flex_flow": null,
      "grid_area": null,
      "grid_auto_columns": null,
      "grid_auto_flow": null,
      "grid_auto_rows": null,
      "grid_column": null,
      "grid_gap": null,
      "grid_row": null,
      "grid_template_areas": null,
      "grid_template_columns": null,
      "grid_template_rows": null,
      "height": null,
      "justify_content": null,
      "justify_items": null,
      "left": null,
      "margin": null,
      "max_height": null,
      "max_width": null,
      "min_height": null,
      "min_width": null,
      "object_fit": null,
      "object_position": null,
      "order": null,
      "overflow": null,
      "overflow_x": null,
      "overflow_y": null,
      "padding": null,
      "right": null,
      "top": null,
      "visibility": null,
      "width": null
     }
    },
    "2358127a0fb74d87a0750742325e57a7": {
     "model_module": "@jupyter-widgets/controls",
     "model_module_version": "1.5.0",
     "model_name": "SliderStyleModel",
     "state": {
      "_model_module": "@jupyter-widgets/controls",
      "_model_module_version": "1.5.0",
      "_model_name": "SliderStyleModel",
      "_view_count": null,
      "_view_module": "@jupyter-widgets/base",
      "_view_module_version": "1.2.0",
      "_view_name": "StyleView",
      "description_width": "",
      "handle_color": null
     }
    },
    "293ab231b7124854ad4136b8573c181a": {
     "model_module": "@jupyter-widgets/base",
     "model_module_version": "1.2.0",
     "model_name": "LayoutModel",
     "state": {
      "_model_module": "@jupyter-widgets/base",
      "_model_module_version": "1.2.0",
      "_model_name": "LayoutModel",
      "_view_count": null,
      "_view_module": "@jupyter-widgets/base",
      "_view_module_version": "1.2.0",
      "_view_name": "LayoutView",
      "align_content": null,
      "align_items": null,
      "align_self": null,
      "border": null,
      "bottom": null,
      "display": null,
      "flex": null,
      "flex_flow": null,
      "grid_area": null,
      "grid_auto_columns": null,
      "grid_auto_flow": null,
      "grid_auto_rows": null,
      "grid_column": null,
      "grid_gap": null,
      "grid_row": null,
      "grid_template_areas": null,
      "grid_template_columns": null,
      "grid_template_rows": null,
      "height": null,
      "justify_content": null,
      "justify_items": null,
      "left": null,
      "margin": null,
      "max_height": null,
      "max_width": null,
      "min_height": null,
      "min_width": null,
      "object_fit": null,
      "object_position": null,
      "order": null,
      "overflow": null,
      "overflow_x": null,
      "overflow_y": null,
      "padding": null,
      "right": null,
      "top": null,
      "visibility": null,
      "width": null
     }
    },
    "2df9eaa2350a470d803e346f4916c1cd": {
     "model_module": "@jupyter-widgets/controls",
     "model_module_version": "1.5.0",
     "model_name": "SliderStyleModel",
     "state": {
      "_model_module": "@jupyter-widgets/controls",
      "_model_module_version": "1.5.0",
      "_model_name": "SliderStyleModel",
      "_view_count": null,
      "_view_module": "@jupyter-widgets/base",
      "_view_module_version": "1.2.0",
      "_view_name": "StyleView",
      "description_width": "",
      "handle_color": null
     }
    },
    "31ea9cbd9d96468492afeebec8b564e9": {
     "model_module": "@jupyter-widgets/output",
     "model_module_version": "1.0.0",
     "model_name": "OutputModel",
     "state": {
      "_dom_classes": [],
      "_model_module": "@jupyter-widgets/output",
      "_model_module_version": "1.0.0",
      "_model_name": "OutputModel",
      "_view_count": null,
      "_view_module": "@jupyter-widgets/output",
      "_view_module_version": "1.0.0",
      "_view_name": "OutputView",
      "layout": "IPY_MODEL_818a765ecf874798af6aa546f26cedb4",
      "msg_id": "",
      "outputs": [
       {
        "data": {
         "image/png": "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\n",
         "text/plain": "<Figure size 640x480 with 1 Axes>"
        },
        "metadata": {},
        "output_type": "display_data"
       }
      ]
     }
    },
    "39b641b8b5014652bd6276867b72bc35": {
     "model_module": "@jupyter-widgets/base",
     "model_module_version": "1.2.0",
     "model_name": "LayoutModel",
     "state": {
      "_model_module": "@jupyter-widgets/base",
      "_model_module_version": "1.2.0",
      "_model_name": "LayoutModel",
      "_view_count": null,
      "_view_module": "@jupyter-widgets/base",
      "_view_module_version": "1.2.0",
      "_view_name": "LayoutView",
      "align_content": null,
      "align_items": null,
      "align_self": null,
      "border": null,
      "bottom": null,
      "display": null,
      "flex": null,
      "flex_flow": null,
      "grid_area": null,
      "grid_auto_columns": null,
      "grid_auto_flow": null,
      "grid_auto_rows": null,
      "grid_column": null,
      "grid_gap": null,
      "grid_row": null,
      "grid_template_areas": null,
      "grid_template_columns": null,
      "grid_template_rows": null,
      "height": null,
      "justify_content": null,
      "justify_items": null,
      "left": null,
      "margin": null,
      "max_height": null,
      "max_width": null,
      "min_height": null,
      "min_width": null,
      "object_fit": null,
      "object_position": null,
      "order": null,
      "overflow": null,
      "overflow_x": null,
      "overflow_y": null,
      "padding": null,
      "right": null,
      "top": null,
      "visibility": null,
      "width": null
     }
    },
    "52a70d8707934247be001fae6ee2fe0e": {
     "model_module": "@jupyter-widgets/controls",
     "model_module_version": "1.5.0",
     "model_name": "SliderStyleModel",
     "state": {
      "_model_module": "@jupyter-widgets/controls",
      "_model_module_version": "1.5.0",
      "_model_name": "SliderStyleModel",
      "_view_count": null,
      "_view_module": "@jupyter-widgets/base",
      "_view_module_version": "1.2.0",
      "_view_name": "StyleView",
      "description_width": "",
      "handle_color": null
     }
    },
    "54bf76a1295846cba7e59d0286f9c9cc": {
     "model_module": "@jupyter-widgets/controls",
     "model_module_version": "1.5.0",
     "model_name": "FloatSliderModel",
     "state": {
      "_dom_classes": [],
      "_model_module": "@jupyter-widgets/controls",
      "_model_module_version": "1.5.0",
      "_model_name": "FloatSliderModel",
      "_view_count": null,
      "_view_module": "@jupyter-widgets/controls",
      "_view_module_version": "1.5.0",
      "_view_name": "FloatSliderView",
      "continuous_update": true,
      "description": "beta0",
      "description_tooltip": null,
      "disabled": false,
      "layout": "IPY_MODEL_293ab231b7124854ad4136b8573c181a",
      "max": 50,
      "min": 0,
      "orientation": "horizontal",
      "readout": true,
      "readout_format": ".2f",
      "step": 0.1,
      "style": "IPY_MODEL_2358127a0fb74d87a0750742325e57a7",
      "value": 20
     }
    },
    "5b8c66a46dc948f8800812233172a9de": {
     "model_module": "@jupyter-widgets/base",
     "model_module_version": "1.2.0",
     "model_name": "LayoutModel",
     "state": {
      "_model_module": "@jupyter-widgets/base",
      "_model_module_version": "1.2.0",
      "_model_name": "LayoutModel",
      "_view_count": null,
      "_view_module": "@jupyter-widgets/base",
      "_view_module_version": "1.2.0",
      "_view_name": "LayoutView",
      "align_content": null,
      "align_items": null,
      "align_self": null,
      "border": null,
      "bottom": null,
      "display": null,
      "flex": null,
      "flex_flow": null,
      "grid_area": null,
      "grid_auto_columns": null,
      "grid_auto_flow": null,
      "grid_auto_rows": null,
      "grid_column": null,
      "grid_gap": null,
      "grid_row": null,
      "grid_template_areas": null,
      "grid_template_columns": null,
      "grid_template_rows": null,
      "height": null,
      "justify_content": null,
      "justify_items": null,
      "left": null,
      "margin": null,
      "max_height": null,
      "max_width": null,
      "min_height": null,
      "min_width": null,
      "object_fit": null,
      "object_position": null,
      "order": null,
      "overflow": null,
      "overflow_x": null,
      "overflow_y": null,
      "padding": null,
      "right": null,
      "top": null,
      "visibility": null,
      "width": null
     }
    },
    "5de154876f4843708bfcaff610d61fd2": {
     "model_module": "@jupyter-widgets/controls",
     "model_module_version": "1.5.0",
     "model_name": "FloatSliderModel",
     "state": {
      "_dom_classes": [],
      "_model_module": "@jupyter-widgets/controls",
      "_model_module_version": "1.5.0",
      "_model_name": "FloatSliderModel",
      "_view_count": null,
      "_view_module": "@jupyter-widgets/controls",
      "_view_module_version": "1.5.0",
      "_view_name": "FloatSliderView",
      "continuous_update": true,
      "description": "beta1",
      "description_tooltip": null,
      "disabled": false,
      "layout": "IPY_MODEL_9ead126b08514f529b2e6607266d59c6",
      "max": 1,
      "min": 0,
      "orientation": "horizontal",
      "readout": true,
      "readout_format": ".2f",
      "step": 0.1,
      "style": "IPY_MODEL_52a70d8707934247be001fae6ee2fe0e",
      "value": 0.1
     }
    },
    "64240b55190a49d1b164a6841b8b2c52": {
     "model_module": "@jupyter-widgets/controls",
     "model_module_version": "1.5.0",
     "model_name": "VBoxModel",
     "state": {
      "_dom_classes": [
       "widget-interact"
      ],
      "_model_module": "@jupyter-widgets/controls",
      "_model_module_version": "1.5.0",
      "_model_name": "VBoxModel",
      "_view_count": null,
      "_view_module": "@jupyter-widgets/controls",
      "_view_module_version": "1.5.0",
      "_view_name": "VBoxView",
      "box_style": "",
      "children": [
       "IPY_MODEL_14360a87d5324b459a22746098d08d89",
       "IPY_MODEL_fb4ee28543994ea28b450c062dfb620d",
       "IPY_MODEL_6ff7584c950e4ce09ecdf6c6e5ee2305"
      ],
      "layout": "IPY_MODEL_997dfb037e504cc08237263d1aa53dd9"
     }
    },
    "6efb36b432024227aef4d031d1bbecb5": {
     "model_module": "@jupyter-widgets/controls",
     "model_module_version": "1.5.0",
     "model_name": "VBoxModel",
     "state": {
      "_dom_classes": [
       "widget-interact"
      ],
      "_model_module": "@jupyter-widgets/controls",
      "_model_module_version": "1.5.0",
      "_model_name": "VBoxModel",
      "_view_count": null,
      "_view_module": "@jupyter-widgets/controls",
      "_view_module_version": "1.5.0",
      "_view_name": "VBoxView",
      "box_style": "",
      "children": [
       "IPY_MODEL_54bf76a1295846cba7e59d0286f9c9cc",
       "IPY_MODEL_5de154876f4843708bfcaff610d61fd2",
       "IPY_MODEL_8b3b235cecd84f40804680519c51016e",
       "IPY_MODEL_31ea9cbd9d96468492afeebec8b564e9"
      ],
      "layout": "IPY_MODEL_aeab896d5c3740fabf6e1ef637f7554c"
     }
    },
    "6ff7584c950e4ce09ecdf6c6e5ee2305": {
     "model_module": "@jupyter-widgets/output",
     "model_module_version": "1.0.0",
     "model_name": "OutputModel",
     "state": {
      "_dom_classes": [],
      "_model_module": "@jupyter-widgets/output",
      "_model_module_version": "1.0.0",
      "_model_name": "OutputModel",
      "_view_count": null,
      "_view_module": "@jupyter-widgets/output",
      "_view_module_version": "1.0.0",
      "_view_name": "OutputView",
      "layout": "IPY_MODEL_5b8c66a46dc948f8800812233172a9de",
      "msg_id": "",
      "outputs": [
       {
        "data": {
         "image/png": "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\n",
         "text/plain": "<Figure size 640x480 with 1 Axes>"
        },
        "metadata": {},
        "output_type": "display_data"
       }
      ]
     }
    },
    "818a765ecf874798af6aa546f26cedb4": {
     "model_module": "@jupyter-widgets/base",
     "model_module_version": "1.2.0",
     "model_name": "LayoutModel",
     "state": {
      "_model_module": "@jupyter-widgets/base",
      "_model_module_version": "1.2.0",
      "_model_name": "LayoutModel",
      "_view_count": null,
      "_view_module": "@jupyter-widgets/base",
      "_view_module_version": "1.2.0",
      "_view_name": "LayoutView",
      "align_content": null,
      "align_items": null,
      "align_self": null,
      "border": null,
      "bottom": null,
      "display": null,
      "flex": null,
      "flex_flow": null,
      "grid_area": null,
      "grid_auto_columns": null,
      "grid_auto_flow": null,
      "grid_auto_rows": null,
      "grid_column": null,
      "grid_gap": null,
      "grid_row": null,
      "grid_template_areas": null,
      "grid_template_columns": null,
      "grid_template_rows": null,
      "height": null,
      "justify_content": null,
      "justify_items": null,
      "left": null,
      "margin": null,
      "max_height": null,
      "max_width": null,
      "min_height": null,
      "min_width": null,
      "object_fit": null,
      "object_position": null,
      "order": null,
      "overflow": null,
      "overflow_x": null,
      "overflow_y": null,
      "padding": null,
      "right": null,
      "top": null,
      "visibility": null,
      "width": null
     }
    },
    "821f5d8dd0d14107a7ca6e575aecedb3": {
     "model_module": "@jupyter-widgets/base",
     "model_module_version": "1.2.0",
     "model_name": "LayoutModel",
     "state": {
      "_model_module": "@jupyter-widgets/base",
      "_model_module_version": "1.2.0",
      "_model_name": "LayoutModel",
      "_view_count": null,
      "_view_module": "@jupyter-widgets/base",
      "_view_module_version": "1.2.0",
      "_view_name": "LayoutView",
      "align_content": null,
      "align_items": null,
      "align_self": null,
      "border": null,
      "bottom": null,
      "display": null,
      "flex": null,
      "flex_flow": null,
      "grid_area": null,
      "grid_auto_columns": null,
      "grid_auto_flow": null,
      "grid_auto_rows": null,
      "grid_column": null,
      "grid_gap": null,
      "grid_row": null,
      "grid_template_areas": null,
      "grid_template_columns": null,
      "grid_template_rows": null,
      "height": null,
      "justify_content": null,
      "justify_items": null,
      "left": null,
      "margin": null,
      "max_height": null,
      "max_width": null,
      "min_height": null,
      "min_width": null,
      "object_fit": null,
      "object_position": null,
      "order": null,
      "overflow": null,
      "overflow_x": null,
      "overflow_y": null,
      "padding": null,
      "right": null,
      "top": null,
      "visibility": null,
      "width": null
     }
    },
    "8b3b235cecd84f40804680519c51016e": {
     "model_module": "@jupyter-widgets/controls",
     "model_module_version": "1.5.0",
     "model_name": "FloatSliderModel",
     "state": {
      "_dom_classes": [],
      "_model_module": "@jupyter-widgets/controls",
      "_model_module_version": "1.5.0",
      "_model_name": "FloatSliderModel",
      "_view_count": null,
      "_view_module": "@jupyter-widgets/controls",
      "_view_module_version": "1.5.0",
      "_view_name": "FloatSliderView",
      "continuous_update": true,
      "description": "sigma",
      "description_tooltip": null,
      "disabled": false,
      "layout": "IPY_MODEL_821f5d8dd0d14107a7ca6e575aecedb3",
      "max": 20,
      "min": 0,
      "orientation": "horizontal",
      "readout": true,
      "readout_format": ".2f",
      "step": 0.1,
      "style": "IPY_MODEL_2df9eaa2350a470d803e346f4916c1cd",
      "value": 1
     }
    },
    "997dfb037e504cc08237263d1aa53dd9": {
     "model_module": "@jupyter-widgets/base",
     "model_module_version": "1.2.0",
     "model_name": "LayoutModel",
     "state": {
      "_model_module": "@jupyter-widgets/base",
      "_model_module_version": "1.2.0",
      "_model_name": "LayoutModel",
      "_view_count": null,
      "_view_module": "@jupyter-widgets/base",
      "_view_module_version": "1.2.0",
      "_view_name": "LayoutView",
      "align_content": null,
      "align_items": null,
      "align_self": null,
      "border": null,
      "bottom": null,
      "display": null,
      "flex": null,
      "flex_flow": null,
      "grid_area": null,
      "grid_auto_columns": null,
      "grid_auto_flow": null,
      "grid_auto_rows": null,
      "grid_column": null,
      "grid_gap": null,
      "grid_row": null,
      "grid_template_areas": null,
      "grid_template_columns": null,
      "grid_template_rows": null,
      "height": null,
      "justify_content": null,
      "justify_items": null,
      "left": null,
      "margin": null,
      "max_height": null,
      "max_width": null,
      "min_height": null,
      "min_width": null,
      "object_fit": null,
      "object_position": null,
      "order": null,
      "overflow": null,
      "overflow_x": null,
      "overflow_y": null,
      "padding": null,
      "right": null,
      "top": null,
      "visibility": null,
      "width": null
     }
    },
    "9ead126b08514f529b2e6607266d59c6": {
     "model_module": "@jupyter-widgets/base",
     "model_module_version": "1.2.0",
     "model_name": "LayoutModel",
     "state": {
      "_model_module": "@jupyter-widgets/base",
      "_model_module_version": "1.2.0",
      "_model_name": "LayoutModel",
      "_view_count": null,
      "_view_module": "@jupyter-widgets/base",
      "_view_module_version": "1.2.0",
      "_view_name": "LayoutView",
      "align_content": null,
      "align_items": null,
      "align_self": null,
      "border": null,
      "bottom": null,
      "display": null,
      "flex": null,
      "flex_flow": null,
      "grid_area": null,
      "grid_auto_columns": null,
      "grid_auto_flow": null,
      "grid_auto_rows": null,
      "grid_column": null,
      "grid_gap": null,
      "grid_row": null,
      "grid_template_areas": null,
      "grid_template_columns": null,
      "grid_template_rows": null,
      "height": null,
      "justify_content": null,
      "justify_items": null,
      "left": null,
      "margin": null,
      "max_height": null,
      "max_width": null,
      "min_height": null,
      "min_width": null,
      "object_fit": null,
      "object_position": null,
      "order": null,
      "overflow": null,
      "overflow_x": null,
      "overflow_y": null,
      "padding": null,
      "right": null,
      "top": null,
      "visibility": null,
      "width": null
     }
    },
    "aeab896d5c3740fabf6e1ef637f7554c": {
     "model_module": "@jupyter-widgets/base",
     "model_module_version": "1.2.0",
     "model_name": "LayoutModel",
     "state": {
      "_model_module": "@jupyter-widgets/base",
      "_model_module_version": "1.2.0",
      "_model_name": "LayoutModel",
      "_view_count": null,
      "_view_module": "@jupyter-widgets/base",
      "_view_module_version": "1.2.0",
      "_view_name": "LayoutView",
      "align_content": null,
      "align_items": null,
      "align_self": null,
      "border": null,
      "bottom": null,
      "display": null,
      "flex": null,
      "flex_flow": null,
      "grid_area": null,
      "grid_auto_columns": null,
      "grid_auto_flow": null,
      "grid_auto_rows": null,
      "grid_column": null,
      "grid_gap": null,
      "grid_row": null,
      "grid_template_areas": null,
      "grid_template_columns": null,
      "grid_template_rows": null,
      "height": null,
      "justify_content": null,
      "justify_items": null,
      "left": null,
      "margin": null,
      "max_height": null,
      "max_width": null,
      "min_height": null,
      "min_width": null,
      "object_fit": null,
      "object_position": null,
      "order": null,
      "overflow": null,
      "overflow_x": null,
      "overflow_y": null,
      "padding": null,
      "right": null,
      "top": null,
      "visibility": null,
      "width": null
     }
    },
    "f6758b2d19d548dd89066d8657fc8a59": {
     "model_module": "@jupyter-widgets/controls",
     "model_module_version": "1.5.0",
     "model_name": "SliderStyleModel",
     "state": {
      "_model_module": "@jupyter-widgets/controls",
      "_model_module_version": "1.5.0",
      "_model_name": "SliderStyleModel",
      "_view_count": null,
      "_view_module": "@jupyter-widgets/base",
      "_view_module_version": "1.2.0",
      "_view_name": "StyleView",
      "description_width": "",
      "handle_color": null
     }
    },
    "fb4ee28543994ea28b450c062dfb620d": {
     "model_module": "@jupyter-widgets/controls",
     "model_module_version": "1.5.0",
     "model_name": "FloatSliderModel",
     "state": {
      "_dom_classes": [],
      "_model_module": "@jupyter-widgets/controls",
      "_model_module_version": "1.5.0",
      "_model_name": "FloatSliderModel",
      "_view_count": null,
      "_view_module": "@jupyter-widgets/controls",
      "_view_module_version": "1.5.0",
      "_view_name": "FloatSliderView",
      "continuous_update": true,
      "description": "beta1",
      "description_tooltip": null,
      "disabled": false,
      "layout": "IPY_MODEL_39b641b8b5014652bd6276867b72bc35",
      "max": 1,
      "min": 0,
      "orientation": "horizontal",
      "readout": true,
      "readout_format": ".2f",
      "step": 0.1,
      "style": "IPY_MODEL_1002dd2758cf487380a2c09ddf24451c",
      "value": 0.1
     }
    }
   }
  }
 },
 "nbformat": 4,
 "nbformat_minor": 1
}
