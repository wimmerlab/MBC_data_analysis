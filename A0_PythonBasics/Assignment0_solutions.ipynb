{
 "cells": [
  {
   "cell_type": "markdown",
   "metadata": {
    "id": "YioJdUgDvB_A"
   },
   "source": [
    "<h1 style=\"font-size: 2.5em; font-weight: bold; margin-top: 0.5em; margin-bottom: 0.5em;\">\n",
    "First steps into Python \n",
    "</h1>"
   ]
  },
  {
   "cell_type": "markdown",
   "metadata": {
    "id": "YKmNcAmzvntI"
   },
   "source": [
    "<div class=\"alert alert-block alert-warning\">\n",
    "<b>Preparing for this assignment:</b> \n",
    "\n",
    "The following resources will help you to get ready to complete this assignment. If you are comfortable programming Python, you can skip this.\n",
    "<ul>\n",
    "    <li>If you do not have experience programming in Python, here is a good tutorial to get you quickly on track: <a href=\"https://cogs18.github.io/intro.html\" target=\"_blank\">Introduction to Python</a> </li>\n",
    "    <li>If you already know other languages and need a technical view of what is special about Python syntax, try <a href=\"https://en.wikipedia.org/wiki/Python_syntax_and_semantics#Indentation\" target=\"_blank\">this</a></li>\n",
    "</ul>\n",
    "</div>"
   ]
  },
  {
   "cell_type": "markdown",
   "metadata": {
    "id": "bYrPLyirvB_K"
   },
   "source": [
    "There are two ways to run Python: either on the cloud (using Google Colab) or locally on your computer using Notebook. Either way if you are reading this, you are probably set to go. Just in case:\n",
    "- To run code on **Google Colab**, you don't need to install anything on your machine since all the computations take place in the cloud.\n",
    "- To run **Python Notebooks** locally, you either need to install Python 3 using Anaconda following [these](https://jupyter.readthedocs.io/en/latest/install.html) instructions or else use [myapps.upf.edu](https://myapps.upf.edu). You will find more detailed instructions in the [course site](https://github.com/wimmerlab/MBC_data_analysis) in GitHub.\n",
    "\n"
   ]
  },
  {
   "cell_type": "markdown",
   "metadata": {
    "id": "NMgb__W0vB_L"
   },
   "source": [
    "# Getting started\n",
    "## Importing libraries\n",
    "The actions you can do with Python code are limitless, so you do not need all the tools at the same time. If you loaded all Python tools at once you would be taking up all your computer resources! That is why Python works with **libraries**.  \n",
    "\n",
    "One library is a collection of functions that allows you to perform many actions.   \n",
    "In other words, they have snippets of code created and tested by other people that you can quickly reuse, so you do not need to work as much.\n",
    "\n",
    "Every time you start a new project, you will have to **import** the libraries you will use.  \n",
    "The ones we will need for this assignment are:\n",
    "\n",
    "[Numpy](https://en.wikipedia.org/wiki/NumPy) for manipulating numerical data.   \n",
    "[Matplotlib](https://en.wikipedia.org/wiki/Matplotlib) for plotting graphics.\n",
    "\n",
    "These are the default two libraries you will use on basicalle ALL your notebooks. Explore the links if you want to know more about them! :)\n",
    "\n",
    "Let's start importing!\n",
    "\n",
    "PS: remember to **execute** each of the cells with code below by clicking in the cell and press \"Shift + Enter\""
   ]
  },
  {
   "cell_type": "code",
   "execution_count": 1,
   "metadata": {
    "ExecuteTime": {
     "end_time": "2022-01-17T22:28:18.888712Z",
     "start_time": "2022-01-17T22:28:18.630790Z"
    },
    "id": "NA2nT_F-vB_O"
   },
   "outputs": [],
   "source": [
    "import numpy as np  # everytime we want to use a function from numpy, we will put np. before, e.g.: np.array()\n",
    "import matplotlib.pyplot as plt  # same for function from matplotlib.pyplot, we will address them with plt. , e.g.: plt.plot()"
   ]
  },
  {
   "cell_type": "markdown",
   "metadata": {
    "id": "f8KChA8y-x6z"
   },
   "source": [
    "We imported these two libraries, and we gave them shorter names to simplify our code. From now on, we can use the code contained in the library **numpy** by prefixing it with `np.` (for instance `np.pi` will give us the numerical value of the number $\\pi$), and the code of the library **matplotlib.pyplot** with `plt` (for example: `plt.plot`)"
   ]
  },
  {
   "cell_type": "markdown",
   "metadata": {
    "id": "efSDOve8vB_P"
   },
   "source": [
    "Note that, in the first line of the code, there is some text after a `#`?   \n",
    "This is a **comment**. Comments are really useful if someone else has to read your code. In a Python Notebook comments can come either after `#` in *code cells* or directly in a *markdown cell* which is entirely text (see all cells before this first *code cell*)\n",
    "\n",
    "It will be much easier for other readers (and for you after some time) to understand your code if you comment your codes. \n",
    "**Do not be lazy and comment!**.  \n",
    "\n",
    "[Here](https://stackabuse.com/commenting-python-code/) you have some advice to do it wisely.\n"
   ]
  },
  {
   "cell_type": "markdown",
   "metadata": {
    "id": "Gk18S48qvB_R"
   },
   "source": [
    "## Loading the data"
   ]
  },
  {
   "cell_type": "markdown",
   "metadata": {
    "id": "4h_yjenXvB_S"
   },
   "source": [
    "When running data analyses, one of the first things to do is to load the data into our programming environment so we can manipulate it. Data will come in a specific format depending on how it was generated and saved. You will generally need to obtain this information from the person who generated the data.\n",
    "\n",
    "One common format you might get the data in is in a tabular format, with measurements organized in a fixed number of rows and columns (a *matrix*). Let's load one of these datasets.\n",
    "\n",
    "Now, you need to have the file: \"Task_Perceptual_simple.csv\" in the same directory as this file, or else know the exact path to this file. Below, we read the file from the online GitHub repository (using an URL). The line that is commented out shows how to read the file from a local directory.  \n",
    "  \n",
    "**One first question, what is in this file? (Hint: open it in a text editor or in GitHub)**"
   ]
  },
  {
   "cell_type": "code",
   "execution_count": 3,
   "metadata": {
    "ExecuteTime": {
     "end_time": "2022-01-17T22:28:28.542602Z",
     "start_time": "2022-01-17T22:28:28.519042Z"
    },
    "id": "p4QYIVfFvB_S"
   },
   "outputs": [],
   "source": [
    "#data = np.genfromtxt(\"Task_Perceptual_simple.csv\", delimiter=',', skip_header=1) #use the function genfromtxt from numpy to load the contents of the local file\n",
    "data = np.genfromtxt(\"https://raw.githubusercontent.com/wimmerlab/MBC_data_analysis/main/A0_PythonBasics/Task_Perceptual_simple.csv\", delimiter=',', skip_header=1) #load the file from github"
   ]
  },
  {
   "cell_type": "markdown",
   "metadata": {
    "id": "gtcmnyGzvB_S"
   },
   "source": [
    "If there are no errors.... congratulations! You have imported the data. Let's take a look!\n",
    "### Inspecting arrays"
   ]
  },
  {
   "cell_type": "code",
   "execution_count": 4,
   "metadata": {
    "ExecuteTime": {
     "end_time": "2022-01-17T22:28:29.826144Z",
     "start_time": "2022-01-17T22:28:29.814946Z"
    },
    "id": "NHAhpYh7vB_T"
   },
   "outputs": [
    {
     "data": {
      "text/plain": [
       "array([[-10.      ,   0.      ,  -5.      ,  -5.2122  ,   1.      ],\n",
       "       [-10.      , -10.      , -10.      ,  -8.21768 ,   1.      ],\n",
       "       [ 20.      ,  10.      ,  15.      , -17.93416 ,   1.      ],\n",
       "       ...,\n",
       "       [ 10.      , -10.      ,   0.      ,  12.234593,  14.      ],\n",
       "       [  0.      ,  10.      ,   5.      ,   8.8409  ,  14.      ],\n",
       "       [-20.      ,   0.      , -10.      ,   9.943002,  14.      ]])"
      ]
     },
     "execution_count": 4,
     "metadata": {},
     "output_type": "execute_result"
    }
   ],
   "source": [
    "data"
   ]
  },
  {
   "cell_type": "markdown",
   "metadata": {
    "id": "FZxw7LyPvB_T"
   },
   "source": [
    "`data` is a matrix, how could you tell its dimensions (number of rows and colums)?\n",
    "(Note: if you edit your code in environments such as Spyder instead of Notebook, you will find tools to explore directly all the variables created in a session)"
   ]
  },
  {
   "cell_type": "markdown",
   "metadata": {
    "id": "3TakLxKWvB_V"
   },
   "source": [
    "Don't worry if you don't know right away... A really important thing you will learn as you are coding is to do \"efficient\" Google searches and to ask ChatGPT for help. \n",
    "Everyone -- including your teachers when creating these templates -- have to search online from time to time when coding.  \n",
    "***Do not get stressed about it!***  \n",
    "At the beginning, it will take a long time to find simple stuff but as you keep coding, you will get used to \n",
    "the language and you will learn what are the keywords you need to use for every search. \n",
    "\n",
    "What if you start by searching: **\"dimensions numpy matrix\"** in Google or ask ChatGPT?\n",
    "\n",
    "Write the command that results from your search in the next cell:"
   ]
  },
  {
   "cell_type": "code",
   "execution_count": 4,
   "metadata": {
    "ExecuteTime": {
     "end_time": "2022-01-17T22:28:31.557408Z",
     "start_time": "2022-01-17T22:28:31.551090Z"
    },
    "id": "NTAMI1gkvB_V"
   },
   "outputs": [
    {
     "data": {
      "text/plain": [
       "(13503, 5)"
      ]
     },
     "execution_count": 4,
     "metadata": {},
     "output_type": "execute_result"
    }
   ],
   "source": [
    "data.shape\n",
    "\n",
    "# Alternatively, you can write:\n",
    "#np.shape(data)"
   ]
  },
  {
   "cell_type": "markdown",
   "metadata": {
    "id": "0f-NnGEgB6pR"
   },
   "source": [
    "Now let's see if you did it right. The first number should tell you the number of rows, while the second number should tell you the number of columns.\n",
    "\n",
    "Here is a little check that we can have our program do on our data using the command `assert`. This is useful to **debug** our code, when we want to check that things are as we want them to be in the process of developing the code. In our course, we will use this also to give you feedback as to whether you are generating reasonable code or if there is some error to correct. Try it now by replacing the placeholder `???` in the cell below with your answer for getting the matrix dimensions (cell above). Then execute the cell with *Shift + Enter*"
   ]
  },
  {
   "cell_type": "code",
   "execution_count": 5,
   "metadata": {
    "ExecuteTime": {
     "end_time": "2022-01-17T22:28:33.362398Z",
     "start_time": "2022-01-17T22:28:33.357673Z"
    },
    "id": "oxdMgVM7BuL8"
   },
   "outputs": [],
   "source": [
    "assert np.shape(data)[0] == 13503"
   ]
  },
  {
   "cell_type": "markdown",
   "metadata": {
    "id": "s8zvDVUYC4iv"
   },
   "source": [
    "If you did not get any output back, then you are good. If you did get a warning, then your code has some problem."
   ]
  },
  {
   "cell_type": "markdown",
   "metadata": {},
   "source": [
    "Ok, so now is the good time to tell you about the data! This is the behavioral data from one experiment in an influential paper studying the **confirmation bias in perceptual decisions**, by Talluri and colleagues ([link here](https://www.sciencedirect.com/science/article/pii/S0960982218309825)). The paradigm is illustrated in this [figure](https://ars.els-cdn.com/content/image/1-s2.0-S0960982218309825-gr1_lrg.jpg):\n",
    "Each row of the array correspond to one trial in the dataset (the array concatenantes data from all participants). Each column represents a different variable in the task, respectively: the orientation of the first stimulus, the orientation of the second stimulus, the average orientation over both stimuli, the orientation provided by the subject at the end of the trial and the subject id. Note that the data here corresponds to the subset of trials where an intermediate judgment is provided and the subject was requested to provided the orientation at the end of the trial."
   ]
  },
  {
   "cell_type": "markdown",
   "metadata": {
    "id": "wQj_3D_5vB_V"
   },
   "source": [
    "## Subsetting "
   ]
  },
  {
   "cell_type": "markdown",
   "metadata": {
    "id": "5JqPZPPPDFYU"
   },
   "source": [
    "A fundamental operation we will need to do on our data is to select parts of the data, some rows or some columns, to operate specifically on them. This selection of a subset of our data is what we call *subsetting*."
   ]
  },
  {
   "cell_type": "markdown",
   "metadata": {
    "id": "3Rlwxp8WvB_V"
   },
   "source": [
    "Just to get used to it, ***extract the first 10 rows of the 1st and 2nd column*** of your array **data**.   \n",
    "Be careful, in Python the numbers start at 0, so the first row has the index 0.  \n",
    "You can google by yourself how to do it or use [this](https://jakevdp.github.io/PythonDataScienceHandbook/02.02-the-basics-of-numpy-arrays.html) online handbook.   \n",
    "Write the solution in the next cell.  "
   ]
  },
  {
   "cell_type": "code",
   "execution_count": 6,
   "metadata": {
    "ExecuteTime": {
     "end_time": "2022-01-17T22:28:35.692122Z",
     "start_time": "2022-01-17T22:28:35.682108Z"
    },
    "id": "MiA52d7ZvB_W"
   },
   "outputs": [
    {
     "data": {
      "text/plain": [
       "array([[-10.,   0.],\n",
       "       [-10., -10.],\n",
       "       [ 20.,  10.],\n",
       "       [-20.,  10.],\n",
       "       [ 20., -10.],\n",
       "       [-20.,   0.],\n",
       "       [-20., -20.],\n",
       "       [  0.,  10.],\n",
       "       [-20.,  10.],\n",
       "       [-10., -20.]])"
      ]
     },
     "execution_count": 6,
     "metadata": {},
     "output_type": "execute_result"
    }
   ],
   "source": [
    "data[:10,:2]"
   ]
  },
  {
   "cell_type": "markdown",
   "metadata": {
    "id": "pEMvi9xuvB_W"
   },
   "source": [
    "But, what are these numbers? Well, you will explore them in depth in the next assignments.   \n",
    "For now, we are just practicing basic skills, so it is enough to know that this is a psychophysics dataset of a perceptual decision making task where subjects have to estimate the average motion direction of two subsequent stimuli.   \n",
    "Each row is one ***trial***, the first column contains the motion direction of the first stimulus ***x1*** and the second column the motion direction of stimulus ***x2***.  \n",
    "Their units are degrees. \n",
    "***What is the range of these values?***  \n",
    "Hint: google for minimum and maximum values\n"
   ]
  },
  {
   "cell_type": "code",
   "execution_count": 7,
   "metadata": {
    "ExecuteTime": {
     "end_time": "2022-01-17T22:28:36.667153Z",
     "start_time": "2022-01-17T22:28:36.660580Z"
    },
    "id": "rs5mqzvVvB_W"
   },
   "outputs": [
    {
     "name": "stdout",
     "output_type": "stream",
     "text": [
      "min: -20.0 max: 20.0\n",
      "min: -20.0 max: 20.0\n"
     ]
    }
   ],
   "source": [
    "print(\"min:\", np.min(data[:,0]), \"max:\", np.max(data[:,0]))\n",
    "print(\"min:\", np.min(data[:,1]), \"max:\", np.max(data[:,1]))"
   ]
  },
  {
   "cell_type": "markdown",
   "metadata": {},
   "source": [
    "The third column of the data is the average of x1 and x2, ***xavg***. Check is this is actually true by recomputing the avearage and comparing it to the third column. "
   ]
  },
  {
   "cell_type": "code",
   "execution_count": 8,
   "metadata": {},
   "outputs": [
    {
     "data": {
      "text/plain": [
       "np.float64(0.0)"
      ]
     },
     "execution_count": 8,
     "metadata": {},
     "output_type": "execute_result"
    }
   ],
   "source": [
    "# create vector as average of first two columns\n",
    "x_avg = 0.5*(data[:,0]+data[:,1])\n",
    "\n",
    "# difference with third column\n",
    "x_diff = x_avg - data[:,2]\n",
    "\n",
    "# maximum absolute difference (should be 0 IF AND ONLY IF all differences are zero) - NOTE: we could also use boolean arrays which are introduced below\n",
    "np.sum(np.abs(x_diff))"
   ]
  },
  {
   "cell_type": "markdown",
   "metadata": {
    "id": "yuCnWIATvB_X"
   },
   "source": [
    "## Subsetting with booleans"
   ]
  },
  {
   "cell_type": "markdown",
   "metadata": {
    "id": "xzCi8nVUvB_X"
   },
   "source": [
    "Sometimes it is convenient to use [booleans](). \n",
    "This is typically just another Python array but, instead of containing numbers, it contains `True` and `False`. If you use a boolean to index another array you just get the values of this array that correspond to `True` values in the boolean.  \n",
    "For example:\n",
    "\n",
    "```\n",
    "matrix = np.array([1, 2, 3, 4])\n",
    "boolean = np.array([True, False, True, True])\n",
    "```\n",
    "\n",
    "If you apply the boolean to index the matrix this way\n",
    "```\n",
    "matrix[boolean]\n",
    "```\n",
    "you get a subset of the original array `matrix` only with corresponding `True` values in `boolean`:\n",
    "```\n",
    "array([1, 3, 4])\n",
    "```\n",
    "\n",
    "A boolean is something really simple to create, you just need to specify a [condition](https://www.w3schools.com/python/python_conditions.asp), for instance:\n",
    "\n",
    "```\n",
    "matrix = np.array([1, 1, 2, 2])\n",
    "boolean = matrix==2\n",
    "```\n",
    "(notice the difference between `=`, an assignment, and `==`, a condition)\n",
    "\n",
    "The boolean then will be:\n",
    "\n",
    "```\n",
    "array([False, False,  True,  True])\n",
    "```\n",
    "which indicates in what positions of array **matrix** the condition `==2` is satisfied"
   ]
  },
  {
   "cell_type": "markdown",
   "metadata": {
    "id": "W_qd39GivB_X"
   },
   "source": [
    "Let's now try this hands-on!\n",
    "\n",
    "The 5th column of the matrix contains an integer number that identifies each specific subject that participated in the study. Let's now create a few new [variables](https://realpython.com/python-variables/) : \n",
    "\n",
    "1.   Create the variable `nSubject` with the number of subjects that performed this task (Hint: Google **\"python unique\"**)\n",
    "2.   Create the boolean `bool7` to mark the rows obtained from Subject #7\n",
    "3.   Using `bool7` create the variable `subj7` that includes only the specific data of Subject #7\n"
   ]
  },
  {
   "cell_type": "code",
   "execution_count": 9,
   "metadata": {
    "ExecuteTime": {
     "end_time": "2022-01-17T22:28:39.101299Z",
     "start_time": "2022-01-17T22:28:39.087732Z"
    },
    "id": "hfPeEFKTvB_X"
   },
   "outputs": [
    {
     "name": "stdout",
     "output_type": "stream",
     "text": [
      "number of subjects:  14\n"
     ]
    }
   ],
   "source": [
    "# list of all subject indices\n",
    "subject_list = np.unique(data[:,4])\n",
    "\n",
    "# number of elements in that list (corresponds to the number of subjects)\n",
    "nSubject = len(subject_list)\n",
    "print(\"number of subjects: \", nSubject)"
   ]
  },
  {
   "cell_type": "code",
   "execution_count": 10,
   "metadata": {},
   "outputs": [],
   "source": [
    "# create boolean array that is true for rows corresponding to subject 7\n",
    "bool7 = data[:,4] == 7\n",
    "\n",
    "# select data for subject 7 (i.e corresponding rows)\n",
    "subj7 = data[bool7,:]"
   ]
  },
  {
   "cell_type": "code",
   "execution_count": 11,
   "metadata": {
    "ExecuteTime": {
     "end_time": "2022-01-17T22:28:40.053043Z",
     "start_time": "2022-01-17T22:28:40.044544Z"
    }
   },
   "outputs": [
    {
     "data": {
      "text/plain": [
       "(1000, 5)"
      ]
     },
     "execution_count": 11,
     "metadata": {},
     "output_type": "execute_result"
    }
   ],
   "source": [
    "subj7.shape"
   ]
  },
  {
   "cell_type": "code",
   "execution_count": 12,
   "metadata": {
    "ExecuteTime": {
     "end_time": "2022-01-17T22:28:40.854177Z",
     "start_time": "2022-01-17T22:28:40.844388Z"
    },
    "id": "KLRDlnxMEser"
   },
   "outputs": [],
   "source": [
    "assert nSubject == 14, \"nSubject is incorrect\"\n",
    "assert np.sum(bool7) == 1000\n",
    "assert np.shape(subj7)[0] == sum(bool7)\n",
    "assert np.shape(subj7)[1] == 5"
   ]
  },
  {
   "cell_type": "markdown",
   "metadata": {
    "id": "fikWivJPGpGX"
   },
   "source": [
    "If you ran the previous cell and it did not complain, you did a great job! If not, try running the different ```assert``` commands separately to debug more specifically your problem. **Remember that by preceding a whole sentence with a # you turn it into a comment and it is not executed as code!**"
   ]
  },
  {
   "cell_type": "markdown",
   "metadata": {
    "id": "QyXVjvdCH7fi"
   },
   "source": [
    "By the way, what is ```np.sum(bool7)```?\n",
    "\n"
   ]
  },
  {
   "cell_type": "markdown",
   "metadata": {},
   "source": [
    "<u>Answer</u>: *This is the number of trials for this specific subject (because it is a summing one for each line in the boolean array that corresponds to `True`).*"
   ]
  },
  {
   "cell_type": "markdown",
   "metadata": {
    "id": "RHBuyA_JvB_X"
   },
   "source": [
    "# Functions"
   ]
  },
  {
   "cell_type": "markdown",
   "metadata": {
    "id": "3HeDtvLovB_Y"
   },
   "source": [
    "Sometimes, in the libraries that we are using we do not have the specific function that we need.  \n",
    "When that is the case, we have to create it by ourselves.  \n",
    "Suppose, for instance, that we want to calculate the distance between the stimulus average (the third column of our data) and the response of the participant (stored in the forth column of our data) to get a measure of error. Distances can often be calculated as a mere difference, but here we are dealing with angles on a circle so that we have to take into account that the circle wraps around. We need a specific function to deal with this.\n",
    "The function will be called ***circdist***.  "
   ]
  },
  {
   "cell_type": "code",
   "execution_count": 13,
   "metadata": {
    "ExecuteTime": {
     "end_time": "2022-01-17T22:28:43.825927Z",
     "start_time": "2022-01-17T22:28:43.820702Z"
    },
    "id": "1FBwZTEEvB_Z"
   },
   "outputs": [],
   "source": [
    "def circdist(angles1, angles2): # define the name and set the arguments between parentheses\n",
    "    \"\"\"\n",
    "    Calculate the circular distance between two angles.\n",
    "\n",
    "    Parameters:\n",
    "        angles1 (float): First angle. Scalar or array.\n",
    "        angles2 (float): First angle. Scalar or array.\n",
    "\n",
    "    Returns:\n",
    "        float: Angle difference(s).\n",
    "    \"\"\"\n",
    "    angle_diff = angles1 - angles2 # angle difference\n",
    "    angle_diff = angle_diff  / 180 * np.pi # convert to radian\n",
    "    output = np.angle(np.exp(1j * angle_diff))  # mathematical operation to get the circular distance\n",
    "    output = output / np.pi * 180   # convert back to degrees\n",
    "    return output  # return the circular distance in radians "
   ]
  },
  {
   "cell_type": "markdown",
   "metadata": {
    "id": "DsmyFLvLvB_Z"
   },
   "source": [
    "In this case, the operation we are performing in the function is quite complex but the structure of the code is very simple. Check it up carefully: the command **def**, the name of the function with arguments within parenthesis, the colon at the end of the line, the indentation for all commands that define the function and finally the **return** command with the result that the function returns. You can learn [here](https://www.tutorialspoint.com/python/python_functions.htm) more about functions in Python.\n",
    "\n",
    "**Now use the circdist function to get the circular distance between the stimulus average and the response of the subject**. We will call this **error** as participants were supposed to respond the exact value of the target so any deviation from target is an \"error\".\n",
    "Hint: use the link above and apply the \"calling a function\" to this specific case."
   ]
  },
  {
   "cell_type": "code",
   "execution_count": 14,
   "metadata": {},
   "outputs": [
    {
     "name": "stdout",
     "output_type": "stream",
     "text": [
      "-0.2122000000000002\n"
     ]
    }
   ],
   "source": [
    "# distance between stimulus average and response for the first trial\n",
    "print(circdist(data[0,3], data[0,2]))"
   ]
  },
  {
   "cell_type": "code",
   "execution_count": 15,
   "metadata": {
    "ExecuteTime": {
     "end_time": "2022-01-17T22:28:44.715661Z",
     "start_time": "2022-01-17T22:28:44.694283Z"
    },
    "id": "naypCp2DvB_a"
   },
   "outputs": [
    {
     "data": {
      "text/plain": [
       "array([ -0.2122  ,   1.78232 , -32.93416 , ...,  12.234593,   3.8409  ,\n",
       "        19.943002])"
      ]
     },
     "execution_count": 15,
     "metadata": {},
     "output_type": "execute_result"
    }
   ],
   "source": [
    "# array representing the distance between stimulus average and response for all trials\n",
    "subject_error = circdist(data[:,3], data[:,2])\n",
    "subject_error"
   ]
  },
  {
   "cell_type": "markdown",
   "metadata": {
    "id": "LyxsN_yIvB_a"
   },
   "source": [
    "The circular distance between the target and the response (error) could be a really useful measure to add to our matrix, right? That way we do not need to calculate it everytime.  \n",
    "\n",
    "**Now try to add it as an extra column to the matrix**  *data* using the command `np.column_stack`.\n",
    "You already have the tools to start flying alone (copilot, chatgpt, google, matrix subsetting, intuition...)!   \n",
    "Do not be afraid! Try things!  \n",
    "Let the \"I am going to mess it up fear\" go away! If, by any weird chance, you \"destroy\" your matrix, you just have to go to the top of this page and run everyting again, it will just take 1 second! Try it now."
   ]
  },
  {
   "cell_type": "code",
   "execution_count": 16,
   "metadata": {
    "ExecuteTime": {
     "end_time": "2022-01-17T22:28:46.531503Z",
     "start_time": "2022-01-17T22:28:46.525933Z"
    },
    "id": "7fyFSs88vB_b"
   },
   "outputs": [],
   "source": [
    "data = np.column_stack( (data, subject_error ) )"
   ]
  },
  {
   "cell_type": "code",
   "execution_count": 17,
   "metadata": {
    "ExecuteTime": {
     "end_time": "2022-01-17T22:28:47.196004Z",
     "start_time": "2022-01-17T22:28:47.190695Z"
    },
    "id": "iLbTrFi7KXgX"
   },
   "outputs": [],
   "source": [
    "assert data.shape[1] == 6"
   ]
  },
  {
   "cell_type": "markdown",
   "metadata": {
    "id": "1PROUGyuvB_b"
   },
   "source": [
    "Great! Now you have one more column in your data array, which contains the angular error of responses in each trial. This is the last column of your array, and you can address that with the index \"-1\" in Python, so now `data[:,-1]` contains the values in **error**"
   ]
  },
  {
   "cell_type": "markdown",
   "metadata": {
    "id": "Okm4wLQdvB_b"
   },
   "source": [
    "# Plotting"
   ]
  },
  {
   "cell_type": "markdown",
   "metadata": {
    "id": "EeIatp-BvB_b"
   },
   "source": [
    "Let's see how the errors look like!  \n",
    "According to the literature they should follow a [Gaussian](https://en.wikipedia.org/wiki/Normal_distribution) distribution around 0.  \n",
    "The visualization tool that best fits what we need is a [histogram](https://en.wikipedia.org/wiki/Histogram).  \n",
    "Use matplotlib to plot a [histogram](https://matplotlib.org/3.3.3/api/_as_gen/matplotlib.pyplot.hist.html) of the new column of your matrix.\n",
    "It would be nice if you could also plot a red vertical line at the mean value of errors and see if the results are in line with the assumption.  \n",
    " \n"
   ]
  },
  {
   "cell_type": "code",
   "execution_count": 18,
   "metadata": {
    "ExecuteTime": {
     "end_time": "2022-01-17T22:28:50.223890Z",
     "start_time": "2022-01-17T22:28:49.943220Z"
    },
    "id": "dXzDQOelvB_b",
    "scrolled": true
   },
   "outputs": [
    {
     "data": {
      "image/png": "[encoded data removed]",
      "text/plain": [
       "<Figure size 640x480 with 1 Axes>"
      ]
     },
     "metadata": {},
     "output_type": "display_data"
    }
   ],
   "source": [
    "# plot histogram with 100 bin counts\n",
    "plt.hist(data[:,-1],100);\n",
    "\n",
    "# add a red vertical line at the mean error (null error)\n",
    "mean_error = np.mean(data[:,-1])\n",
    "plt.axvline(mean_error, color='red');\n",
    "\n",
    "# add axis labels\n",
    "plt.xlabel('behavioral error');\n",
    "plt.ylabel('trial count');"
   ]
  },
  {
   "cell_type": "markdown",
   "metadata": {
    "id": "FSE3w4qZvB_b"
   },
   "source": [
    "# For loop"
   ]
  },
  {
   "cell_type": "markdown",
   "metadata": {
    "id": "DttBppekvB_c"
   },
   "source": [
    "Now you will learn a really powerful tool: the ***for loop***.   \n",
    "This tool allows you to make iterations, so you can run the same commands, over and over again without \n",
    "having to write new code for each iteration.  \n",
    "\n",
    "Check out the next two cells to understand why this is so useful:"
   ]
  },
  {
   "cell_type": "code",
   "execution_count": 19,
   "metadata": {
    "ExecuteTime": {
     "end_time": "2022-01-17T22:29:10.998292Z",
     "start_time": "2022-01-17T22:29:10.989789Z"
    },
    "id": "zCLZsWkfvB_d"
   },
   "outputs": [
    {
     "name": "stdout",
     "output_type": "stream",
     "text": [
      "orange\n",
      "apple\n",
      "banana\n",
      "tomato\n",
      "lime\n",
      "lemon\n"
     ]
    }
   ],
   "source": [
    "# print all the values in a list without using a for loop\n",
    "fruits=['orange', 'apple', 'banana', 'tomato', 'lime', 'lemon']\n",
    "print(fruits[0])\n",
    "print(fruits[1])\n",
    "print(fruits[2])\n",
    "print(fruits[3])\n",
    "print(fruits[4])\n",
    "print(fruits[5])"
   ]
  },
  {
   "cell_type": "code",
   "execution_count": 20,
   "metadata": {
    "ExecuteTime": {
     "end_time": "2022-01-17T22:29:11.918130Z",
     "start_time": "2022-01-17T22:29:11.911799Z"
    },
    "id": "9eX6eSnGvB_d"
   },
   "outputs": [
    {
     "name": "stdout",
     "output_type": "stream",
     "text": [
      "orange\n",
      "apple\n",
      "banana\n",
      "tomato\n",
      "lime\n",
      "lemon\n"
     ]
    }
   ],
   "source": [
    "# print all the values in a list using a for loop\n",
    "for f in fruits:\n",
    "    print(f)"
   ]
  },
  {
   "cell_type": "markdown",
   "metadata": {
    "id": "-BjPdVHzvB_f"
   },
   "source": [
    "You can easily see that **the second cell is a much more efficient way to code**. It is not only shorter, but it is less error-prone. Errors in the code (**bugs**) are the worst nightmare of a data analyst. Again, note the **indentation** of the line containing `print(f)`. Try removing the indenting spaces. Can you then run that cell?\n",
    "\n",
    "In this case one only needs to write 6 lines of code for the first cell to get all the fruits, but what if we had 1,000 fruits?... Then we would have had to write 1,000 lines!.\n",
    "On the other hand, in the second cell we just needed two lines of code, both for 6 and 1,000 fruits. \n",
    "Everytime you see yourself repeating the same code just to change a small detail, remember you can use [for loops](https://www.w3schools.com/python/python_for_loops.asp)\n"
   ]
  },
  {
   "cell_type": "markdown",
   "metadata": {
    "id": "VfdtkB30vB_f"
   },
   "source": [
    "Let's use the foor loop in our dataset! \n",
    "***Make the error histogram for each subject***  \n",
    "\n",
    "Hint 1: Take advantage of the code you used before to get the data of Subject #7, and now generalize to all other subjects.  \n",
    "\n",
    "Hint 2: To iterate through subjects you need to get the list of indexes for the subjects. To get that list you can use [`np.unique()`](https://docs.scipy.org/doc/numpy/reference/generated/numpy.unique.html) if you are not sure about how many subjects there are, or else use [`np.arange()`](https://docs.scipy.org/doc/numpy/reference/generated/numpy.arange.html) to get a range of values. Now you are ready to start your for loop.\n",
    "\n",
    "Hint 3: write: `plt.figure()` at the beginning of every iteration so you generate one histogram for each subject.\n",
    "\n",
    "Hint 4: Remember to enter 4 indenting spaces in front of the commands within the for loop!\n"
   ]
  },
  {
   "cell_type": "code",
   "execution_count": 21,
   "metadata": {
    "ExecuteTime": {
     "end_time": "2022-01-17T22:29:20.328831Z",
     "start_time": "2022-01-17T22:29:19.476080Z"
    },
    "id": "ndyDfBR2vB_f"
   },
   "outputs": [
    {
     "data": {
      "image/png": "[encoded data removed]",
      "text/plain": [
       "<Figure size 1400x1600 with 15 Axes>"
      ]
     },
     "metadata": {},
     "output_type": "display_data"
    }
   ],
   "source": [
    "# create plot with one subplot per subject\n",
    "nColumns = 3\n",
    "nRows = int(np.ceil(nSubject/nColumns))\n",
    "fig, ax = plt.subplots(nRows, nColumns, figsize=(14, 16))\n",
    "\n",
    "# loop through subjects\n",
    "for sb in subject_list:\n",
    "\n",
    "    # define boolean array that is true for rows corresponding to this subject\n",
    "    trials = data[:,4] == sb\n",
    "    \n",
    "    # subplot counter (integer starting at 0, could also be done better using enumerate) \n",
    "    i = int(sb-1)\n",
    "    iCol = i % nColumns # corresponding column\n",
    "    iRow = i// nColumns # corresponding row\n",
    "\n",
    "    # add histogram for this subject\n",
    "    ax[iRow,iCol].hist(data[trials,-1],20);\n",
    "    \n",
    "    # add vertical line\n",
    "    mean_error = np.mean(data[trials,-1]) # mean error for this subject\n",
    "    ax[iRow,iCol].axvline(mean_error, color='red');\n",
    "    \n",
    "    # add label and title\n",
    "    ax[iRow,iCol].set_xlim((-100,100))\n",
    "    ax[iRow,iCol].set_ylabel('trial count')\n",
    "    ax[iRow,iCol].set_title(f'Subject: {int(sb)}')"
   ]
  },
  {
   "cell_type": "markdown",
   "metadata": {
    "id": "phqVma93MnvJ"
   },
   "source": [
    "# Panda DataFrames"
   ]
  },
  {
   "cell_type": "markdown",
   "metadata": {
    "id": "rwI2fbUxMria"
   },
   "source": [
    "You are now ready to do manipulations and graphical representations on your data, using the basic features of the **numpy** and **matplotplib** packages.\n",
    "\n",
    "However, in modern data analyses with Python it is common to use another library to organize better the data and provide more robust and intuitive subsetting and manipulation of the data. This is the [pandas](https://pandas.pydata.org/docs/getting_started/index.html#getting-started) library, and it introduces the concept of **DataFrame**.\n",
    "\n",
    "Dataframes also organize the data in rows and columns, but they naturally index them with names, rather than index numbers. Each row will generally correspond to one observation (here, on trial), and each column corresponds to one variable (stimulus, response, subject identity, etc.). This way, we can write our code referring to column `'error'` instead of column `5` and this makes debugging much easier. In addition, they come equipped with many in-built functions for compact data manipulation that make it a very powerful tool - we will only scratch the surfance of all the possibilities offered by dataframes. "
   ]
  },
  {
   "cell_type": "markdown",
   "metadata": {
    "id": "2dfK4elXOzFb"
   },
   "source": [
    "So, to start using Pandas, we need to import the library:"
   ]
  },
  {
   "cell_type": "code",
   "execution_count": 22,
   "metadata": {
    "ExecuteTime": {
     "end_time": "2022-01-17T22:30:04.596385Z",
     "start_time": "2022-01-17T22:30:04.277586Z"
    },
    "id": "ErTN1TOcvB_f"
   },
   "outputs": [],
   "source": [
    "import pandas as pd"
   ]
  },
  {
   "cell_type": "markdown",
   "metadata": {
    "id": "E5UnVvYtO6Sa"
   },
   "source": [
    "and now we need to build our DataFrame. Since we already have a matrix with our data, we can just generate the DataFrame from this matrix by specifying the names of each column:"
   ]
  },
  {
   "cell_type": "code",
   "execution_count": 23,
   "metadata": {
    "ExecuteTime": {
     "end_time": "2022-01-17T22:30:12.909131Z",
     "start_time": "2022-01-17T22:30:12.901490Z"
    },
    "id": "61r0lvudO4UW"
   },
   "outputs": [],
   "source": [
    "df = pd.DataFrame(data, columns=['x1', 'x2', 'xavg', 'estim', 'subject', 'error'])"
   ]
  },
  {
   "cell_type": "markdown",
   "metadata": {
    "id": "rWoaOryOPw3a"
   },
   "source": [
    "Note that we could also directly load the data in a DataFrame from a CSV file, using the command below.\n",
    "The benefits of importing directly is that we also direct get the columns names from the CSV, we do have to specify them.\n",
    "(Of course we would also need to add the Error column)"
   ]
  },
  {
   "cell_type": "code",
   "execution_count": 24,
   "metadata": {},
   "outputs": [],
   "source": [
    "#df = pd.read_csv(\"Task_Perceptual_simple.csv\",sep=',')"
   ]
  },
  {
   "cell_type": "markdown",
   "metadata": {},
   "source": [
    "You can now see the first rows of this dataframe using the command `head`:"
   ]
  },
  {
   "cell_type": "code",
   "execution_count": 25,
   "metadata": {
    "ExecuteTime": {
     "end_time": "2022-01-17T22:30:19.498145Z",
     "start_time": "2022-01-17T22:30:19.473335Z"
    },
    "id": "HtGLWR4gP1GQ"
   },
   "outputs": [
    {
     "data": {
      "text/html": [
       "<div>\n",
       "<style scoped>\n",
       "    .dataframe tbody tr th:only-of-type {\n",
       "        vertical-align: middle;\n",
       "    }\n",
       "\n",
       "    .dataframe tbody tr th {\n",
       "        vertical-align: top;\n",
       "    }\n",
       "\n",
       "    .dataframe thead th {\n",
       "        text-align: right;\n",
       "    }\n",
       "</style>\n",
       "<table border=\"1\" class=\"dataframe\">\n",
       "  <thead>\n",
       "    <tr style=\"text-align: right;\">\n",
       "      <th></th>\n",
       "      <th>x1</th>\n",
       "      <th>x2</th>\n",
       "      <th>xavg</th>\n",
       "      <th>estim</th>\n",
       "      <th>subject</th>\n",
       "      <th>error</th>\n",
       "    </tr>\n",
       "  </thead>\n",
       "  <tbody>\n",
       "    <tr>\n",
       "      <th>0</th>\n",
       "      <td>-10.0</td>\n",
       "      <td>0.0</td>\n",
       "      <td>-5.0</td>\n",
       "      <td>-5.21220</td>\n",
       "      <td>1.0</td>\n",
       "      <td>-0.21220</td>\n",
       "    </tr>\n",
       "    <tr>\n",
       "      <th>1</th>\n",
       "      <td>-10.0</td>\n",
       "      <td>-10.0</td>\n",
       "      <td>-10.0</td>\n",
       "      <td>-8.21768</td>\n",
       "      <td>1.0</td>\n",
       "      <td>1.78232</td>\n",
       "    </tr>\n",
       "    <tr>\n",
       "      <th>2</th>\n",
       "      <td>20.0</td>\n",
       "      <td>10.0</td>\n",
       "      <td>15.0</td>\n",
       "      <td>-17.93416</td>\n",
       "      <td>1.0</td>\n",
       "      <td>-32.93416</td>\n",
       "    </tr>\n",
       "    <tr>\n",
       "      <th>3</th>\n",
       "      <td>-20.0</td>\n",
       "      <td>10.0</td>\n",
       "      <td>-5.0</td>\n",
       "      <td>-13.42634</td>\n",
       "      <td>1.0</td>\n",
       "      <td>-8.42634</td>\n",
       "    </tr>\n",
       "    <tr>\n",
       "      <th>4</th>\n",
       "      <td>20.0</td>\n",
       "      <td>-10.0</td>\n",
       "      <td>5.0</td>\n",
       "      <td>9.88556</td>\n",
       "      <td>1.0</td>\n",
       "      <td>4.88556</td>\n",
       "    </tr>\n",
       "  </tbody>\n",
       "</table>\n",
       "</div>"
      ],
      "text/plain": [
       "     x1    x2  xavg     estim  subject     error\n",
       "0 -10.0   0.0  -5.0  -5.21220      1.0  -0.21220\n",
       "1 -10.0 -10.0 -10.0  -8.21768      1.0   1.78232\n",
       "2  20.0  10.0  15.0 -17.93416      1.0 -32.93416\n",
       "3 -20.0  10.0  -5.0 -13.42634      1.0  -8.42634\n",
       "4  20.0 -10.0   5.0   9.88556      1.0   4.88556"
      ]
     },
     "execution_count": 25,
     "metadata": {},
     "output_type": "execute_result"
    }
   ],
   "source": [
    "df.head()"
   ]
  },
  {
   "cell_type": "markdown",
   "metadata": {
    "id": "ATG2psFjQ9kk"
   },
   "source": [
    "Notice that now we use our dataframe as if it were a \"library\" from which we call functions: `df.fun` means that we apply built-in panda function `fun` to the dataframe `df`. There are tons of functions defined for Pandas dataframes and this is the extraordinary power of this library."
   ]
  },
  {
   "cell_type": "markdown",
   "metadata": {
    "id": "KeT8ratzP3bs"
   },
   "source": [
    "Now, instead of getting error values with `data[:,-1]`, we can use `df['error']`. This is a significant change because our code may add columns inadvertently and then `data[:,-1]` may be addressing something different than \"error\" but `df['error']` is clearly always getting back what we want. In this sense, our code will be clearer and have fewer bugs. Convince yourself that `data[:,-1]` and `df['error']` now give the same list of values:"
   ]
  },
  {
   "cell_type": "code",
   "execution_count": 26,
   "metadata": {
    "ExecuteTime": {
     "end_time": "2022-01-17T22:30:57.694108Z",
     "start_time": "2022-01-17T22:30:57.665610Z"
    },
    "id": "7XfvVnK0QJUC"
   },
   "outputs": [
    {
     "data": {
      "text/plain": [
       "array([ -0.2122  ,   1.78232 , -32.93416 , ...,  12.234593,   3.8409  ,\n",
       "        19.943002])"
      ]
     },
     "execution_count": 26,
     "metadata": {},
     "output_type": "execute_result"
    }
   ],
   "source": [
    "data[:,-1]"
   ]
  },
  {
   "cell_type": "code",
   "execution_count": 27,
   "metadata": {
    "ExecuteTime": {
     "end_time": "2022-01-17T22:31:01.023764Z",
     "start_time": "2022-01-17T22:31:01.015403Z"
    }
   },
   "outputs": [
    {
     "data": {
      "text/plain": [
       "0    -0.21220\n",
       "1     1.78232\n",
       "2   -32.93416\n",
       "3    -8.42634\n",
       "4     4.88556\n",
       "5    -4.17070\n",
       "6    11.16947\n",
       "7    10.12759\n",
       "8    -6.17976\n",
       "9     2.75026\n",
       "Name: error, dtype: float64"
      ]
     },
     "execution_count": 27,
     "metadata": {},
     "output_type": "execute_result"
    }
   ],
   "source": [
    "# the two calls below are equivalent\n",
    "df['error'][:10]\n",
    "#df.error[:10]"
   ]
  },
  {
   "cell_type": "markdown",
   "metadata": {
    "id": "m3Yw6KrWQKhG"
   },
   "source": [
    "As an exercise: **add now one extra column to the dataframe df that contains the circular distance between the columns x1 and x2**. This is much easier than with `column_stack` in plain **numpy**, you just need to assign the new values to a new column name (for instance `df['dist_x1x2']`) Check with `df.head()` that you can see this new column in your table."
   ]
  },
  {
   "cell_type": "code",
   "execution_count": 28,
   "metadata": {
    "id": "o58puJs6Qi5B"
   },
   "outputs": [
    {
     "data": {
      "text/html": [
       "<div>\n",
       "<style scoped>\n",
       "    .dataframe tbody tr th:only-of-type {\n",
       "        vertical-align: middle;\n",
       "    }\n",
       "\n",
       "    .dataframe tbody tr th {\n",
       "        vertical-align: top;\n",
       "    }\n",
       "\n",
       "    .dataframe thead th {\n",
       "        text-align: right;\n",
       "    }\n",
       "</style>\n",
       "<table border=\"1\" class=\"dataframe\">\n",
       "  <thead>\n",
       "    <tr style=\"text-align: right;\">\n",
       "      <th></th>\n",
       "      <th>x1</th>\n",
       "      <th>x2</th>\n",
       "      <th>xavg</th>\n",
       "      <th>estim</th>\n",
       "      <th>subject</th>\n",
       "      <th>error</th>\n",
       "      <th>dist_x1x2</th>\n",
       "    </tr>\n",
       "  </thead>\n",
       "  <tbody>\n",
       "    <tr>\n",
       "      <th>0</th>\n",
       "      <td>-10.0</td>\n",
       "      <td>0.0</td>\n",
       "      <td>-5.0</td>\n",
       "      <td>-5.21220</td>\n",
       "      <td>1.0</td>\n",
       "      <td>-0.21220</td>\n",
       "      <td>10.0</td>\n",
       "    </tr>\n",
       "    <tr>\n",
       "      <th>1</th>\n",
       "      <td>-10.0</td>\n",
       "      <td>-10.0</td>\n",
       "      <td>-10.0</td>\n",
       "      <td>-8.21768</td>\n",
       "      <td>1.0</td>\n",
       "      <td>1.78232</td>\n",
       "      <td>0.0</td>\n",
       "    </tr>\n",
       "    <tr>\n",
       "      <th>2</th>\n",
       "      <td>20.0</td>\n",
       "      <td>10.0</td>\n",
       "      <td>15.0</td>\n",
       "      <td>-17.93416</td>\n",
       "      <td>1.0</td>\n",
       "      <td>-32.93416</td>\n",
       "      <td>-10.0</td>\n",
       "    </tr>\n",
       "    <tr>\n",
       "      <th>3</th>\n",
       "      <td>-20.0</td>\n",
       "      <td>10.0</td>\n",
       "      <td>-5.0</td>\n",
       "      <td>-13.42634</td>\n",
       "      <td>1.0</td>\n",
       "      <td>-8.42634</td>\n",
       "      <td>30.0</td>\n",
       "    </tr>\n",
       "    <tr>\n",
       "      <th>4</th>\n",
       "      <td>20.0</td>\n",
       "      <td>-10.0</td>\n",
       "      <td>5.0</td>\n",
       "      <td>9.88556</td>\n",
       "      <td>1.0</td>\n",
       "      <td>4.88556</td>\n",
       "      <td>-30.0</td>\n",
       "    </tr>\n",
       "  </tbody>\n",
       "</table>\n",
       "</div>"
      ],
      "text/plain": [
       "     x1    x2  xavg     estim  subject     error  dist_x1x2\n",
       "0 -10.0   0.0  -5.0  -5.21220      1.0  -0.21220       10.0\n",
       "1 -10.0 -10.0 -10.0  -8.21768      1.0   1.78232        0.0\n",
       "2  20.0  10.0  15.0 -17.93416      1.0 -32.93416      -10.0\n",
       "3 -20.0  10.0  -5.0 -13.42634      1.0  -8.42634       30.0\n",
       "4  20.0 -10.0   5.0   9.88556      1.0   4.88556      -30.0"
      ]
     },
     "execution_count": 28,
     "metadata": {},
     "output_type": "execute_result"
    }
   ],
   "source": [
    "df['dist_x1x2'] = circdist(df['x2'], df['x1'])\n",
    "df.head()"
   ]
  },
  {
   "cell_type": "markdown",
   "metadata": {},
   "source": [
    "Well done! Now compare the simplicity of adding one column to a dataframe to the more cumbersome way to append a column to a numpy array as we did above using `np.column_stack`"
   ]
  },
  {
   "cell_type": "markdown",
   "metadata": {
    "id": "TbJLoq4yQxfY"
   },
   "source": [
    "Now check this:"
   ]
  },
  {
   "cell_type": "code",
   "execution_count": 29,
   "metadata": {
    "colab": {
     "base_uri": "https://localhost:8080/",
     "height": 168
    },
    "id": "rL5_0P5TQymx",
    "outputId": "d8ba5155-645d-45d6-add9-e5e246ab5e88"
   },
   "outputs": [
    {
     "data": {
      "image/png": "[encoded data removed]",
      "text/plain": [
       "<Figure size 640x480 with 16 Axes>"
      ]
     },
     "metadata": {},
     "output_type": "display_data"
    }
   ],
   "source": [
    "df.hist(column='error', by='subject');"
   ]
  },
  {
   "cell_type": "markdown",
   "metadata": {
    "id": "_Sd14xUnR-HW"
   },
   "source": [
    "**Neat, eh?** Compare what you had to do with bare **numpy** above!! You can unpack this very compact command [here](https://pandas.pydata.org/pandas-docs/stable/reference/api/pandas.DataFrame.hist.html)."
   ]
  },
  {
   "cell_type": "markdown",
   "metadata": {},
   "source": [
    "It is thus general good practice to organize our datasets in Python using the Pandas library. It not only keeps the code more readable, and prevents many errors, but it also provides very compact functions to deal with data manipulation and plotting. See for instance how you would compute the mean and standard deviation of behavioral errors for each subject:"
   ]
  },
  {
   "cell_type": "code",
   "execution_count": 30,
   "metadata": {},
   "outputs": [
    {
     "data": {
      "text/html": [
       "<div>\n",
       "<style scoped>\n",
       "    .dataframe tbody tr th:only-of-type {\n",
       "        vertical-align: middle;\n",
       "    }\n",
       "\n",
       "    .dataframe tbody tr th {\n",
       "        vertical-align: top;\n",
       "    }\n",
       "\n",
       "    .dataframe thead th {\n",
       "        text-align: right;\n",
       "    }\n",
       "</style>\n",
       "<table border=\"1\" class=\"dataframe\">\n",
       "  <thead>\n",
       "    <tr style=\"text-align: right;\">\n",
       "      <th></th>\n",
       "      <th>mean</th>\n",
       "      <th>std</th>\n",
       "    </tr>\n",
       "    <tr>\n",
       "      <th>subject</th>\n",
       "      <th></th>\n",
       "      <th></th>\n",
       "    </tr>\n",
       "  </thead>\n",
       "  <tbody>\n",
       "    <tr>\n",
       "      <th>1.0</th>\n",
       "      <td>-2.747008</td>\n",
       "      <td>10.382429</td>\n",
       "    </tr>\n",
       "    <tr>\n",
       "      <th>2.0</th>\n",
       "      <td>3.257358</td>\n",
       "      <td>28.016835</td>\n",
       "    </tr>\n",
       "    <tr>\n",
       "      <th>3.0</th>\n",
       "      <td>-1.657591</td>\n",
       "      <td>13.202259</td>\n",
       "    </tr>\n",
       "    <tr>\n",
       "      <th>4.0</th>\n",
       "      <td>0.944210</td>\n",
       "      <td>15.360401</td>\n",
       "    </tr>\n",
       "    <tr>\n",
       "      <th>5.0</th>\n",
       "      <td>-0.215563</td>\n",
       "      <td>13.307636</td>\n",
       "    </tr>\n",
       "    <tr>\n",
       "      <th>6.0</th>\n",
       "      <td>-2.835802</td>\n",
       "      <td>15.429018</td>\n",
       "    </tr>\n",
       "    <tr>\n",
       "      <th>7.0</th>\n",
       "      <td>2.230346</td>\n",
       "      <td>8.501350</td>\n",
       "    </tr>\n",
       "    <tr>\n",
       "      <th>8.0</th>\n",
       "      <td>-2.851999</td>\n",
       "      <td>10.771592</td>\n",
       "    </tr>\n",
       "    <tr>\n",
       "      <th>9.0</th>\n",
       "      <td>0.851512</td>\n",
       "      <td>7.155847</td>\n",
       "    </tr>\n",
       "    <tr>\n",
       "      <th>10.0</th>\n",
       "      <td>11.453458</td>\n",
       "      <td>20.579347</td>\n",
       "    </tr>\n",
       "    <tr>\n",
       "      <th>11.0</th>\n",
       "      <td>-1.556309</td>\n",
       "      <td>8.873257</td>\n",
       "    </tr>\n",
       "    <tr>\n",
       "      <th>12.0</th>\n",
       "      <td>-0.943741</td>\n",
       "      <td>9.838508</td>\n",
       "    </tr>\n",
       "    <tr>\n",
       "      <th>13.0</th>\n",
       "      <td>-1.797562</td>\n",
       "      <td>9.555759</td>\n",
       "    </tr>\n",
       "    <tr>\n",
       "      <th>14.0</th>\n",
       "      <td>4.695254</td>\n",
       "      <td>14.566496</td>\n",
       "    </tr>\n",
       "  </tbody>\n",
       "</table>\n",
       "</div>"
      ],
      "text/plain": [
       "              mean        std\n",
       "subject                      \n",
       "1.0      -2.747008  10.382429\n",
       "2.0       3.257358  28.016835\n",
       "3.0      -1.657591  13.202259\n",
       "4.0       0.944210  15.360401\n",
       "5.0      -0.215563  13.307636\n",
       "6.0      -2.835802  15.429018\n",
       "7.0       2.230346   8.501350\n",
       "8.0      -2.851999  10.771592\n",
       "9.0       0.851512   7.155847\n",
       "10.0     11.453458  20.579347\n",
       "11.0     -1.556309   8.873257\n",
       "12.0     -0.943741   9.838508\n",
       "13.0     -1.797562   9.555759\n",
       "14.0      4.695254  14.566496"
      ]
     },
     "execution_count": 30,
     "metadata": {},
     "output_type": "execute_result"
    }
   ],
   "source": [
    "df.groupby('subject').error.agg(('mean', 'std'))"
   ]
  }
 ],
 "metadata": {
  "colab": {
   "name": "Assignment 0.ipynb",
   "provenance": []
  },
  "hide_input": false,
  "kernelspec": {
   "display_name": "Python 3 (ipykernel)",
   "language": "python",
   "name": "python3"
  },
  "language_info": {
   "codemirror_mode": {
    "name": "ipython",
    "version": 3
   },
   "file_extension": ".py",
   "mimetype": "text/x-python",
   "name": "python",
   "nbconvert_exporter": "python",
   "pygments_lexer": "ipython3",
   "version": "3.10.8"
  },
  "toc": {
   "base_numbering": 1,
   "nav_menu": {},
   "number_sections": true,
   "sideBar": true,
   "skip_h1_title": false,
   "title_cell": "Table of Contents",
   "title_sidebar": "Contents",
   "toc_cell": false,
   "toc_position": {},
   "toc_section_display": true,
   "toc_window_display": false
  },
  "varInspector": {
   "cols": {
    "lenName": 16,
    "lenType": 16,
    "lenVar": 40
   },
   "kernels_config": {
    "python": {
     "delete_cmd_postfix": "",
     "delete_cmd_prefix": "del ",
     "library": "var_list.py",
     "varRefreshCmd": "print(var_dic_list())"
    },
    "r": {
     "delete_cmd_postfix": ") ",
     "delete_cmd_prefix": "rm(",
     "library": "var_list.r",
     "varRefreshCmd": "cat(var_dic_list()) "
    }
   },
   "types_to_exclude": [
    "module",
    "function",
    "builtin_function_or_method",
    "instance",
    "_Feature"
   ],
   "window_display": false
  }
 },
 "nbformat": 4,
 "nbformat_minor": 4
}
